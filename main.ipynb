{
 "cells": [
  {
   "cell_type": "markdown",
   "metadata": {
    "id": "njXC1F5OCzn1"
   },
   "source": [
    "# Few Installations"
   ]
  },
  {
   "cell_type": "code",
   "execution_count": null,
   "metadata": {
    "id": "Die56MjL6fDB"
   },
   "outputs": [],
   "source": [
    "!pip install --quiet ipython-autotime"
   ]
  },
  {
   "cell_type": "code",
   "execution_count": null,
   "metadata": {
    "colab": {
     "base_uri": "https://localhost:8080/"
    },
    "id": "0bPsHkMd6j-B",
    "outputId": "d7ea8ad7-b8bd-4414-d295-568cd442db56"
   },
   "outputs": [],
   "source": [
    "!pip install -U openai-whisper"
   ]
  },
  {
   "cell_type": "markdown",
   "metadata": {
    "id": "TIKUAbIGDdPD"
   },
   "source": [
    "# Convert text to speech"
   ]
  },
  {
   "cell_type": "code",
   "execution_count": null,
   "metadata": {
    "colab": {
     "base_uri": "https://localhost:8080/"
    },
    "id": "GC-Q5aG0Dfxh",
    "outputId": "405f3f13-ef39-4a46-cede-9693bb3fb87e"
   },
   "outputs": [],
   "source": [
    "!pip install edge-tts asyncio"
   ]
  },
  {
   "cell_type": "code",
   "execution_count": null,
   "metadata": {
    "colab": {
     "base_uri": "https://localhost:8080/"
    },
    "id": "0dAy5JrNDyqL",
    "outputId": "f6bfd2ac-6e21-4981-a476-e2c7416da864"
   },
   "outputs": [],
   "source": [
    "import os\n",
    "import asyncio\n",
    "import edge_tts\n",
    "import nest_asyncio\n",
    "from google.colab import files\n",
    "\n",
    "nest_asyncio.apply()\n",
    "\n",
    "VOICE = \"en-US-JennyNeural\"\n",
    "OUTPUT_FILE = \"output.mp3\"\n",
    "\n",
    "async def convert_text_to_audio(text):\n",
    "    communicate = edge_tts.Communicate(text.strip(), VOICE)\n",
    "    await communicate.save(OUTPUT_FILE)\n",
    "    print(f\"Audio saved as {OUTPUT_FILE}\")\n",
    "\n",
    "text = \"Why did the dog sit in the shade? Because he didn’t want to become a hot dog!\"\n",
    "await convert_text_to_audio(text)"
   ]
  },
  {
   "cell_type": "markdown",
   "metadata": {
    "id": "scvSVy1aC606"
   },
   "source": [
    "# Install whisper and convert mp3 to subtitle"
   ]
  },
  {
   "cell_type": "code",
   "execution_count": null,
   "metadata": {
    "colab": {
     "base_uri": "https://localhost:8080/"
    },
    "id": "-ERzylYF6xtU",
    "outputId": "68001972-a961-48cf-b01b-253bf3f61ac9"
   },
   "outputs": [],
   "source": [
    "import whisper\n",
    "\n",
    "model = whisper.load_model(\"medium\")\n",
    "result = model.transcribe(\"output.mp3\",word_timestamps=True)\n",
    "print(result)\n",
    "\n",
    "print (result['text'])\n",
    "\n",
    "for each in result['segments']:\n",
    "  print (each)\n",
    "\n",
    "wordlevel_info = []\n",
    "\n",
    "for each in result['segments']:\n",
    "  words = each['words']\n",
    "  for word in words:\n",
    "    # print (word['word'], \"  \",word['start'],\" - \",word['end'])\n",
    "    wordlevel_info.append({'word':word['word'].strip(),'start':word['start'],'end':word['end']})"
   ]
  },
  {
   "cell_type": "code",
   "execution_count": null,
   "metadata": {
    "id": "T8SvOaAH7H43"
   },
   "outputs": [],
   "source": [
    "import json\n",
    "with open('data.json', 'w') as f:\n",
    "    json.dump(wordlevel_info, f,indent=4)"
   ]
  },
  {
   "cell_type": "code",
   "execution_count": null,
   "metadata": {
    "colab": {
     "base_uri": "https://localhost:8080/"
    },
    "id": "k9HP433y79Xu",
    "outputId": "6f377433-a223-473c-b506-8060bcebb281"
   },
   "outputs": [],
   "source": [
    "from google.colab import drive\n",
    "drive.mount('/content/drive')"
   ]
  },
  {
   "cell_type": "markdown",
   "metadata": {
    "id": "80ZENe2tDC3j"
   },
   "source": [
    "# Downloading Minecraft video"
   ]
  },
  {
   "cell_type": "code",
   "execution_count": null,
   "metadata": {
    "colab": {
     "base_uri": "https://localhost:8080/"
    },
    "id": "qr7of4GA8n-m",
    "outputId": "66d169a7-1d4d-4fdb-d10b-f245ea3c4633"
   },
   "outputs": [],
   "source": [
    "!pip install yt-dlp"
   ]
  },
  {
   "cell_type": "code",
   "execution_count": null,
   "metadata": {
    "colab": {
     "base_uri": "https://localhost:8080/"
    },
    "id": "r6kG_tNx8syT",
    "outputId": "9a848245-9bd0-42d1-d8e0-21353f8ba594"
   },
   "outputs": [],
   "source": [
    "import yt_dlp\n",
    "\n",
    "save_path = '/content/drive/MyDrive/minecraft.mp4'\n",
    "\n",
    "ydl_opts = {\n",
    "    'outtmpl': save_path,\n",
    "    'format': 'bestvideo+bestaudio/best',\n",
    "}\n",
    "\n",
    "url = 'https://www.youtube.com/watch?v=xKRNDalWE-E'\n",
    "\n",
    "with yt_dlp.YoutubeDL(ydl_opts) as ydl:\n",
    "    ydl.download([url])"
   ]
  },
  {
   "cell_type": "markdown",
   "metadata": {
    "id": "uSbtoUvIDHSk"
   },
   "source": [
    "# Moviepy"
   ]
  },
  {
   "cell_type": "code",
   "execution_count": null,
   "metadata": {
    "colab": {
     "base_uri": "https://localhost:8080/"
    },
    "id": "D-mWo_6Z9fXd",
    "outputId": "dce72189-aa35-4c0b-c684-37e0fd78115d"
   },
   "outputs": [],
   "source": [
    "!pip install moviepy"
   ]
  },
  {
   "cell_type": "code",
   "execution_count": null,
   "metadata": {
    "colab": {
     "base_uri": "https://localhost:8080/"
    },
    "id": "JztGS7z89jQ-",
    "outputId": "3294a0c8-a39a-4d08-af40-2caf2e963164"
   },
   "outputs": [],
   "source": [
    "from moviepy.editor import AudioFileClip\n",
    "\n",
    "audio = AudioFileClip(\"output.mp3\")\n",
    "audio_duration = audio.duration\n",
    "print(f\"MP3 Duration: {audio_duration} seconds\")"
   ]
  },
  {
   "cell_type": "code",
   "execution_count": null,
   "metadata": {
    "id": "f-vvi0H-NPyX"
   },
   "outputs": [],
   "source": [
    "import random\n",
    "import os\n",
    "\n",
    "video = '/content/drive/MyDrive/minecraft.mkv'"
   ]
  },
  {
   "cell_type": "code",
   "execution_count": null,
   "metadata": {
    "colab": {
     "base_uri": "https://localhost:8080/"
    },
    "id": "xLYWtDufN8SO",
    "outputId": "21fe97e1-a196-48ca-a212-af0b6a01a99d"
   },
   "outputs": [],
   "source": [
    "from moviepy.editor import VideoFileClip\n",
    "\n",
    "video = VideoFileClip(video)\n",
    "\n",
    "duration = video.duration\n",
    "\n",
    "print(f\"The duration of the video is: {duration} seconds\")"
   ]
  },
  {
   "cell_type": "code",
   "execution_count": null,
   "metadata": {
    "colab": {
     "base_uri": "https://localhost:8080/"
    },
    "id": "dhmd_7kbOTkp",
    "outputId": "8b5b22a5-72a4-480b-ef3a-e9fb1aead9aa"
   },
   "outputs": [],
   "source": [
    "import random\n",
    "\n",
    "if duration < audio_duration:\n",
    "    raise ValueError(\"The video is shorter than the required trim length.\")\n",
    "\n",
    "random_start = random.uniform(0, duration - audio_duration)\n",
    "\n",
    "\n",
    "trimmed_video = video.subclip(random_start, random_start + audio_duration)\n",
    "\n",
    "trimmed_video_path = \"trimmed_video.mp4\"\n",
    "trimmed_video.write_videofile(trimmed_video_path, codec=\"libx264\")\n",
    "\n",
    "video.close()\n",
    "trimmed_video.close()"
   ]
  },
  {
   "cell_type": "code",
   "execution_count": null,
   "metadata": {
    "colab": {
     "base_uri": "https://localhost:8080/"
    },
    "id": "nI6X-qGV95su",
    "outputId": "a043d060-e0a8-42da-a9c2-fb3a417511c5"
   },
   "outputs": [],
   "source": [
    "import json\n",
    "\n",
    "with open('data.json', 'r') as f:\n",
    "    subtitles_data = json.load(f)\n",
    "\n",
    "print(subtitles_data)"
   ]
  },
  {
   "cell_type": "markdown",
   "metadata": {
    "id": "DeeDmUy4DLWM"
   },
   "source": [
    "# Add subtitle to video"
   ]
  },
  {
   "cell_type": "code",
   "execution_count": null,
   "metadata": {
    "colab": {
     "base_uri": "https://localhost:8080/"
    },
    "id": "HBNylbc2-HXJ",
    "outputId": "b36a6441-b067-455d-d702-204ee0ddea58"
   },
   "outputs": [],
   "source": [
    "!apt-get install -y imagemagick"
   ]
  },
  {
   "cell_type": "code",
   "execution_count": null,
   "metadata": {
    "id": "4u3WPkKHCPmj"
   },
   "outputs": [],
   "source": [
    "!echo \"<policys>\" > /etc/ImageMagick-6/policy.xml\n",
    "!echo \"<policy domain='coder' rights='read|write' pattern='*' />\" >> /etc/ImageMagick-6/policy.xml\n",
    "!echo \"</policys>\" >> /etc/ImageMagick-6/policy.xml"
   ]
  },
  {
   "cell_type": "code",
   "execution_count": null,
   "metadata": {
    "colab": {
     "base_uri": "https://localhost:8080/"
    },
    "id": "dXkKlnYfAEyH",
    "outputId": "21efec8c-412b-4121-a73c-b1eb82a18f21"
   },
   "outputs": [],
   "source": [
    "from moviepy.editor import VideoFileClip, TextClip, CompositeVideoClip\n",
    "\n",
    "video = VideoFileClip(\"trimmed_video.mp4\")\n",
    "\n",
    "subtitles_clips = []\n",
    "\n",
    "for subtitle in subtitles_data:\n",
    "    text = TextClip(subtitle['word'], font=\"Poppins-Regular.ttf\", fontsize=100, color='white')\n",
    "    text = text.set_start(subtitle['start']).set_duration(subtitle['end'] - subtitle['start'])\n",
    "    text = text.set_position(('center', 'center'))\n",
    "    subtitles_clips.append(text)\n",
    "\n",
    "final_video = CompositeVideoClip([video] + subtitles_clips)\n",
    "final_video.write_videofile(\"minecraft_with_subtitles.mp4\", fps=video.fps)\n"
   ]
  },
  {
   "cell_type": "markdown",
   "metadata": {
    "id": "IISSBGYQDO3B"
   },
   "source": [
    "# Finally merge video and audio"
   ]
  },
  {
   "cell_type": "code",
   "execution_count": null,
   "metadata": {
    "colab": {
     "base_uri": "https://localhost:8080/"
    },
    "id": "poU_0uobWvLz",
    "outputId": "c3145a22-d5e9-4edb-c0a9-ebc40615ed02"
   },
   "outputs": [],
   "source": [
    "import yt_dlp\n",
    "\n",
    "save_path = '/content/drive/MyDrive/background.%(ext)s'\n",
    "\n",
    "ydl_opts = {\n",
    "    'outtmpl': save_path,\n",
    "    'format': 'bestaudio/best',\n",
    "    'postprocessors': [\n",
    "        {  # Extract audio using ffmpeg\n",
    "            'key': 'FFmpegExtractAudio',\n",
    "            'preferredcodec': 'mp3',\n",
    "            'preferredquality': '192',\n",
    "        }\n",
    "    ],\n",
    "}\n",
    "\n",
    "url = 'https://www.youtube.com/watch?v=vi84zA6iC7w'\n",
    "\n",
    "with yt_dlp.YoutubeDL(ydl_opts) as ydl:\n",
    "    ydl.download([url])"
   ]
  },
  {
   "cell_type": "code",
   "execution_count": null,
   "metadata": {
    "colab": {
     "base_uri": "https://localhost:8080/"
    },
    "id": "QUP96yySCfAr",
    "outputId": "ba238a66-d868-4b9f-ebcf-498cae47a325"
   },
   "outputs": [],
   "source": [
    "from moviepy.editor import VideoFileClip, AudioFileClip\n",
    "\n",
    "video = VideoFileClip(\"minecraft_with_subtitles.mp4\")\n",
    "\n",
    "audio = AudioFileClip(\"output.mp3\")\n",
    "\n",
    "final_video = video.set_audio(audio)\n",
    "\n",
    "final_video.write_videofile(\"output.mp4\", fps=video.fps)"
   ]
  },
  {
   "cell_type": "code",
   "execution_count": null,
   "metadata": {
    "colab": {
     "base_uri": "https://localhost:8080/"
    },
    "id": "myA8-notW-95",
    "outputId": "f86cf72b-dbb2-4c28-fbe6-26ff75f2938e"
   },
   "outputs": [],
   "source": [
    "from moviepy.editor import VideoFileClip, AudioFileClip, CompositeAudioClip\n",
    "\n",
    "video_clip = VideoFileClip(\"output.mp4\")\n",
    "original_audio = video_clip.audio\n",
    "\n",
    "background_audio = AudioFileClip(\"/content/drive/MyDrive/background.mp3\").volumex(0.11)\n",
    "\n",
    "background_audio = background_audio.set_duration(video_clip.duration)\n",
    "\n",
    "combined_audio = CompositeAudioClip([original_audio, background_audio])\n",
    "\n",
    "final_clip = video_clip.set_audio(combined_audio)\n",
    "\n",
    "final_clip.write_videofile(\"output_with_music.mp4\", codec=\"libx264\", audio_codec=\"aac\")"
   ]
  },
  {
   "cell_type": "code",
   "execution_count": null,
   "metadata": {
    "colab": {
     "base_uri": "https://localhost:8080/",
     "height": 17
    },
    "id": "kDoVPyDlCmCX",
    "outputId": "732366bc-f118-4426-975b-a5a71ae0912e"
   },
   "outputs": [],
   "source": [
    "from google.colab import files\n",
    "files.download(\"output_with_music.mp4\")"
   ]
  }
 ],
 "metadata": {
  "colab": {
   "provenance": []
  },
  "kernelspec": {
   "display_name": "Python 3",
   "name": "python3"
  },
  "language_info": {
   "name": "python"
  }
 },
 "nbformat": 4,
 "nbformat_minor": 0
}
