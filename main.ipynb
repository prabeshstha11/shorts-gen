{
  "cells": [
    {
      "cell_type": "markdown",
      "metadata": {
        "id": "njXC1F5OCzn1"
      },
      "source": [
        "# Few Installations"
      ]
    },
    {
      "cell_type": "code",
      "execution_count": null,
      "metadata": {
        "id": "Die56MjL6fDB"
      },
      "outputs": [],
      "source": [
        "!pip install --quiet ipython-autotime"
      ]
    },
    {
      "cell_type": "code",
      "execution_count": null,
      "metadata": {
        "colab": {
          "base_uri": "https://localhost:8080/"
        },
        "collapsed": true,
        "id": "0bPsHkMd6j-B",
        "outputId": "c7909c9b-717a-4a05-eab1-3db431b7b322"
      },
      "outputs": [
        {
          "output_type": "stream",
          "name": "stdout",
          "text": [
            "Collecting openai-whisper\n",
            "  Downloading openai-whisper-20240930.tar.gz (800 kB)\n",
            "\u001b[?25l     \u001b[90m━━━━━━━━━━━━━━━━━━━━━━━━━━━━━━━━━━━━━━━━\u001b[0m \u001b[32m0.0/800.5 kB\u001b[0m \u001b[31m?\u001b[0m eta \u001b[36m-:--:--\u001b[0m\r\u001b[2K     \u001b[91m━━━━━━━━\u001b[0m\u001b[90m╺\u001b[0m\u001b[90m━━━━━━━━━━━━━━━━━━━━━━━━━━━━━━━\u001b[0m \u001b[32m163.8/800.5 kB\u001b[0m \u001b[31m4.6 MB/s\u001b[0m eta \u001b[36m0:00:01\u001b[0m\r\u001b[2K     \u001b[91m━━━━━━━━━━━━━━━━━━━━━━━━━━━━━━━━━━━━━━━\u001b[0m\u001b[91m╸\u001b[0m \u001b[32m798.7/800.5 kB\u001b[0m \u001b[31m13.0 MB/s\u001b[0m eta \u001b[36m0:00:01\u001b[0m\r\u001b[2K     \u001b[90m━━━━━━━━━━━━━━━━━━━━━━━━━━━━━━━━━━━━━━━━\u001b[0m \u001b[32m800.5/800.5 kB\u001b[0m \u001b[31m10.0 MB/s\u001b[0m eta \u001b[36m0:00:00\u001b[0m\n",
            "\u001b[?25h  Installing build dependencies ... \u001b[?25l\u001b[?25hdone\n",
            "  Getting requirements to build wheel ... \u001b[?25l\u001b[?25hdone\n",
            "  Preparing metadata (pyproject.toml) ... \u001b[?25l\u001b[?25hdone\n",
            "Requirement already satisfied: numba in /usr/local/lib/python3.10/dist-packages (from openai-whisper) (0.60.0)\n",
            "Requirement already satisfied: numpy in /usr/local/lib/python3.10/dist-packages (from openai-whisper) (1.26.4)\n",
            "Requirement already satisfied: torch in /usr/local/lib/python3.10/dist-packages (from openai-whisper) (2.4.1+cu121)\n",
            "Requirement already satisfied: tqdm in /usr/local/lib/python3.10/dist-packages (from openai-whisper) (4.66.5)\n",
            "Requirement already satisfied: more-itertools in /usr/local/lib/python3.10/dist-packages (from openai-whisper) (10.5.0)\n",
            "Collecting tiktoken (from openai-whisper)\n",
            "  Downloading tiktoken-0.8.0-cp310-cp310-manylinux_2_17_x86_64.manylinux2014_x86_64.whl.metadata (6.6 kB)\n",
            "Collecting triton>=2.0.0 (from openai-whisper)\n",
            "  Downloading triton-3.0.0-1-cp310-cp310-manylinux2014_x86_64.manylinux_2_17_x86_64.whl.metadata (1.3 kB)\n",
            "Requirement already satisfied: filelock in /usr/local/lib/python3.10/dist-packages (from triton>=2.0.0->openai-whisper) (3.16.1)\n",
            "Requirement already satisfied: llvmlite<0.44,>=0.43.0dev0 in /usr/local/lib/python3.10/dist-packages (from numba->openai-whisper) (0.43.0)\n",
            "Requirement already satisfied: regex>=2022.1.18 in /usr/local/lib/python3.10/dist-packages (from tiktoken->openai-whisper) (2024.9.11)\n",
            "Requirement already satisfied: requests>=2.26.0 in /usr/local/lib/python3.10/dist-packages (from tiktoken->openai-whisper) (2.32.3)\n",
            "Requirement already satisfied: typing-extensions>=4.8.0 in /usr/local/lib/python3.10/dist-packages (from torch->openai-whisper) (4.12.2)\n",
            "Requirement already satisfied: sympy in /usr/local/lib/python3.10/dist-packages (from torch->openai-whisper) (1.13.3)\n",
            "Requirement already satisfied: networkx in /usr/local/lib/python3.10/dist-packages (from torch->openai-whisper) (3.3)\n",
            "Requirement already satisfied: jinja2 in /usr/local/lib/python3.10/dist-packages (from torch->openai-whisper) (3.1.4)\n",
            "Requirement already satisfied: fsspec in /usr/local/lib/python3.10/dist-packages (from torch->openai-whisper) (2024.6.1)\n",
            "Requirement already satisfied: charset-normalizer<4,>=2 in /usr/local/lib/python3.10/dist-packages (from requests>=2.26.0->tiktoken->openai-whisper) (3.3.2)\n",
            "Requirement already satisfied: idna<4,>=2.5 in /usr/local/lib/python3.10/dist-packages (from requests>=2.26.0->tiktoken->openai-whisper) (3.10)\n",
            "Requirement already satisfied: urllib3<3,>=1.21.1 in /usr/local/lib/python3.10/dist-packages (from requests>=2.26.0->tiktoken->openai-whisper) (2.2.3)\n",
            "Requirement already satisfied: certifi>=2017.4.17 in /usr/local/lib/python3.10/dist-packages (from requests>=2.26.0->tiktoken->openai-whisper) (2024.8.30)\n",
            "Requirement already satisfied: MarkupSafe>=2.0 in /usr/local/lib/python3.10/dist-packages (from jinja2->torch->openai-whisper) (2.1.5)\n",
            "Requirement already satisfied: mpmath<1.4,>=1.1.0 in /usr/local/lib/python3.10/dist-packages (from sympy->torch->openai-whisper) (1.3.0)\n",
            "Downloading triton-3.0.0-1-cp310-cp310-manylinux2014_x86_64.manylinux_2_17_x86_64.whl (209.4 MB)\n",
            "\u001b[2K   \u001b[90m━━━━━━━━━━━━━━━━━━━━━━━━━━━━━━━━━━━━━━━━\u001b[0m \u001b[32m209.4/209.4 MB\u001b[0m \u001b[31m5.0 MB/s\u001b[0m eta \u001b[36m0:00:00\u001b[0m\n",
            "\u001b[?25hDownloading tiktoken-0.8.0-cp310-cp310-manylinux_2_17_x86_64.manylinux2014_x86_64.whl (1.2 MB)\n",
            "\u001b[2K   \u001b[90m━━━━━━━━━━━━━━━━━━━━━━━━━━━━━━━━━━━━━━━━\u001b[0m \u001b[32m1.2/1.2 MB\u001b[0m \u001b[31m48.6 MB/s\u001b[0m eta \u001b[36m0:00:00\u001b[0m\n",
            "\u001b[?25hBuilding wheels for collected packages: openai-whisper\n",
            "  Building wheel for openai-whisper (pyproject.toml) ... \u001b[?25l\u001b[?25hdone\n",
            "  Created wheel for openai-whisper: filename=openai_whisper-20240930-py3-none-any.whl size=803321 sha256=3d636bc6697b62147e7a6a57b002e5e92b32b6bb14114d8705c640c413db4f9e\n",
            "  Stored in directory: /root/.cache/pip/wheels/dd/4a/1f/d1c4bf3b9133c8168fe617ed979cab7b14fe381d059ffb9d83\n",
            "Successfully built openai-whisper\n",
            "Installing collected packages: triton, tiktoken, openai-whisper\n",
            "Successfully installed openai-whisper-20240930 tiktoken-0.8.0 triton-3.0.0\n"
          ]
        }
      ],
      "source": [
        "!pip install -U openai-whisper"
      ]
    },
    {
      "cell_type": "markdown",
      "metadata": {
        "id": "TIKUAbIGDdPD"
      },
      "source": [
        "# Convert text to speech"
      ]
    },
    {
      "cell_type": "code",
      "execution_count": null,
      "metadata": {
        "colab": {
          "base_uri": "https://localhost:8080/",
          "height": 813
        },
        "collapsed": true,
        "id": "GC-Q5aG0Dfxh",
        "outputId": "64c07367-c878-4814-8747-c47a6ffccb0f"
      },
      "outputs": [
        {
          "output_type": "stream",
          "name": "stdout",
          "text": [
            "Collecting edge-tts\n",
            "  Downloading edge_tts-6.1.12-py3-none-any.whl.metadata (4.0 kB)\n",
            "Collecting asyncio\n",
            "  Downloading asyncio-3.4.3-py3-none-any.whl.metadata (1.7 kB)\n",
            "Collecting aiohttp>=3.8.0 (from edge-tts)\n",
            "  Downloading aiohttp-3.10.8-cp310-cp310-manylinux_2_17_x86_64.manylinux2014_x86_64.whl.metadata (7.6 kB)\n",
            "Requirement already satisfied: certifi>=2023.11.17 in /usr/local/lib/python3.10/dist-packages (from edge-tts) (2024.8.30)\n",
            "Collecting aiohappyeyeballs>=2.3.0 (from aiohttp>=3.8.0->edge-tts)\n",
            "  Downloading aiohappyeyeballs-2.4.3-py3-none-any.whl.metadata (6.1 kB)\n",
            "Collecting aiosignal>=1.1.2 (from aiohttp>=3.8.0->edge-tts)\n",
            "  Downloading aiosignal-1.3.1-py3-none-any.whl.metadata (4.0 kB)\n",
            "Requirement already satisfied: attrs>=17.3.0 in /usr/local/lib/python3.10/dist-packages (from aiohttp>=3.8.0->edge-tts) (24.2.0)\n",
            "Collecting frozenlist>=1.1.1 (from aiohttp>=3.8.0->edge-tts)\n",
            "  Downloading frozenlist-1.4.1-cp310-cp310-manylinux_2_5_x86_64.manylinux1_x86_64.manylinux_2_17_x86_64.manylinux2014_x86_64.whl.metadata (12 kB)\n",
            "Collecting multidict<7.0,>=4.5 (from aiohttp>=3.8.0->edge-tts)\n",
            "  Downloading multidict-6.1.0-cp310-cp310-manylinux_2_17_x86_64.manylinux2014_x86_64.whl.metadata (5.0 kB)\n",
            "Collecting yarl<2.0,>=1.12.0 (from aiohttp>=3.8.0->edge-tts)\n",
            "  Downloading yarl-1.13.1-cp310-cp310-manylinux_2_17_x86_64.manylinux2014_x86_64.whl.metadata (50 kB)\n",
            "\u001b[2K     \u001b[90m━━━━━━━━━━━━━━━━━━━━━━━━━━━━━━━━━━━━━━━━\u001b[0m \u001b[32m50.8/50.8 kB\u001b[0m \u001b[31m934.1 kB/s\u001b[0m eta \u001b[36m0:00:00\u001b[0m\n",
            "\u001b[?25hCollecting async-timeout<5.0,>=4.0 (from aiohttp>=3.8.0->edge-tts)\n",
            "  Downloading async_timeout-4.0.3-py3-none-any.whl.metadata (4.2 kB)\n",
            "Requirement already satisfied: typing-extensions>=4.1.0 in /usr/local/lib/python3.10/dist-packages (from multidict<7.0,>=4.5->aiohttp>=3.8.0->edge-tts) (4.12.2)\n",
            "Requirement already satisfied: idna>=2.0 in /usr/local/lib/python3.10/dist-packages (from yarl<2.0,>=1.12.0->aiohttp>=3.8.0->edge-tts) (3.10)\n",
            "Downloading edge_tts-6.1.12-py3-none-any.whl (29 kB)\n",
            "Downloading asyncio-3.4.3-py3-none-any.whl (101 kB)\n",
            "\u001b[2K   \u001b[90m━━━━━━━━━━━━━━━━━━━━━━━━━━━━━━━━━━━━━━━━\u001b[0m \u001b[32m101.8/101.8 kB\u001b[0m \u001b[31m2.2 MB/s\u001b[0m eta \u001b[36m0:00:00\u001b[0m\n",
            "\u001b[?25hDownloading aiohttp-3.10.8-cp310-cp310-manylinux_2_17_x86_64.manylinux2014_x86_64.whl (1.2 MB)\n",
            "\u001b[2K   \u001b[90m━━━━━━━━━━━━━━━━━━━━━━━━━━━━━━━━━━━━━━━━\u001b[0m \u001b[32m1.2/1.2 MB\u001b[0m \u001b[31m12.3 MB/s\u001b[0m eta \u001b[36m0:00:00\u001b[0m\n",
            "\u001b[?25hDownloading aiohappyeyeballs-2.4.3-py3-none-any.whl (14 kB)\n",
            "Downloading aiosignal-1.3.1-py3-none-any.whl (7.6 kB)\n",
            "Downloading async_timeout-4.0.3-py3-none-any.whl (5.7 kB)\n",
            "Downloading frozenlist-1.4.1-cp310-cp310-manylinux_2_5_x86_64.manylinux1_x86_64.manylinux_2_17_x86_64.manylinux2014_x86_64.whl (239 kB)\n",
            "\u001b[2K   \u001b[90m━━━━━━━━━━━━━━━━━━━━━━━━━━━━━━━━━━━━━━━━\u001b[0m \u001b[32m239.5/239.5 kB\u001b[0m \u001b[31m14.9 MB/s\u001b[0m eta \u001b[36m0:00:00\u001b[0m\n",
            "\u001b[?25hDownloading multidict-6.1.0-cp310-cp310-manylinux_2_17_x86_64.manylinux2014_x86_64.whl (124 kB)\n",
            "\u001b[2K   \u001b[90m━━━━━━━━━━━━━━━━━━━━━━━━━━━━━━━━━━━━━━━━\u001b[0m \u001b[32m124.6/124.6 kB\u001b[0m \u001b[31m7.7 MB/s\u001b[0m eta \u001b[36m0:00:00\u001b[0m\n",
            "\u001b[?25hDownloading yarl-1.13.1-cp310-cp310-manylinux_2_17_x86_64.manylinux2014_x86_64.whl (447 kB)\n",
            "\u001b[2K   \u001b[90m━━━━━━━━━━━━━━━━━━━━━━━━━━━━━━━━━━━━━━━━\u001b[0m \u001b[32m447.9/447.9 kB\u001b[0m \u001b[31m22.9 MB/s\u001b[0m eta \u001b[36m0:00:00\u001b[0m\n",
            "\u001b[?25hInstalling collected packages: asyncio, multidict, frozenlist, async-timeout, aiohappyeyeballs, yarl, aiosignal, aiohttp, edge-tts\n",
            "Successfully installed aiohappyeyeballs-2.4.3 aiohttp-3.10.8 aiosignal-1.3.1 async-timeout-4.0.3 asyncio-3.4.3 edge-tts-6.1.12 frozenlist-1.4.1 multidict-6.1.0 yarl-1.13.1\n"
          ]
        },
        {
          "output_type": "display_data",
          "data": {
            "application/vnd.colab-display-data+json": {
              "pip_warning": {
                "packages": [
                  "asyncio"
                ]
              },
              "id": "613cdfded27a4fb0ba0da8a93b5b8038"
            }
          },
          "metadata": {}
        }
      ],
      "source": [
        "!pip install edge-tts asyncio"
      ]
    },
    {
      "cell_type": "code",
      "execution_count": null,
      "metadata": {
        "colab": {
          "base_uri": "https://localhost:8080/"
        },
        "id": "0dAy5JrNDyqL",
        "outputId": "124260f0-635b-4b5d-b387-b6d6d3744fe1"
      },
      "outputs": [
        {
          "output_type": "stream",
          "name": "stdout",
          "text": [
            "Audio saved as output.mp3\n"
          ]
        }
      ],
      "source": [
        "import os\n",
        "import asyncio\n",
        "import edge_tts\n",
        "import nest_asyncio\n",
        "from google.colab import files\n",
        "\n",
        "nest_asyncio.apply()\n",
        "\n",
        "VOICE = \"en-US-JennyNeural\"\n",
        "OUTPUT_FILE = \"output.mp3\"\n",
        "\n",
        "async def convert_text_to_audio(text):\n",
        "    communicate = edge_tts.Communicate(text.strip(), VOICE)\n",
        "    await communicate.save(OUTPUT_FILE)\n",
        "    print(f\"Audio saved as {OUTPUT_FILE}\")\n",
        "\n",
        "text = \"\"\"Isn’t it funny that we don’t wash our hands; our hands just wash each other.\n",
        "\n",
        "Shower thoughts.\n",
        "\n",
        "You never actually stop clapping, the time between claps just gets longer.\n",
        "\n",
        "The word “silent” and the word “listen” use the exact same letters.\n",
        "\n",
        "One day, someone will think about you for the last time in human history.\n",
        "\n",
        "Every time you close your eyes, you’re temporarily cutting off your connection to the world.\n",
        "\n",
        "You spend your entire life gathering people for your funeral.\n",
        "\"\"\"\n",
        "await convert_text_to_audio(text)"
      ]
    },
    {
      "cell_type": "markdown",
      "metadata": {
        "id": "scvSVy1aC606"
      },
      "source": [
        "# Install whisper and convert mp3 to subtitle"
      ]
    },
    {
      "cell_type": "code",
      "execution_count": null,
      "metadata": {
        "colab": {
          "base_uri": "https://localhost:8080/"
        },
        "collapsed": true,
        "id": "-ERzylYF6xtU",
        "outputId": "ad4110ea-da00-421b-df13-90a686c7c694"
      },
      "outputs": [
        {
          "output_type": "stream",
          "name": "stderr",
          "text": [
            "100%|██████████████████████████████████████| 1.42G/1.42G [00:12<00:00, 119MiB/s]\n",
            "/usr/local/lib/python3.10/dist-packages/whisper/__init__.py:150: FutureWarning: You are using `torch.load` with `weights_only=False` (the current default value), which uses the default pickle module implicitly. It is possible to construct malicious pickle data which will execute arbitrary code during unpickling (See https://github.com/pytorch/pytorch/blob/main/SECURITY.md#untrusted-models for more details). In a future release, the default value for `weights_only` will be flipped to `True`. This limits the functions that could be executed during unpickling. Arbitrary objects will no longer be allowed to be loaded via this mode unless they are explicitly allowlisted by the user via `torch.serialization.add_safe_globals`. We recommend you start setting `weights_only=True` for any use case where you don't have full control of the loaded file. Please open an issue on GitHub for any issues related to this experimental feature.\n",
            "  checkpoint = torch.load(fp, map_location=device)\n",
            "/usr/local/lib/python3.10/dist-packages/whisper/transcribe.py:126: UserWarning: FP16 is not supported on CPU; using FP32 instead\n",
            "  warnings.warn(\"FP16 is not supported on CPU; using FP32 instead\")\n",
            "/usr/local/lib/python3.10/dist-packages/numba/np/ufunc/parallel.py:371: NumbaWarning: The TBB threading layer requires TBB version 2021 update 6 or later i.e., TBB_INTERFACE_VERSION >= 12060. Found TBB_INTERFACE_VERSION = 12050. The TBB threading layer is disabled.\n",
            "  warnings.warn(problem)\n"
          ]
        },
        {
          "output_type": "stream",
          "name": "stdout",
          "text": [
            "{'text': \" Isn't it funny that we don't wash our hands, our hands just wash each other? Shower thoughts. You never actually stop clapping, the time between claps just gets longer. The word silent and the word listen use the exact same letters. One day, someone will think about you for the last time in human history. Every time you close your eyes, you're temporarily cutting off your connection to the world. You spend your entire life gathering people for your funeral.\", 'segments': [{'id': 0, 'seek': 0, 'start': 0.0, 'end': 4.26, 'text': \" Isn't it funny that we don't wash our hands, our hands just wash each other?\", 'tokens': [50364, 6998, 380, 309, 4074, 300, 321, 500, 380, 5675, 527, 2377, 11, 527, 2377, 445, 5675, 1184, 661, 30, 50552], 'temperature': 0.0, 'avg_logprob': -0.0753339308279532, 'compression_ratio': 1.6405693950177935, 'no_speech_prob': 0.0015510518569499254, 'words': [{'word': \" Isn't\", 'start': 0.0, 'end': 0.46, 'probability': 0.8856450319290161}, {'word': ' it', 'start': 0.46, 'end': 0.66, 'probability': 0.9931249618530273}, {'word': ' funny', 'start': 0.66, 'end': 0.88, 'probability': 0.9964590668678284}, {'word': ' that', 'start': 0.88, 'end': 1.02, 'probability': 0.9993220567703247}, {'word': ' we', 'start': 1.02, 'end': 1.18, 'probability': 0.9980987906455994}, {'word': \" don't\", 'start': 1.18, 'end': 1.38, 'probability': 0.9958028793334961}, {'word': ' wash', 'start': 1.38, 'end': 1.66, 'probability': 0.9946470856666565}, {'word': ' our', 'start': 1.66, 'end': 1.9, 'probability': 0.9995335340499878}, {'word': ' hands,', 'start': 1.9, 'end': 2.22, 'probability': 0.9994096755981445}, {'word': ' our', 'start': 2.46, 'end': 2.64, 'probability': 0.9938685297966003}, {'word': ' hands', 'start': 2.64, 'end': 2.9, 'probability': 0.9994910955429077}, {'word': ' just', 'start': 2.9, 'end': 3.22, 'probability': 0.998515784740448}, {'word': ' wash', 'start': 3.22, 'end': 3.46, 'probability': 0.987834095954895}, {'word': ' each', 'start': 3.46, 'end': 3.68, 'probability': 0.9992032647132874}, {'word': ' other?', 'start': 3.68, 'end': 4.26, 'probability': 0.9978322386741638}]}, {'id': 1, 'seek': 0, 'start': 5.02, 'end': 11.18, 'text': ' Shower thoughts. You never actually stop clapping, the time between claps just gets longer.', 'tokens': [50604, 1160, 968, 4598, 13, 509, 1128, 767, 1590, 19978, 11, 264, 565, 1296, 38542, 445, 2170, 2854, 13, 50912], 'temperature': 0.0, 'avg_logprob': -0.0753339308279532, 'compression_ratio': 1.6405693950177935, 'no_speech_prob': 0.0015510518569499254, 'words': [{'word': ' Shower', 'start': 5.02, 'end': 5.32, 'probability': 0.8318917453289032}, {'word': ' thoughts.', 'start': 5.32, 'end': 5.78, 'probability': 0.7378735542297363}, {'word': ' You', 'start': 6.82, 'end': 6.92, 'probability': 0.957789421081543}, {'word': ' never', 'start': 6.92, 'end': 7.2, 'probability': 0.9973303079605103}, {'word': ' actually', 'start': 7.2, 'end': 7.66, 'probability': 0.9988791346549988}, {'word': ' stop', 'start': 7.66, 'end': 7.96, 'probability': 0.9978514909744263}, {'word': ' clapping,', 'start': 7.96, 'end': 8.4, 'probability': 0.9943650960922241}, {'word': ' the', 'start': 8.7, 'end': 8.94, 'probability': 0.9908998012542725}, {'word': ' time', 'start': 8.94, 'end': 9.14, 'probability': 0.998556911945343}, {'word': ' between', 'start': 9.14, 'end': 9.52, 'probability': 0.9988278746604919}, {'word': ' claps', 'start': 9.52, 'end': 10.0, 'probability': 0.9877555966377258}, {'word': ' just', 'start': 10.0, 'end': 10.42, 'probability': 0.920312225818634}, {'word': ' gets', 'start': 10.42, 'end': 10.62, 'probability': 0.9988487958908081}, {'word': ' longer.', 'start': 10.62, 'end': 11.18, 'probability': 0.9992640614509583}]}, {'id': 2, 'seek': 0, 'start': 12.06, 'end': 15.58, 'text': ' The word silent and the word listen use the exact same letters.', 'tokens': [50960, 440, 1349, 12784, 293, 264, 1349, 2140, 764, 264, 1900, 912, 7825, 13, 51136], 'temperature': 0.0, 'avg_logprob': -0.0753339308279532, 'compression_ratio': 1.6405693950177935, 'no_speech_prob': 0.0015510518569499254, 'words': [{'word': ' The', 'start': 12.06, 'end': 12.24, 'probability': 0.985684871673584}, {'word': ' word', 'start': 12.24, 'end': 12.48, 'probability': 0.8124101161956787}, {'word': ' silent', 'start': 12.48, 'end': 12.94, 'probability': 0.5300846695899963}, {'word': ' and', 'start': 12.94, 'end': 13.14, 'probability': 0.9874253869056702}, {'word': ' the', 'start': 13.14, 'end': 13.34, 'probability': 0.9995818734169006}, {'word': ' word', 'start': 13.34, 'end': 13.5, 'probability': 0.9988849759101868}, {'word': ' listen', 'start': 13.5, 'end': 13.96, 'probability': 0.9625643491744995}, {'word': ' use', 'start': 13.96, 'end': 14.26, 'probability': 0.9789363145828247}, {'word': ' the', 'start': 14.26, 'end': 14.5, 'probability': 0.9995406866073608}, {'word': ' exact', 'start': 14.5, 'end': 14.86, 'probability': 0.9952686429023743}, {'word': ' same', 'start': 14.86, 'end': 15.12, 'probability': 0.9993377327919006}, {'word': ' letters.', 'start': 15.12, 'end': 15.58, 'probability': 0.9989880919456482}]}, {'id': 3, 'seek': 0, 'start': 16.62, 'end': 20.4, 'text': ' One day, someone will think about you for the last time in human history.', 'tokens': [51188, 1485, 786, 11, 1580, 486, 519, 466, 291, 337, 264, 1036, 565, 294, 1952, 2503, 13, 51372], 'temperature': 0.0, 'avg_logprob': -0.0753339308279532, 'compression_ratio': 1.6405693950177935, 'no_speech_prob': 0.0015510518569499254, 'words': [{'word': ' One', 'start': 16.62, 'end': 16.86, 'probability': 0.9817250370979309}, {'word': ' day,', 'start': 16.86, 'end': 17.22, 'probability': 0.9971386194229126}, {'word': ' someone', 'start': 17.48, 'end': 17.66, 'probability': 0.9951836466789246}, {'word': ' will', 'start': 17.66, 'end': 17.84, 'probability': 0.9995710253715515}, {'word': ' think', 'start': 17.84, 'end': 18.06, 'probability': 0.999470055103302}, {'word': ' about', 'start': 18.06, 'end': 18.34, 'probability': 0.9996541738510132}, {'word': ' you', 'start': 18.34, 'end': 18.52, 'probability': 0.9995052814483643}, {'word': ' for', 'start': 18.52, 'end': 18.7, 'probability': 0.9981491565704346}, {'word': ' the', 'start': 18.7, 'end': 18.86, 'probability': 0.9997686743736267}, {'word': ' last', 'start': 18.86, 'end': 19.14, 'probability': 0.9986053109169006}, {'word': ' time', 'start': 19.14, 'end': 19.34, 'probability': 0.9998136162757874}, {'word': ' in', 'start': 19.34, 'end': 19.58, 'probability': 0.9990672469139099}, {'word': ' human', 'start': 19.58, 'end': 19.8, 'probability': 0.9962588548660278}, {'word': ' history.', 'start': 19.8, 'end': 20.4, 'probability': 0.9989769458770752}]}, {'id': 4, 'seek': 0, 'start': 21.34, 'end': 25.6, 'text': \" Every time you close your eyes, you're temporarily cutting off your connection to the world.\", 'tokens': [51420, 2048, 565, 291, 1998, 428, 2575, 11, 291, 434, 23750, 6492, 766, 428, 4984, 281, 264, 1002, 13, 51632], 'temperature': 0.0, 'avg_logprob': -0.0753339308279532, 'compression_ratio': 1.6405693950177935, 'no_speech_prob': 0.0015510518569499254, 'words': [{'word': ' Every', 'start': 21.34, 'end': 21.58, 'probability': 0.9961101412773132}, {'word': ' time', 'start': 21.58, 'end': 21.78, 'probability': 0.9874976873397827}, {'word': ' you', 'start': 21.78, 'end': 21.96, 'probability': 0.9995712637901306}, {'word': ' close', 'start': 21.96, 'end': 22.2, 'probability': 0.9984203577041626}, {'word': ' your', 'start': 22.2, 'end': 22.46, 'probability': 0.9997010231018066}, {'word': ' eyes,', 'start': 22.46, 'end': 22.8, 'probability': 0.9996696710586548}, {'word': \" you're\", 'start': 23.02, 'end': 23.16, 'probability': 0.9940569400787354}, {'word': ' temporarily', 'start': 23.16, 'end': 23.76, 'probability': 0.9990572333335876}, {'word': ' cutting', 'start': 23.76, 'end': 24.02, 'probability': 0.9995613694190979}, {'word': ' off', 'start': 24.02, 'end': 24.28, 'probability': 0.9977795481681824}, {'word': ' your', 'start': 24.28, 'end': 24.5, 'probability': 0.9994950294494629}, {'word': ' connection', 'start': 24.5, 'end': 24.88, 'probability': 0.9966345429420471}, {'word': ' to', 'start': 24.88, 'end': 25.04, 'probability': 0.9998236298561096}, {'word': ' the', 'start': 25.04, 'end': 25.24, 'probability': 0.9996894598007202}, {'word': ' world.', 'start': 25.24, 'end': 25.6, 'probability': 0.9961146116256714}]}, {'id': 5, 'seek': 0, 'start': 26.42, 'end': 29.28, 'text': ' You spend your entire life gathering people for your funeral.', 'tokens': [51680, 509, 3496, 428, 2302, 993, 13519, 561, 337, 428, 20231, 13, 51820], 'temperature': 0.0, 'avg_logprob': -0.0753339308279532, 'compression_ratio': 1.6405693950177935, 'no_speech_prob': 0.0015510518569499254, 'words': [{'word': ' You', 'start': 26.42, 'end': 26.66, 'probability': 0.9946234226226807}, {'word': ' spend', 'start': 26.66, 'end': 26.88, 'probability': 0.993300199508667}, {'word': ' your', 'start': 26.88, 'end': 27.08, 'probability': 0.9995984435081482}, {'word': ' entire', 'start': 27.08, 'end': 27.46, 'probability': 0.9983628392219543}, {'word': ' life', 'start': 27.46, 'end': 27.78, 'probability': 0.999610960483551}, {'word': ' gathering', 'start': 27.78, 'end': 28.12, 'probability': 0.9991942048072815}, {'word': ' people', 'start': 28.12, 'end': 28.46, 'probability': 0.9994196891784668}, {'word': ' for', 'start': 28.46, 'end': 28.64, 'probability': 0.9998059868812561}, {'word': ' your', 'start': 28.64, 'end': 28.84, 'probability': 0.9992963075637817}, {'word': ' funeral.', 'start': 28.84, 'end': 29.28, 'probability': 0.9982458353042603}]}], 'language': 'en'}\n",
            " Isn't it funny that we don't wash our hands, our hands just wash each other? Shower thoughts. You never actually stop clapping, the time between claps just gets longer. The word silent and the word listen use the exact same letters. One day, someone will think about you for the last time in human history. Every time you close your eyes, you're temporarily cutting off your connection to the world. You spend your entire life gathering people for your funeral.\n",
            "{'id': 0, 'seek': 0, 'start': 0.0, 'end': 4.26, 'text': \" Isn't it funny that we don't wash our hands, our hands just wash each other?\", 'tokens': [50364, 6998, 380, 309, 4074, 300, 321, 500, 380, 5675, 527, 2377, 11, 527, 2377, 445, 5675, 1184, 661, 30, 50552], 'temperature': 0.0, 'avg_logprob': -0.0753339308279532, 'compression_ratio': 1.6405693950177935, 'no_speech_prob': 0.0015510518569499254, 'words': [{'word': \" Isn't\", 'start': 0.0, 'end': 0.46, 'probability': 0.8856450319290161}, {'word': ' it', 'start': 0.46, 'end': 0.66, 'probability': 0.9931249618530273}, {'word': ' funny', 'start': 0.66, 'end': 0.88, 'probability': 0.9964590668678284}, {'word': ' that', 'start': 0.88, 'end': 1.02, 'probability': 0.9993220567703247}, {'word': ' we', 'start': 1.02, 'end': 1.18, 'probability': 0.9980987906455994}, {'word': \" don't\", 'start': 1.18, 'end': 1.38, 'probability': 0.9958028793334961}, {'word': ' wash', 'start': 1.38, 'end': 1.66, 'probability': 0.9946470856666565}, {'word': ' our', 'start': 1.66, 'end': 1.9, 'probability': 0.9995335340499878}, {'word': ' hands,', 'start': 1.9, 'end': 2.22, 'probability': 0.9994096755981445}, {'word': ' our', 'start': 2.46, 'end': 2.64, 'probability': 0.9938685297966003}, {'word': ' hands', 'start': 2.64, 'end': 2.9, 'probability': 0.9994910955429077}, {'word': ' just', 'start': 2.9, 'end': 3.22, 'probability': 0.998515784740448}, {'word': ' wash', 'start': 3.22, 'end': 3.46, 'probability': 0.987834095954895}, {'word': ' each', 'start': 3.46, 'end': 3.68, 'probability': 0.9992032647132874}, {'word': ' other?', 'start': 3.68, 'end': 4.26, 'probability': 0.9978322386741638}]}\n",
            "{'id': 1, 'seek': 0, 'start': 5.02, 'end': 11.18, 'text': ' Shower thoughts. You never actually stop clapping, the time between claps just gets longer.', 'tokens': [50604, 1160, 968, 4598, 13, 509, 1128, 767, 1590, 19978, 11, 264, 565, 1296, 38542, 445, 2170, 2854, 13, 50912], 'temperature': 0.0, 'avg_logprob': -0.0753339308279532, 'compression_ratio': 1.6405693950177935, 'no_speech_prob': 0.0015510518569499254, 'words': [{'word': ' Shower', 'start': 5.02, 'end': 5.32, 'probability': 0.8318917453289032}, {'word': ' thoughts.', 'start': 5.32, 'end': 5.78, 'probability': 0.7378735542297363}, {'word': ' You', 'start': 6.82, 'end': 6.92, 'probability': 0.957789421081543}, {'word': ' never', 'start': 6.92, 'end': 7.2, 'probability': 0.9973303079605103}, {'word': ' actually', 'start': 7.2, 'end': 7.66, 'probability': 0.9988791346549988}, {'word': ' stop', 'start': 7.66, 'end': 7.96, 'probability': 0.9978514909744263}, {'word': ' clapping,', 'start': 7.96, 'end': 8.4, 'probability': 0.9943650960922241}, {'word': ' the', 'start': 8.7, 'end': 8.94, 'probability': 0.9908998012542725}, {'word': ' time', 'start': 8.94, 'end': 9.14, 'probability': 0.998556911945343}, {'word': ' between', 'start': 9.14, 'end': 9.52, 'probability': 0.9988278746604919}, {'word': ' claps', 'start': 9.52, 'end': 10.0, 'probability': 0.9877555966377258}, {'word': ' just', 'start': 10.0, 'end': 10.42, 'probability': 0.920312225818634}, {'word': ' gets', 'start': 10.42, 'end': 10.62, 'probability': 0.9988487958908081}, {'word': ' longer.', 'start': 10.62, 'end': 11.18, 'probability': 0.9992640614509583}]}\n",
            "{'id': 2, 'seek': 0, 'start': 12.06, 'end': 15.58, 'text': ' The word silent and the word listen use the exact same letters.', 'tokens': [50960, 440, 1349, 12784, 293, 264, 1349, 2140, 764, 264, 1900, 912, 7825, 13, 51136], 'temperature': 0.0, 'avg_logprob': -0.0753339308279532, 'compression_ratio': 1.6405693950177935, 'no_speech_prob': 0.0015510518569499254, 'words': [{'word': ' The', 'start': 12.06, 'end': 12.24, 'probability': 0.985684871673584}, {'word': ' word', 'start': 12.24, 'end': 12.48, 'probability': 0.8124101161956787}, {'word': ' silent', 'start': 12.48, 'end': 12.94, 'probability': 0.5300846695899963}, {'word': ' and', 'start': 12.94, 'end': 13.14, 'probability': 0.9874253869056702}, {'word': ' the', 'start': 13.14, 'end': 13.34, 'probability': 0.9995818734169006}, {'word': ' word', 'start': 13.34, 'end': 13.5, 'probability': 0.9988849759101868}, {'word': ' listen', 'start': 13.5, 'end': 13.96, 'probability': 0.9625643491744995}, {'word': ' use', 'start': 13.96, 'end': 14.26, 'probability': 0.9789363145828247}, {'word': ' the', 'start': 14.26, 'end': 14.5, 'probability': 0.9995406866073608}, {'word': ' exact', 'start': 14.5, 'end': 14.86, 'probability': 0.9952686429023743}, {'word': ' same', 'start': 14.86, 'end': 15.12, 'probability': 0.9993377327919006}, {'word': ' letters.', 'start': 15.12, 'end': 15.58, 'probability': 0.9989880919456482}]}\n",
            "{'id': 3, 'seek': 0, 'start': 16.62, 'end': 20.4, 'text': ' One day, someone will think about you for the last time in human history.', 'tokens': [51188, 1485, 786, 11, 1580, 486, 519, 466, 291, 337, 264, 1036, 565, 294, 1952, 2503, 13, 51372], 'temperature': 0.0, 'avg_logprob': -0.0753339308279532, 'compression_ratio': 1.6405693950177935, 'no_speech_prob': 0.0015510518569499254, 'words': [{'word': ' One', 'start': 16.62, 'end': 16.86, 'probability': 0.9817250370979309}, {'word': ' day,', 'start': 16.86, 'end': 17.22, 'probability': 0.9971386194229126}, {'word': ' someone', 'start': 17.48, 'end': 17.66, 'probability': 0.9951836466789246}, {'word': ' will', 'start': 17.66, 'end': 17.84, 'probability': 0.9995710253715515}, {'word': ' think', 'start': 17.84, 'end': 18.06, 'probability': 0.999470055103302}, {'word': ' about', 'start': 18.06, 'end': 18.34, 'probability': 0.9996541738510132}, {'word': ' you', 'start': 18.34, 'end': 18.52, 'probability': 0.9995052814483643}, {'word': ' for', 'start': 18.52, 'end': 18.7, 'probability': 0.9981491565704346}, {'word': ' the', 'start': 18.7, 'end': 18.86, 'probability': 0.9997686743736267}, {'word': ' last', 'start': 18.86, 'end': 19.14, 'probability': 0.9986053109169006}, {'word': ' time', 'start': 19.14, 'end': 19.34, 'probability': 0.9998136162757874}, {'word': ' in', 'start': 19.34, 'end': 19.58, 'probability': 0.9990672469139099}, {'word': ' human', 'start': 19.58, 'end': 19.8, 'probability': 0.9962588548660278}, {'word': ' history.', 'start': 19.8, 'end': 20.4, 'probability': 0.9989769458770752}]}\n",
            "{'id': 4, 'seek': 0, 'start': 21.34, 'end': 25.6, 'text': \" Every time you close your eyes, you're temporarily cutting off your connection to the world.\", 'tokens': [51420, 2048, 565, 291, 1998, 428, 2575, 11, 291, 434, 23750, 6492, 766, 428, 4984, 281, 264, 1002, 13, 51632], 'temperature': 0.0, 'avg_logprob': -0.0753339308279532, 'compression_ratio': 1.6405693950177935, 'no_speech_prob': 0.0015510518569499254, 'words': [{'word': ' Every', 'start': 21.34, 'end': 21.58, 'probability': 0.9961101412773132}, {'word': ' time', 'start': 21.58, 'end': 21.78, 'probability': 0.9874976873397827}, {'word': ' you', 'start': 21.78, 'end': 21.96, 'probability': 0.9995712637901306}, {'word': ' close', 'start': 21.96, 'end': 22.2, 'probability': 0.9984203577041626}, {'word': ' your', 'start': 22.2, 'end': 22.46, 'probability': 0.9997010231018066}, {'word': ' eyes,', 'start': 22.46, 'end': 22.8, 'probability': 0.9996696710586548}, {'word': \" you're\", 'start': 23.02, 'end': 23.16, 'probability': 0.9940569400787354}, {'word': ' temporarily', 'start': 23.16, 'end': 23.76, 'probability': 0.9990572333335876}, {'word': ' cutting', 'start': 23.76, 'end': 24.02, 'probability': 0.9995613694190979}, {'word': ' off', 'start': 24.02, 'end': 24.28, 'probability': 0.9977795481681824}, {'word': ' your', 'start': 24.28, 'end': 24.5, 'probability': 0.9994950294494629}, {'word': ' connection', 'start': 24.5, 'end': 24.88, 'probability': 0.9966345429420471}, {'word': ' to', 'start': 24.88, 'end': 25.04, 'probability': 0.9998236298561096}, {'word': ' the', 'start': 25.04, 'end': 25.24, 'probability': 0.9996894598007202}, {'word': ' world.', 'start': 25.24, 'end': 25.6, 'probability': 0.9961146116256714}]}\n",
            "{'id': 5, 'seek': 0, 'start': 26.42, 'end': 29.28, 'text': ' You spend your entire life gathering people for your funeral.', 'tokens': [51680, 509, 3496, 428, 2302, 993, 13519, 561, 337, 428, 20231, 13, 51820], 'temperature': 0.0, 'avg_logprob': -0.0753339308279532, 'compression_ratio': 1.6405693950177935, 'no_speech_prob': 0.0015510518569499254, 'words': [{'word': ' You', 'start': 26.42, 'end': 26.66, 'probability': 0.9946234226226807}, {'word': ' spend', 'start': 26.66, 'end': 26.88, 'probability': 0.993300199508667}, {'word': ' your', 'start': 26.88, 'end': 27.08, 'probability': 0.9995984435081482}, {'word': ' entire', 'start': 27.08, 'end': 27.46, 'probability': 0.9983628392219543}, {'word': ' life', 'start': 27.46, 'end': 27.78, 'probability': 0.999610960483551}, {'word': ' gathering', 'start': 27.78, 'end': 28.12, 'probability': 0.9991942048072815}, {'word': ' people', 'start': 28.12, 'end': 28.46, 'probability': 0.9994196891784668}, {'word': ' for', 'start': 28.46, 'end': 28.64, 'probability': 0.9998059868812561}, {'word': ' your', 'start': 28.64, 'end': 28.84, 'probability': 0.9992963075637817}, {'word': ' funeral.', 'start': 28.84, 'end': 29.28, 'probability': 0.9982458353042603}]}\n"
          ]
        }
      ],
      "source": [
        "import whisper\n",
        "\n",
        "model = whisper.load_model(\"medium\")\n",
        "result = model.transcribe(\"output.mp3\",word_timestamps=True)\n",
        "print(result)\n",
        "\n",
        "print (result['text'])\n",
        "\n",
        "for each in result['segments']:\n",
        "  print (each)\n",
        "\n",
        "wordlevel_info = []\n",
        "\n",
        "for each in result['segments']:\n",
        "  words = each['words']\n",
        "  for word in words:\n",
        "    wordlevel_info.append({'word':word['word'].strip(),'start':word['start'],'end':word['end']})"
      ]
    },
    {
      "cell_type": "code",
      "execution_count": null,
      "metadata": {
        "id": "T8SvOaAH7H43"
      },
      "outputs": [],
      "source": [
        "import json\n",
        "with open('data.json', 'w') as f:\n",
        "    json.dump(wordlevel_info, f,indent=4)"
      ]
    },
    {
      "cell_type": "code",
      "execution_count": null,
      "metadata": {
        "colab": {
          "base_uri": "https://localhost:8080/"
        },
        "id": "k9HP433y79Xu",
        "outputId": "b16f9683-bd82-4198-c8ef-e325d691bbce"
      },
      "outputs": [
        {
          "output_type": "stream",
          "name": "stdout",
          "text": [
            "Mounted at /content/drive\n"
          ]
        }
      ],
      "source": [
        "from google.colab import drive\n",
        "drive.mount('/content/drive')"
      ]
    },
    {
      "cell_type": "markdown",
      "metadata": {
        "id": "80ZENe2tDC3j"
      },
      "source": [
        "# Downloading Minecraft video"
      ]
    },
    {
      "cell_type": "code",
      "execution_count": null,
      "metadata": {
        "colab": {
          "base_uri": "https://localhost:8080/"
        },
        "collapsed": true,
        "id": "qr7of4GA8n-m",
        "outputId": "8cf4cdd5-1c14-4f72-83c3-7047e8f0ba36"
      },
      "outputs": [
        {
          "output_type": "stream",
          "name": "stdout",
          "text": [
            "Collecting yt-dlp\n",
            "  Downloading yt_dlp-2024.9.27-py3-none-any.whl.metadata (171 kB)\n",
            "\u001b[?25l     \u001b[90m━━━━━━━━━━━━━━━━━━━━━━━━━━━━━━━━━━━━━━━━\u001b[0m \u001b[32m0.0/171.2 kB\u001b[0m \u001b[31m?\u001b[0m eta \u001b[36m-:--:--\u001b[0m\r\u001b[2K     \u001b[90m━━━━━━━━━━━━━━━━━━━━━━━━━━━━━━━━━━━━━━━━\u001b[0m \u001b[32m171.2/171.2 kB\u001b[0m \u001b[31m4.9 MB/s\u001b[0m eta \u001b[36m0:00:00\u001b[0m\n",
            "\u001b[?25hCollecting brotli (from yt-dlp)\n",
            "  Downloading Brotli-1.1.0-cp310-cp310-manylinux_2_5_x86_64.manylinux1_x86_64.manylinux_2_12_x86_64.manylinux2010_x86_64.whl.metadata (5.5 kB)\n",
            "Requirement already satisfied: certifi in /usr/local/lib/python3.10/dist-packages (from yt-dlp) (2024.8.30)\n",
            "Collecting mutagen (from yt-dlp)\n",
            "  Downloading mutagen-1.47.0-py3-none-any.whl.metadata (1.7 kB)\n",
            "Collecting pycryptodomex (from yt-dlp)\n",
            "  Downloading pycryptodomex-3.21.0-cp36-abi3-manylinux_2_17_x86_64.manylinux2014_x86_64.whl.metadata (3.4 kB)\n",
            "Requirement already satisfied: requests<3,>=2.32.2 in /usr/local/lib/python3.10/dist-packages (from yt-dlp) (2.32.3)\n",
            "Requirement already satisfied: urllib3<3,>=1.26.17 in /usr/local/lib/python3.10/dist-packages (from yt-dlp) (2.2.3)\n",
            "Collecting websockets>=13.0 (from yt-dlp)\n",
            "  Downloading websockets-13.1-cp310-cp310-manylinux_2_5_x86_64.manylinux1_x86_64.manylinux_2_17_x86_64.manylinux2014_x86_64.whl.metadata (6.8 kB)\n",
            "Requirement already satisfied: charset-normalizer<4,>=2 in /usr/local/lib/python3.10/dist-packages (from requests<3,>=2.32.2->yt-dlp) (3.3.2)\n",
            "Requirement already satisfied: idna<4,>=2.5 in /usr/local/lib/python3.10/dist-packages (from requests<3,>=2.32.2->yt-dlp) (3.10)\n",
            "Downloading yt_dlp-2024.9.27-py3-none-any.whl (3.1 MB)\n",
            "\u001b[2K   \u001b[90m━━━━━━━━━━━━━━━━━━━━━━━━━━━━━━━━━━━━━━━━\u001b[0m \u001b[32m3.1/3.1 MB\u001b[0m \u001b[31m51.0 MB/s\u001b[0m eta \u001b[36m0:00:00\u001b[0m\n",
            "\u001b[?25hDownloading websockets-13.1-cp310-cp310-manylinux_2_5_x86_64.manylinux1_x86_64.manylinux_2_17_x86_64.manylinux2014_x86_64.whl (164 kB)\n",
            "\u001b[2K   \u001b[90m━━━━━━━━━━━━━━━━━━━━━━━━━━━━━━━━━━━━━━━━\u001b[0m \u001b[32m164.1/164.1 kB\u001b[0m \u001b[31m16.5 MB/s\u001b[0m eta \u001b[36m0:00:00\u001b[0m\n",
            "\u001b[?25hDownloading Brotli-1.1.0-cp310-cp310-manylinux_2_5_x86_64.manylinux1_x86_64.manylinux_2_12_x86_64.manylinux2010_x86_64.whl (3.0 MB)\n",
            "\u001b[2K   \u001b[90m━━━━━━━━━━━━━━━━━━━━━━━━━━━━━━━━━━━━━━━━\u001b[0m \u001b[32m3.0/3.0 MB\u001b[0m \u001b[31m78.7 MB/s\u001b[0m eta \u001b[36m0:00:00\u001b[0m\n",
            "\u001b[?25hDownloading mutagen-1.47.0-py3-none-any.whl (194 kB)\n",
            "\u001b[2K   \u001b[90m━━━━━━━━━━━━━━━━━━━━━━━━━━━━━━━━━━━━━━━━\u001b[0m \u001b[32m194.4/194.4 kB\u001b[0m \u001b[31m17.9 MB/s\u001b[0m eta \u001b[36m0:00:00\u001b[0m\n",
            "\u001b[?25hDownloading pycryptodomex-3.21.0-cp36-abi3-manylinux_2_17_x86_64.manylinux2014_x86_64.whl (2.3 MB)\n",
            "\u001b[2K   \u001b[90m━━━━━━━━━━━━━━━━━━━━━━━━━━━━━━━━━━━━━━━━\u001b[0m \u001b[32m2.3/2.3 MB\u001b[0m \u001b[31m73.5 MB/s\u001b[0m eta \u001b[36m0:00:00\u001b[0m\n",
            "\u001b[?25hInstalling collected packages: brotli, websockets, pycryptodomex, mutagen, yt-dlp\n",
            "Successfully installed brotli-1.1.0 mutagen-1.47.0 pycryptodomex-3.21.0 websockets-13.1 yt-dlp-2024.9.27\n"
          ]
        }
      ],
      "source": [
        "!pip install yt-dlp"
      ]
    },
    {
      "cell_type": "code",
      "execution_count": null,
      "metadata": {
        "colab": {
          "base_uri": "https://localhost:8080/"
        },
        "collapsed": true,
        "id": "r6kG_tNx8syT",
        "outputId": "9a848245-9bd0-42d1-d8e0-21353f8ba594"
      },
      "outputs": [
        {
          "name": "stdout",
          "output_type": "stream",
          "text": [
            "[youtube] Extracting URL: https://www.youtube.com/watch?v=xKRNDalWE-E\n",
            "[youtube] xKRNDalWE-E: Downloading webpage\n",
            "[youtube] xKRNDalWE-E: Downloading ios player API JSON\n",
            "[youtube] xKRNDalWE-E: Downloading web creator player API JSON\n",
            "[youtube] xKRNDalWE-E: Downloading m3u8 information\n",
            "[info] xKRNDalWE-E: Downloading 1 format(s): 303+140\n",
            "[download] Destination: /content/drive/MyDrive/minecraft.mp4.f303.webm\n",
            "[download] 100% of  331.98MiB in 00:00:09 at 36.10MiB/s  \n",
            "[download] Destination: /content/drive/MyDrive/minecraft.mp4.f140.m4a\n",
            "[download] 100% of   13.92MiB in 00:00:00 at 24.02MiB/s  \n",
            "[Merger] Merging formats into \"/content/drive/MyDrive/minecraft.mp4.mkv\"\n",
            "Deleting original file /content/drive/MyDrive/minecraft.mp4.f140.m4a (pass -k to keep)\n",
            "Deleting original file /content/drive/MyDrive/minecraft.mp4.f303.webm (pass -k to keep)\n"
          ]
        }
      ],
      "source": [
        "import yt_dlp\n",
        "\n",
        "save_path = '/content/drive/MyDrive/minecraft.mp4'\n",
        "\n",
        "ydl_opts = {\n",
        "    'outtmpl': save_path,\n",
        "    'format': 'bestvideo+bestaudio/best',\n",
        "}\n",
        "\n",
        "url = 'https://www.youtube.com/watch?v=xKRNDalWE-E'\n",
        "\n",
        "with yt_dlp.YoutubeDL(ydl_opts) as ydl:\n",
        "    ydl.download([url])"
      ]
    },
    {
      "cell_type": "markdown",
      "metadata": {
        "id": "uSbtoUvIDHSk"
      },
      "source": [
        "# Moviepy"
      ]
    },
    {
      "cell_type": "code",
      "execution_count": null,
      "metadata": {
        "collapsed": true,
        "id": "HBNylbc2-HXJ"
      },
      "outputs": [],
      "source": [
        "!apt update &> /dev/null\n",
        "!apt install imagemagick &> /dev/null\n",
        "!apt install ffmpeg &> /dev/null\n",
        "!pip3 install moviepy[optional] &> /dev/null\n",
        "!sed -i '/<policy domain=\"path\" rights=\"none\" pattern=\"@\\*\"/d' /etc/ImageMagick-6/policy.xml"
      ]
    },
    {
      "cell_type": "code",
      "execution_count": null,
      "metadata": {
        "colab": {
          "base_uri": "https://localhost:8080/",
          "height": 727
        },
        "collapsed": true,
        "id": "D-mWo_6Z9fXd",
        "outputId": "1effe5d7-0b2a-4ff5-d593-e822c5831551"
      },
      "outputs": [
        {
          "output_type": "stream",
          "name": "stdout",
          "text": [
            "Collecting moviepy\n",
            "  Using cached moviepy-1.0.3.tar.gz (388 kB)\n",
            "  Preparing metadata (setup.py) ... \u001b[?25l\u001b[?25hdone\n",
            "Collecting decorator<5.0,>=4.0.2 (from moviepy)\n",
            "  Using cached decorator-4.4.2-py2.py3-none-any.whl.metadata (4.2 kB)\n",
            "Requirement already satisfied: tqdm<5.0,>=4.11.2 in /usr/local/lib/python3.10/dist-packages (from moviepy) (4.66.5)\n",
            "Requirement already satisfied: requests<3.0,>=2.8.1 in /usr/local/lib/python3.10/dist-packages (from moviepy) (2.32.3)\n",
            "Collecting proglog<=1.0.0 (from moviepy)\n",
            "  Using cached proglog-0.1.10-py3-none-any.whl.metadata (639 bytes)\n",
            "Requirement already satisfied: numpy>=1.17.3 in /usr/local/lib/python3.10/dist-packages (from moviepy) (1.26.4)\n",
            "Requirement already satisfied: imageio<3.0,>=2.5 in /usr/local/lib/python3.10/dist-packages (from moviepy) (2.35.1)\n",
            "Collecting imageio_ffmpeg>=0.2.0 (from moviepy)\n",
            "  Using cached imageio_ffmpeg-0.5.1-py3-none-manylinux2010_x86_64.whl.metadata (1.6 kB)\n",
            "Requirement already satisfied: pillow>=8.3.2 in /usr/local/lib/python3.10/dist-packages (from imageio<3.0,>=2.5->moviepy) (10.4.0)\n",
            "Requirement already satisfied: setuptools in /usr/local/lib/python3.10/dist-packages (from imageio_ffmpeg>=0.2.0->moviepy) (71.0.4)\n",
            "Requirement already satisfied: charset-normalizer<4,>=2 in /usr/local/lib/python3.10/dist-packages (from requests<3.0,>=2.8.1->moviepy) (3.3.2)\n",
            "Requirement already satisfied: idna<4,>=2.5 in /usr/local/lib/python3.10/dist-packages (from requests<3.0,>=2.8.1->moviepy) (3.10)\n",
            "Requirement already satisfied: urllib3<3,>=1.21.1 in /usr/local/lib/python3.10/dist-packages (from requests<3.0,>=2.8.1->moviepy) (2.2.3)\n",
            "Requirement already satisfied: certifi>=2017.4.17 in /usr/local/lib/python3.10/dist-packages (from requests<3.0,>=2.8.1->moviepy) (2024.8.30)\n",
            "Downloading decorator-4.4.2-py2.py3-none-any.whl (9.2 kB)\n",
            "Downloading imageio_ffmpeg-0.5.1-py3-none-manylinux2010_x86_64.whl (26.9 MB)\n",
            "\u001b[2K   \u001b[90m━━━━━━━━━━━━━━━━━━━━━━━━━━━━━━━━━━━━━━━━\u001b[0m \u001b[32m26.9/26.9 MB\u001b[0m \u001b[31m62.1 MB/s\u001b[0m eta \u001b[36m0:00:00\u001b[0m\n",
            "\u001b[?25hDownloading proglog-0.1.10-py3-none-any.whl (6.1 kB)\n",
            "Building wheels for collected packages: moviepy\n",
            "  Building wheel for moviepy (setup.py) ... \u001b[?25l\u001b[?25hdone\n",
            "  Created wheel for moviepy: filename=moviepy-1.0.3-py3-none-any.whl size=110712 sha256=cbe8145d8b055c76c5633279d5343a82ca69f819406b9d6920c58464cf571838\n",
            "  Stored in directory: /root/.cache/pip/wheels/96/32/2d/e10123bd88fbfc02fed53cc18c80a171d3c87479ed845fa7c1\n",
            "Successfully built moviepy\n",
            "Installing collected packages: proglog, imageio_ffmpeg, decorator, moviepy\n",
            "  Attempting uninstall: decorator\n",
            "    Found existing installation: decorator 5.1.1\n",
            "    Uninstalling decorator-5.1.1:\n",
            "      Successfully uninstalled decorator-5.1.1\n",
            "Successfully installed decorator-4.4.2 imageio_ffmpeg-0.5.1 moviepy-1.0.3 proglog-0.1.10\n"
          ]
        },
        {
          "output_type": "display_data",
          "data": {
            "application/vnd.colab-display-data+json": {
              "pip_warning": {
                "packages": [
                  "decorator"
                ]
              },
              "id": "84df4a007f484bdba64b002b4f7a9adf"
            }
          },
          "metadata": {}
        }
      ],
      "source": [
        "!pip install moviepy"
      ]
    },
    {
      "cell_type": "code",
      "execution_count": null,
      "metadata": {
        "colab": {
          "base_uri": "https://localhost:8080/"
        },
        "id": "JztGS7z89jQ-",
        "outputId": "af88f05f-af33-44fe-ff9b-5be47095179d"
      },
      "outputs": [
        {
          "output_type": "stream",
          "name": "stdout",
          "text": [
            "MP3 Duration: 30.14 seconds\n"
          ]
        }
      ],
      "source": [
        "from moviepy.editor import AudioFileClip\n",
        "\n",
        "audio = AudioFileClip(\"output.mp3\")\n",
        "audio_duration = audio.duration\n",
        "print(f\"MP3 Duration: {audio_duration} seconds\")"
      ]
    },
    {
      "cell_type": "code",
      "execution_count": null,
      "metadata": {
        "id": "f-vvi0H-NPyX"
      },
      "outputs": [],
      "source": [
        "import random\n",
        "import os\n",
        "\n",
        "video = '/content/drive/MyDrive/minecraft.mkv'"
      ]
    },
    {
      "cell_type": "code",
      "execution_count": null,
      "metadata": {
        "colab": {
          "base_uri": "https://localhost:8080/"
        },
        "id": "xLYWtDufN8SO",
        "outputId": "b9a5d736-a893-4c78-984d-986a1e3b3ad0"
      },
      "outputs": [
        {
          "output_type": "stream",
          "name": "stdout",
          "text": [
            "The duration of the video is: 901.91 seconds\n"
          ]
        }
      ],
      "source": [
        "from moviepy.editor import VideoFileClip\n",
        "\n",
        "video = VideoFileClip(video)\n",
        "\n",
        "duration = video.duration\n",
        "\n",
        "print(f\"The duration of the video is: {duration} seconds\")"
      ]
    },
    {
      "cell_type": "code",
      "execution_count": null,
      "metadata": {
        "colab": {
          "base_uri": "https://localhost:8080/"
        },
        "collapsed": true,
        "id": "dhmd_7kbOTkp",
        "outputId": "ab3b8b70-9951-44c6-f53e-44f6fc8c751d"
      },
      "outputs": [
        {
          "output_type": "stream",
          "name": "stdout",
          "text": [
            "Moviepy - Building video trimmed_video.mp4.\n",
            "MoviePy - Writing audio in trimmed_videoTEMP_MPY_wvf_snd.mp3\n"
          ]
        },
        {
          "output_type": "stream",
          "name": "stderr",
          "text": []
        },
        {
          "output_type": "stream",
          "name": "stdout",
          "text": [
            "MoviePy - Done.\n",
            "Moviepy - Writing video trimmed_video.mp4\n",
            "\n"
          ]
        },
        {
          "output_type": "stream",
          "name": "stderr",
          "text": []
        },
        {
          "output_type": "stream",
          "name": "stdout",
          "text": [
            "Moviepy - Done !\n",
            "Moviepy - video ready trimmed_video.mp4\n"
          ]
        }
      ],
      "source": [
        "import random\n",
        "\n",
        "if duration < audio_duration:\n",
        "    raise ValueError(\"The video is shorter than the required trim length.\")\n",
        "\n",
        "random_start = random.uniform(0, duration - audio_duration)\n",
        "\n",
        "\n",
        "trimmed_video = video.subclip(random_start, random_start + audio_duration)\n",
        "\n",
        "trimmed_video_path = \"trimmed_video.mp4\"\n",
        "trimmed_video.write_videofile(trimmed_video_path, codec=\"libx264\")\n",
        "\n",
        "video.close()\n",
        "trimmed_video.close()"
      ]
    },
    {
      "cell_type": "code",
      "execution_count": null,
      "metadata": {
        "colab": {
          "base_uri": "https://localhost:8080/"
        },
        "id": "nI6X-qGV95su",
        "outputId": "1dd4b53c-017a-4d06-9e69-8a014ca51af1"
      },
      "outputs": [
        {
          "output_type": "stream",
          "name": "stdout",
          "text": [
            "[{'word': \"Isn't\", 'start': 0.0, 'end': 0.46}, {'word': 'it', 'start': 0.46, 'end': 0.66}, {'word': 'funny', 'start': 0.66, 'end': 0.88}, {'word': 'that', 'start': 0.88, 'end': 1.02}, {'word': 'we', 'start': 1.02, 'end': 1.18}, {'word': \"don't\", 'start': 1.18, 'end': 1.38}, {'word': 'wash', 'start': 1.38, 'end': 1.66}, {'word': 'our', 'start': 1.66, 'end': 1.9}, {'word': 'hands,', 'start': 1.9, 'end': 2.22}, {'word': 'our', 'start': 2.46, 'end': 2.64}, {'word': 'hands', 'start': 2.64, 'end': 2.9}, {'word': 'just', 'start': 2.9, 'end': 3.22}, {'word': 'wash', 'start': 3.22, 'end': 3.46}, {'word': 'each', 'start': 3.46, 'end': 3.68}, {'word': 'other?', 'start': 3.68, 'end': 4.26}, {'word': 'Shower', 'start': 5.02, 'end': 5.32}, {'word': 'thoughts.', 'start': 5.32, 'end': 5.78}, {'word': 'You', 'start': 6.82, 'end': 6.92}, {'word': 'never', 'start': 6.92, 'end': 7.2}, {'word': 'actually', 'start': 7.2, 'end': 7.66}, {'word': 'stop', 'start': 7.66, 'end': 7.96}, {'word': 'clapping,', 'start': 7.96, 'end': 8.4}, {'word': 'the', 'start': 8.7, 'end': 8.94}, {'word': 'time', 'start': 8.94, 'end': 9.14}, {'word': 'between', 'start': 9.14, 'end': 9.52}, {'word': 'claps', 'start': 9.52, 'end': 10.0}, {'word': 'just', 'start': 10.0, 'end': 10.42}, {'word': 'gets', 'start': 10.42, 'end': 10.62}, {'word': 'longer.', 'start': 10.62, 'end': 11.18}, {'word': 'The', 'start': 12.06, 'end': 12.24}, {'word': 'word', 'start': 12.24, 'end': 12.48}, {'word': 'silent', 'start': 12.48, 'end': 12.94}, {'word': 'and', 'start': 12.94, 'end': 13.14}, {'word': 'the', 'start': 13.14, 'end': 13.34}, {'word': 'word', 'start': 13.34, 'end': 13.5}, {'word': 'listen', 'start': 13.5, 'end': 13.96}, {'word': 'use', 'start': 13.96, 'end': 14.26}, {'word': 'the', 'start': 14.26, 'end': 14.5}, {'word': 'exact', 'start': 14.5, 'end': 14.86}, {'word': 'same', 'start': 14.86, 'end': 15.12}, {'word': 'letters.', 'start': 15.12, 'end': 15.58}, {'word': 'One', 'start': 16.62, 'end': 16.86}, {'word': 'day,', 'start': 16.86, 'end': 17.22}, {'word': 'someone', 'start': 17.48, 'end': 17.66}, {'word': 'will', 'start': 17.66, 'end': 17.84}, {'word': 'think', 'start': 17.84, 'end': 18.06}, {'word': 'about', 'start': 18.06, 'end': 18.34}, {'word': 'you', 'start': 18.34, 'end': 18.52}, {'word': 'for', 'start': 18.52, 'end': 18.7}, {'word': 'the', 'start': 18.7, 'end': 18.86}, {'word': 'last', 'start': 18.86, 'end': 19.14}, {'word': 'time', 'start': 19.14, 'end': 19.34}, {'word': 'in', 'start': 19.34, 'end': 19.58}, {'word': 'human', 'start': 19.58, 'end': 19.8}, {'word': 'history.', 'start': 19.8, 'end': 20.4}, {'word': 'Every', 'start': 21.34, 'end': 21.58}, {'word': 'time', 'start': 21.58, 'end': 21.78}, {'word': 'you', 'start': 21.78, 'end': 21.96}, {'word': 'close', 'start': 21.96, 'end': 22.2}, {'word': 'your', 'start': 22.2, 'end': 22.46}, {'word': 'eyes,', 'start': 22.46, 'end': 22.8}, {'word': \"you're\", 'start': 23.02, 'end': 23.16}, {'word': 'temporarily', 'start': 23.16, 'end': 23.76}, {'word': 'cutting', 'start': 23.76, 'end': 24.02}, {'word': 'off', 'start': 24.02, 'end': 24.28}, {'word': 'your', 'start': 24.28, 'end': 24.5}, {'word': 'connection', 'start': 24.5, 'end': 24.88}, {'word': 'to', 'start': 24.88, 'end': 25.04}, {'word': 'the', 'start': 25.04, 'end': 25.24}, {'word': 'world.', 'start': 25.24, 'end': 25.6}, {'word': 'You', 'start': 26.42, 'end': 26.66}, {'word': 'spend', 'start': 26.66, 'end': 26.88}, {'word': 'your', 'start': 26.88, 'end': 27.08}, {'word': 'entire', 'start': 27.08, 'end': 27.46}, {'word': 'life', 'start': 27.46, 'end': 27.78}, {'word': 'gathering', 'start': 27.78, 'end': 28.12}, {'word': 'people', 'start': 28.12, 'end': 28.46}, {'word': 'for', 'start': 28.46, 'end': 28.64}, {'word': 'your', 'start': 28.64, 'end': 28.84}, {'word': 'funeral.', 'start': 28.84, 'end': 29.28}]\n"
          ]
        }
      ],
      "source": [
        "import json\n",
        "\n",
        "with open('data.json', 'r') as f:\n",
        "    subtitles_data = json.load(f)\n",
        "\n",
        "print(subtitles_data)"
      ]
    },
    {
      "cell_type": "markdown",
      "metadata": {
        "id": "DeeDmUy4DLWM"
      },
      "source": [
        "# Add subtitle to video"
      ]
    },
    {
      "cell_type": "code",
      "execution_count": null,
      "metadata": {
        "id": "4u3WPkKHCPmj"
      },
      "outputs": [],
      "source": [
        "!echo \"<policys>\" > /etc/ImageMagick-6/policy.xml\n",
        "!echo \"<policy domain='coder' rights='read|write' pattern='*' />\" >> /etc/ImageMagick-6/policy.xml\n",
        "!echo \"</policys>\" >> /etc/ImageMagick-6/policy.xml"
      ]
    },
    {
      "cell_type": "code",
      "source": [
        "import os\n",
        "os.environ[\"MAGICK_BINARY\"] = \"/usr/bin/convert\""
      ],
      "metadata": {
        "id": "87BOIO_yPcjx"
      },
      "execution_count": null,
      "outputs": []
    },
    {
      "cell_type": "code",
      "source": [
        "!apt install imagemagick\n",
        "!apt install libmagick++-dev\n",
        "!cat /etc/ImageMagick-6/policy.xml | sed 's/none/read,write/g'> /etc/ImageMagick-6/policy.xml"
      ],
      "metadata": {
        "colab": {
          "base_uri": "https://localhost:8080/"
        },
        "collapsed": true,
        "id": "13gbKwteRxkA",
        "outputId": "eaa48dd4-505b-4356-c319-c570c5a70783"
      },
      "execution_count": null,
      "outputs": [
        {
          "output_type": "stream",
          "name": "stdout",
          "text": [
            "Requirement already satisfied: moviepy in /usr/local/lib/python3.10/dist-packages (1.0.3)\n",
            "Requirement already satisfied: decorator<5.0,>=4.0.2 in /usr/local/lib/python3.10/dist-packages (from moviepy) (4.4.2)\n",
            "Requirement already satisfied: tqdm<5.0,>=4.11.2 in /usr/local/lib/python3.10/dist-packages (from moviepy) (4.66.5)\n",
            "Requirement already satisfied: requests<3.0,>=2.8.1 in /usr/local/lib/python3.10/dist-packages (from moviepy) (2.32.3)\n",
            "Requirement already satisfied: proglog<=1.0.0 in /usr/local/lib/python3.10/dist-packages (from moviepy) (0.1.10)\n",
            "Requirement already satisfied: numpy>=1.17.3 in /usr/local/lib/python3.10/dist-packages (from moviepy) (1.26.4)\n",
            "Requirement already satisfied: imageio<3.0,>=2.5 in /usr/local/lib/python3.10/dist-packages (from moviepy) (2.35.1)\n",
            "Requirement already satisfied: imageio-ffmpeg>=0.2.0 in /usr/local/lib/python3.10/dist-packages (from moviepy) (0.5.1)\n",
            "Requirement already satisfied: pillow>=8.3.2 in /usr/local/lib/python3.10/dist-packages (from imageio<3.0,>=2.5->moviepy) (10.4.0)\n",
            "Requirement already satisfied: setuptools in /usr/local/lib/python3.10/dist-packages (from imageio-ffmpeg>=0.2.0->moviepy) (71.0.4)\n",
            "Requirement already satisfied: charset-normalizer<4,>=2 in /usr/local/lib/python3.10/dist-packages (from requests<3.0,>=2.8.1->moviepy) (3.3.2)\n",
            "Requirement already satisfied: idna<4,>=2.5 in /usr/local/lib/python3.10/dist-packages (from requests<3.0,>=2.8.1->moviepy) (3.10)\n",
            "Requirement already satisfied: urllib3<3,>=1.21.1 in /usr/local/lib/python3.10/dist-packages (from requests<3.0,>=2.8.1->moviepy) (2.2.3)\n",
            "Requirement already satisfied: certifi>=2017.4.17 in /usr/local/lib/python3.10/dist-packages (from requests<3.0,>=2.8.1->moviepy) (2024.8.30)\n",
            "Reading package lists... Done\n",
            "Building dependency tree... Done\n",
            "Reading state information... Done\n",
            "The following additional packages will be installed:\n",
            "  fonts-droid-fallback fonts-noto-mono fonts-urw-base35 ghostscript gsfonts imagemagick-6-common\n",
            "  imagemagick-6.q16 libdjvulibre-text libdjvulibre21 libfftw3-double3 libgs9 libgs9-common libidn12\n",
            "  libijs-0.35 libjbig2dec0 libjxr-tools libjxr0 liblqr-1-0 libmagickcore-6.q16-6\n",
            "  libmagickcore-6.q16-6-extra libmagickwand-6.q16-6 libnetpbm10 libwmflite-0.2-7 netpbm\n",
            "  poppler-data\n",
            "Suggested packages:\n",
            "  fonts-noto fonts-freefont-otf | fonts-freefont-ttf fonts-texgyre ghostscript-x imagemagick-doc\n",
            "  autotrace cups-bsd | lpr | lprng enscript gimp gnuplot grads hp2xx html2ps libwmf-bin mplayer\n",
            "  povray radiance sane-utils texlive-base-bin transfig ufraw-batch libfftw3-bin libfftw3-dev\n",
            "  inkscape poppler-utils fonts-japanese-mincho | fonts-ipafont-mincho fonts-japanese-gothic\n",
            "  | fonts-ipafont-gothic fonts-arphic-ukai fonts-arphic-uming fonts-nanum\n",
            "The following NEW packages will be installed:\n",
            "  fonts-droid-fallback fonts-noto-mono fonts-urw-base35 ghostscript gsfonts imagemagick\n",
            "  imagemagick-6-common imagemagick-6.q16 libdjvulibre-text libdjvulibre21 libfftw3-double3 libgs9\n",
            "  libgs9-common libidn12 libijs-0.35 libjbig2dec0 libjxr-tools libjxr0 liblqr-1-0\n",
            "  libmagickcore-6.q16-6 libmagickcore-6.q16-6-extra libmagickwand-6.q16-6 libnetpbm10\n",
            "  libwmflite-0.2-7 netpbm poppler-data\n",
            "0 upgraded, 26 newly installed, 0 to remove and 49 not upgraded.\n",
            "Need to get 25.1 MB of archives.\n",
            "After this operation, 87.9 MB of additional disk space will be used.\n",
            "Get:1 http://archive.ubuntu.com/ubuntu jammy/main amd64 fonts-droid-fallback all 1:6.0.1r16-1.1build1 [1,805 kB]\n",
            "Get:2 http://archive.ubuntu.com/ubuntu jammy/main amd64 libfftw3-double3 amd64 3.3.8-2ubuntu8 [770 kB]\n",
            "Get:3 http://archive.ubuntu.com/ubuntu jammy/universe amd64 liblqr-1-0 amd64 0.4.2-2.1 [27.7 kB]\n",
            "Get:4 http://archive.ubuntu.com/ubuntu jammy-updates/universe amd64 imagemagick-6-common all 8:6.9.11.60+dfsg-1.3ubuntu0.22.04.5 [64.3 kB]\n",
            "Get:5 http://archive.ubuntu.com/ubuntu jammy-updates/universe amd64 libmagickcore-6.q16-6 amd64 8:6.9.11.60+dfsg-1.3ubuntu0.22.04.5 [1,795 kB]\n",
            "Get:6 http://archive.ubuntu.com/ubuntu jammy-updates/universe amd64 libmagickwand-6.q16-6 amd64 8:6.9.11.60+dfsg-1.3ubuntu0.22.04.5 [328 kB]\n",
            "Get:7 http://archive.ubuntu.com/ubuntu jammy/main amd64 poppler-data all 0.4.11-1 [2,171 kB]\n",
            "Get:8 http://archive.ubuntu.com/ubuntu jammy/main amd64 fonts-noto-mono all 20201225-1build1 [397 kB]\n",
            "Get:9 http://archive.ubuntu.com/ubuntu jammy/main amd64 fonts-urw-base35 all 20200910-1 [6,367 kB]\n",
            "Get:10 http://archive.ubuntu.com/ubuntu jammy-updates/main amd64 libgs9-common all 9.55.0~dfsg1-0ubuntu5.9 [752 kB]\n",
            "Get:11 http://archive.ubuntu.com/ubuntu jammy-updates/main amd64 libidn12 amd64 1.38-4ubuntu1 [60.0 kB]\n",
            "Get:12 http://archive.ubuntu.com/ubuntu jammy/main amd64 libijs-0.35 amd64 0.35-15build2 [16.5 kB]\n",
            "Get:13 http://archive.ubuntu.com/ubuntu jammy/main amd64 libjbig2dec0 amd64 0.19-3build2 [64.7 kB]\n",
            "Get:14 http://archive.ubuntu.com/ubuntu jammy-updates/main amd64 libgs9 amd64 9.55.0~dfsg1-0ubuntu5.9 [5,033 kB]\n",
            "Get:15 http://archive.ubuntu.com/ubuntu jammy-updates/main amd64 ghostscript amd64 9.55.0~dfsg1-0ubuntu5.9 [49.5 kB]\n",
            "Get:16 http://archive.ubuntu.com/ubuntu jammy/universe amd64 gsfonts all 1:8.11+urwcyr1.0.7~pre44-4.5 [3,120 kB]\n",
            "Get:17 http://archive.ubuntu.com/ubuntu jammy-updates/universe amd64 imagemagick-6.q16 amd64 8:6.9.11.60+dfsg-1.3ubuntu0.22.04.5 [224 kB]\n",
            "Get:18 http://archive.ubuntu.com/ubuntu jammy-updates/universe amd64 imagemagick amd64 8:6.9.11.60+dfsg-1.3ubuntu0.22.04.5 [14.6 kB]\n",
            "Get:19 http://archive.ubuntu.com/ubuntu jammy/main amd64 libdjvulibre-text all 3.5.28-2build2 [50.9 kB]\n",
            "Get:20 http://archive.ubuntu.com/ubuntu jammy/main amd64 libdjvulibre21 amd64 3.5.28-2build2 [624 kB]\n",
            "Get:21 http://archive.ubuntu.com/ubuntu jammy/universe amd64 libjxr0 amd64 1.2~git20170615.f752187-5 [174 kB]\n",
            "Get:22 http://archive.ubuntu.com/ubuntu jammy/universe amd64 libjxr-tools amd64 1.2~git20170615.f752187-5 [16.0 kB]\n",
            "Get:23 http://archive.ubuntu.com/ubuntu jammy/main amd64 libwmflite-0.2-7 amd64 0.2.12-5ubuntu1 [68.9 kB]\n",
            "Get:24 http://archive.ubuntu.com/ubuntu jammy-updates/universe amd64 libmagickcore-6.q16-6-extra amd64 8:6.9.11.60+dfsg-1.3ubuntu0.22.04.5 [70.1 kB]\n",
            "Get:25 http://archive.ubuntu.com/ubuntu jammy/universe amd64 libnetpbm10 amd64 2:10.0-15.4 [59.1 kB]\n",
            "Get:26 http://archive.ubuntu.com/ubuntu jammy/universe amd64 netpbm amd64 2:10.0-15.4 [1,007 kB]\n",
            "Fetched 25.1 MB in 1s (20.2 MB/s)\n",
            "Selecting previously unselected package fonts-droid-fallback.\n",
            "(Reading database ... 123620 files and directories currently installed.)\n",
            "Preparing to unpack .../00-fonts-droid-fallback_1%3a6.0.1r16-1.1build1_all.deb ...\n",
            "Unpacking fonts-droid-fallback (1:6.0.1r16-1.1build1) ...\n",
            "Selecting previously unselected package libfftw3-double3:amd64.\n",
            "Preparing to unpack .../01-libfftw3-double3_3.3.8-2ubuntu8_amd64.deb ...\n",
            "Unpacking libfftw3-double3:amd64 (3.3.8-2ubuntu8) ...\n",
            "Selecting previously unselected package liblqr-1-0:amd64.\n",
            "Preparing to unpack .../02-liblqr-1-0_0.4.2-2.1_amd64.deb ...\n",
            "Unpacking liblqr-1-0:amd64 (0.4.2-2.1) ...\n",
            "Selecting previously unselected package imagemagick-6-common.\n",
            "Preparing to unpack .../03-imagemagick-6-common_8%3a6.9.11.60+dfsg-1.3ubuntu0.22.04.5_all.deb ...\n",
            "Unpacking imagemagick-6-common (8:6.9.11.60+dfsg-1.3ubuntu0.22.04.5) ...\n",
            "Selecting previously unselected package libmagickcore-6.q16-6:amd64.\n",
            "Preparing to unpack .../04-libmagickcore-6.q16-6_8%3a6.9.11.60+dfsg-1.3ubuntu0.22.04.5_amd64.deb ...\n",
            "Unpacking libmagickcore-6.q16-6:amd64 (8:6.9.11.60+dfsg-1.3ubuntu0.22.04.5) ...\n",
            "Selecting previously unselected package libmagickwand-6.q16-6:amd64.\n",
            "Preparing to unpack .../05-libmagickwand-6.q16-6_8%3a6.9.11.60+dfsg-1.3ubuntu0.22.04.5_amd64.deb ...\n",
            "Unpacking libmagickwand-6.q16-6:amd64 (8:6.9.11.60+dfsg-1.3ubuntu0.22.04.5) ...\n",
            "Selecting previously unselected package poppler-data.\n",
            "Preparing to unpack .../06-poppler-data_0.4.11-1_all.deb ...\n",
            "Unpacking poppler-data (0.4.11-1) ...\n",
            "Selecting previously unselected package fonts-noto-mono.\n",
            "Preparing to unpack .../07-fonts-noto-mono_20201225-1build1_all.deb ...\n",
            "Unpacking fonts-noto-mono (20201225-1build1) ...\n",
            "Selecting previously unselected package fonts-urw-base35.\n",
            "Preparing to unpack .../08-fonts-urw-base35_20200910-1_all.deb ...\n",
            "Unpacking fonts-urw-base35 (20200910-1) ...\n",
            "Selecting previously unselected package libgs9-common.\n",
            "Preparing to unpack .../09-libgs9-common_9.55.0~dfsg1-0ubuntu5.9_all.deb ...\n",
            "Unpacking libgs9-common (9.55.0~dfsg1-0ubuntu5.9) ...\n",
            "Selecting previously unselected package libidn12:amd64.\n",
            "Preparing to unpack .../10-libidn12_1.38-4ubuntu1_amd64.deb ...\n",
            "Unpacking libidn12:amd64 (1.38-4ubuntu1) ...\n",
            "Selecting previously unselected package libijs-0.35:amd64.\n",
            "Preparing to unpack .../11-libijs-0.35_0.35-15build2_amd64.deb ...\n",
            "Unpacking libijs-0.35:amd64 (0.35-15build2) ...\n",
            "Selecting previously unselected package libjbig2dec0:amd64.\n",
            "Preparing to unpack .../12-libjbig2dec0_0.19-3build2_amd64.deb ...\n",
            "Unpacking libjbig2dec0:amd64 (0.19-3build2) ...\n",
            "Selecting previously unselected package libgs9:amd64.\n",
            "Preparing to unpack .../13-libgs9_9.55.0~dfsg1-0ubuntu5.9_amd64.deb ...\n",
            "Unpacking libgs9:amd64 (9.55.0~dfsg1-0ubuntu5.9) ...\n",
            "Selecting previously unselected package ghostscript.\n",
            "Preparing to unpack .../14-ghostscript_9.55.0~dfsg1-0ubuntu5.9_amd64.deb ...\n",
            "Unpacking ghostscript (9.55.0~dfsg1-0ubuntu5.9) ...\n",
            "Selecting previously unselected package gsfonts.\n",
            "Preparing to unpack .../15-gsfonts_1%3a8.11+urwcyr1.0.7~pre44-4.5_all.deb ...\n",
            "Unpacking gsfonts (1:8.11+urwcyr1.0.7~pre44-4.5) ...\n",
            "Selecting previously unselected package imagemagick-6.q16.\n",
            "Preparing to unpack .../16-imagemagick-6.q16_8%3a6.9.11.60+dfsg-1.3ubuntu0.22.04.5_amd64.deb ...\n",
            "Unpacking imagemagick-6.q16 (8:6.9.11.60+dfsg-1.3ubuntu0.22.04.5) ...\n",
            "Selecting previously unselected package imagemagick.\n",
            "Preparing to unpack .../17-imagemagick_8%3a6.9.11.60+dfsg-1.3ubuntu0.22.04.5_amd64.deb ...\n",
            "Unpacking imagemagick (8:6.9.11.60+dfsg-1.3ubuntu0.22.04.5) ...\n",
            "Selecting previously unselected package libdjvulibre-text.\n",
            "Preparing to unpack .../18-libdjvulibre-text_3.5.28-2build2_all.deb ...\n",
            "Unpacking libdjvulibre-text (3.5.28-2build2) ...\n",
            "Selecting previously unselected package libdjvulibre21:amd64.\n",
            "Preparing to unpack .../19-libdjvulibre21_3.5.28-2build2_amd64.deb ...\n",
            "Unpacking libdjvulibre21:amd64 (3.5.28-2build2) ...\n",
            "Selecting previously unselected package libjxr0:amd64.\n",
            "Preparing to unpack .../20-libjxr0_1.2~git20170615.f752187-5_amd64.deb ...\n",
            "Unpacking libjxr0:amd64 (1.2~git20170615.f752187-5) ...\n",
            "Selecting previously unselected package libjxr-tools.\n",
            "Preparing to unpack .../21-libjxr-tools_1.2~git20170615.f752187-5_amd64.deb ...\n",
            "Unpacking libjxr-tools (1.2~git20170615.f752187-5) ...\n",
            "Selecting previously unselected package libwmflite-0.2-7:amd64.\n",
            "Preparing to unpack .../22-libwmflite-0.2-7_0.2.12-5ubuntu1_amd64.deb ...\n",
            "Unpacking libwmflite-0.2-7:amd64 (0.2.12-5ubuntu1) ...\n",
            "Selecting previously unselected package libmagickcore-6.q16-6-extra:amd64.\n",
            "Preparing to unpack .../23-libmagickcore-6.q16-6-extra_8%3a6.9.11.60+dfsg-1.3ubuntu0.22.04.5_amd64.deb ...\n",
            "Unpacking libmagickcore-6.q16-6-extra:amd64 (8:6.9.11.60+dfsg-1.3ubuntu0.22.04.5) ...\n",
            "Selecting previously unselected package libnetpbm10.\n",
            "Preparing to unpack .../24-libnetpbm10_2%3a10.0-15.4_amd64.deb ...\n",
            "Unpacking libnetpbm10 (2:10.0-15.4) ...\n",
            "Selecting previously unselected package netpbm.\n",
            "Preparing to unpack .../25-netpbm_2%3a10.0-15.4_amd64.deb ...\n",
            "Unpacking netpbm (2:10.0-15.4) ...\n",
            "Setting up imagemagick-6-common (8:6.9.11.60+dfsg-1.3ubuntu0.22.04.5) ...\n",
            "Setting up fonts-noto-mono (20201225-1build1) ...\n",
            "Setting up libwmflite-0.2-7:amd64 (0.2.12-5ubuntu1) ...\n",
            "Setting up libijs-0.35:amd64 (0.35-15build2) ...\n",
            "Setting up libjxr0:amd64 (1.2~git20170615.f752187-5) ...\n",
            "Setting up libnetpbm10 (2:10.0-15.4) ...\n",
            "Setting up fonts-urw-base35 (20200910-1) ...\n",
            "Setting up poppler-data (0.4.11-1) ...\n",
            "Setting up libjbig2dec0:amd64 (0.19-3build2) ...\n",
            "Setting up gsfonts (1:8.11+urwcyr1.0.7~pre44-4.5) ...\n",
            "Setting up libidn12:amd64 (1.38-4ubuntu1) ...\n",
            "Setting up netpbm (2:10.0-15.4) ...\n",
            "Setting up libfftw3-double3:amd64 (3.3.8-2ubuntu8) ...\n",
            "Setting up liblqr-1-0:amd64 (0.4.2-2.1) ...\n",
            "Setting up fonts-droid-fallback (1:6.0.1r16-1.1build1) ...\n",
            "Setting up libdjvulibre-text (3.5.28-2build2) ...\n",
            "Setting up libgs9-common (9.55.0~dfsg1-0ubuntu5.9) ...\n",
            "Setting up libjxr-tools (1.2~git20170615.f752187-5) ...\n",
            "Setting up libgs9:amd64 (9.55.0~dfsg1-0ubuntu5.9) ...\n",
            "Setting up libdjvulibre21:amd64 (3.5.28-2build2) ...\n",
            "Setting up ghostscript (9.55.0~dfsg1-0ubuntu5.9) ...\n",
            "Setting up libmagickcore-6.q16-6:amd64 (8:6.9.11.60+dfsg-1.3ubuntu0.22.04.5) ...\n",
            "Setting up libmagickwand-6.q16-6:amd64 (8:6.9.11.60+dfsg-1.3ubuntu0.22.04.5) ...\n",
            "Setting up libmagickcore-6.q16-6-extra:amd64 (8:6.9.11.60+dfsg-1.3ubuntu0.22.04.5) ...\n",
            "Setting up imagemagick-6.q16 (8:6.9.11.60+dfsg-1.3ubuntu0.22.04.5) ...\n",
            "update-alternatives: using /usr/bin/compare-im6.q16 to provide /usr/bin/compare (compare) in auto mode\n",
            "update-alternatives: using /usr/bin/compare-im6.q16 to provide /usr/bin/compare-im6 (compare-im6) in auto mode\n",
            "update-alternatives: using /usr/bin/animate-im6.q16 to provide /usr/bin/animate (animate) in auto mode\n",
            "update-alternatives: using /usr/bin/animate-im6.q16 to provide /usr/bin/animate-im6 (animate-im6) in auto mode\n",
            "update-alternatives: using /usr/bin/convert-im6.q16 to provide /usr/bin/convert (convert) in auto mode\n",
            "update-alternatives: using /usr/bin/convert-im6.q16 to provide /usr/bin/convert-im6 (convert-im6) in auto mode\n",
            "update-alternatives: using /usr/bin/composite-im6.q16 to provide /usr/bin/composite (composite) in auto mode\n",
            "update-alternatives: using /usr/bin/composite-im6.q16 to provide /usr/bin/composite-im6 (composite-im6) in auto mode\n",
            "update-alternatives: using /usr/bin/conjure-im6.q16 to provide /usr/bin/conjure (conjure) in auto mode\n",
            "update-alternatives: using /usr/bin/conjure-im6.q16 to provide /usr/bin/conjure-im6 (conjure-im6) in auto mode\n",
            "update-alternatives: using /usr/bin/import-im6.q16 to provide /usr/bin/import (import) in auto mode\n",
            "update-alternatives: using /usr/bin/import-im6.q16 to provide /usr/bin/import-im6 (import-im6) in auto mode\n",
            "update-alternatives: using /usr/bin/identify-im6.q16 to provide /usr/bin/identify (identify) in auto mode\n",
            "update-alternatives: using /usr/bin/identify-im6.q16 to provide /usr/bin/identify-im6 (identify-im6) in auto mode\n",
            "update-alternatives: using /usr/bin/stream-im6.q16 to provide /usr/bin/stream (stream) in auto mode\n",
            "update-alternatives: using /usr/bin/stream-im6.q16 to provide /usr/bin/stream-im6 (stream-im6) in auto mode\n",
            "update-alternatives: using /usr/bin/display-im6.q16 to provide /usr/bin/display (display) in auto mode\n",
            "update-alternatives: using /usr/bin/display-im6.q16 to provide /usr/bin/display-im6 (display-im6) in auto mode\n",
            "update-alternatives: using /usr/bin/montage-im6.q16 to provide /usr/bin/montage (montage) in auto mode\n",
            "update-alternatives: using /usr/bin/montage-im6.q16 to provide /usr/bin/montage-im6 (montage-im6) in auto mode\n",
            "update-alternatives: using /usr/bin/mogrify-im6.q16 to provide /usr/bin/mogrify (mogrify) in auto mode\n",
            "update-alternatives: using /usr/bin/mogrify-im6.q16 to provide /usr/bin/mogrify-im6 (mogrify-im6) in auto mode\n",
            "Setting up imagemagick (8:6.9.11.60+dfsg-1.3ubuntu0.22.04.5) ...\n",
            "Processing triggers for hicolor-icon-theme (0.17-2) ...\n",
            "Processing triggers for libc-bin (2.35-0ubuntu3.4) ...\n",
            "/sbin/ldconfig.real: /usr/local/lib/libtbbmalloc.so.2 is not a symbolic link\n",
            "\n",
            "/sbin/ldconfig.real: /usr/local/lib/libur_adapter_opencl.so.0 is not a symbolic link\n",
            "\n",
            "/sbin/ldconfig.real: /usr/local/lib/libtbbbind_2_0.so.3 is not a symbolic link\n",
            "\n",
            "/sbin/ldconfig.real: /usr/local/lib/libur_adapter_level_zero.so.0 is not a symbolic link\n",
            "\n",
            "/sbin/ldconfig.real: /usr/local/lib/libtbbbind_2_5.so.3 is not a symbolic link\n",
            "\n",
            "/sbin/ldconfig.real: /usr/local/lib/libtbbmalloc_proxy.so.2 is not a symbolic link\n",
            "\n",
            "/sbin/ldconfig.real: /usr/local/lib/libur_loader.so.0 is not a symbolic link\n",
            "\n",
            "/sbin/ldconfig.real: /usr/local/lib/libtbbbind.so.3 is not a symbolic link\n",
            "\n",
            "/sbin/ldconfig.real: /usr/local/lib/libtbb.so.12 is not a symbolic link\n",
            "\n",
            "Processing triggers for man-db (2.10.2-1) ...\n",
            "Processing triggers for fontconfig (2.13.1-4.2ubuntu5) ...\n",
            "Reading package lists... Done\n",
            "Building dependency tree... Done\n",
            "Reading state information... Done\n",
            "The following additional packages will be installed:\n",
            "  gir1.2-freedesktop gir1.2-gdkpixbuf-2.0 gir1.2-rsvg-2.0 libblkid-dev libblkid1\n",
            "  libcairo-script-interpreter2 libcairo2-dev libdjvulibre-dev libffi-dev libgdk-pixbuf-2.0-dev\n",
            "  libgdk-pixbuf2.0-bin libglib2.0-dev libglib2.0-dev-bin libice-dev liblcms2-dev liblqr-1-0-dev\n",
            "  liblzo2-2 libmagick++-6-headers libmagick++-6.q16-8 libmagick++-6.q16-dev\n",
            "  libmagickcore-6-arch-config libmagickcore-6-headers libmagickcore-6.q16-dev\n",
            "  libmagickwand-6-headers libmagickwand-6.q16-dev libmount-dev libmount1 libpixman-1-dev\n",
            "  librsvg2-common librsvg2-dev libselinux1-dev libsepol-dev libsm-dev libwmf-0.2-7 libwmf-dev\n",
            "  libxcb-render0-dev libxcb-shm0-dev libxt-dev\n",
            "Suggested packages:\n",
            "  libcairo2-doc libgirepository1.0-dev libglib2.0-doc libxml2-utils libice-doc cryptsetup-bin\n",
            "  librsvg2-doc libsm-doc libwmf-0.2-7-gtk libwmf-doc libxt-doc\n",
            "The following NEW packages will be installed:\n",
            "  gir1.2-freedesktop gir1.2-gdkpixbuf-2.0 gir1.2-rsvg-2.0 libblkid-dev libcairo-script-interpreter2\n",
            "  libcairo2-dev libdjvulibre-dev libffi-dev libgdk-pixbuf-2.0-dev libgdk-pixbuf2.0-bin\n",
            "  libglib2.0-dev libglib2.0-dev-bin libice-dev liblcms2-dev liblqr-1-0-dev liblzo2-2\n",
            "  libmagick++-6-headers libmagick++-6.q16-8 libmagick++-6.q16-dev libmagick++-dev\n",
            "  libmagickcore-6-arch-config libmagickcore-6-headers libmagickcore-6.q16-dev\n",
            "  libmagickwand-6-headers libmagickwand-6.q16-dev libmount-dev libpixman-1-dev librsvg2-common\n",
            "  librsvg2-dev libselinux1-dev libsepol-dev libsm-dev libwmf-0.2-7 libwmf-dev libxcb-render0-dev\n",
            "  libxcb-shm0-dev libxt-dev\n",
            "The following packages will be upgraded:\n",
            "  libblkid1 libmount1\n",
            "2 upgraded, 37 newly installed, 0 to remove and 47 not upgraded.\n",
            "Need to get 11.3 MB of archives.\n",
            "After this operation, 43.5 MB of additional disk space will be used.\n",
            "Get:1 http://archive.ubuntu.com/ubuntu jammy-updates/universe amd64 libmagickcore-6-headers all 8:6.9.11.60+dfsg-1.3ubuntu0.22.04.5 [52.7 kB]\n",
            "Get:2 http://archive.ubuntu.com/ubuntu jammy-updates/universe amd64 libmagickwand-6-headers all 8:6.9.11.60+dfsg-1.3ubuntu0.22.04.5 [10.4 kB]\n",
            "Get:3 http://archive.ubuntu.com/ubuntu jammy-updates/universe amd64 libmagick++-6-headers all 8:6.9.11.60+dfsg-1.3ubuntu0.22.04.5 [48.5 kB]\n",
            "Get:4 http://archive.ubuntu.com/ubuntu jammy-updates/universe amd64 libmagick++-6.q16-8 amd64 8:6.9.11.60+dfsg-1.3ubuntu0.22.04.5 [157 kB]\n",
            "Get:5 http://archive.ubuntu.com/ubuntu jammy-updates/universe amd64 libmagickcore-6-arch-config amd64 8:6.9.11.60+dfsg-1.3ubuntu0.22.04.5 [26.2 kB]\n",
            "Get:6 http://archive.ubuntu.com/ubuntu jammy/main amd64 libdjvulibre-dev amd64 3.5.28-2build2 [2,463 kB]\n",
            "Get:7 http://archive.ubuntu.com/ubuntu jammy/main amd64 liblcms2-dev amd64 2.12~rc1-2build2 [1,887 kB]\n",
            "Get:8 http://archive.ubuntu.com/ubuntu jammy/universe amd64 liblqr-1-0-dev amd64 0.4.2-2.1 [69.1 kB]\n",
            "Get:9 http://archive.ubuntu.com/ubuntu jammy/main amd64 gir1.2-freedesktop amd64 1.72.0-1 [22.3 kB]\n",
            "Get:10 http://archive.ubuntu.com/ubuntu jammy-updates/main amd64 gir1.2-gdkpixbuf-2.0 amd64 2.42.8+dfsg-1ubuntu0.3 [9,486 B]\n",
            "Get:11 http://archive.ubuntu.com/ubuntu jammy-updates/main amd64 gir1.2-rsvg-2.0 amd64 2.52.5+dfsg-3ubuntu0.2 [16.5 kB]\n",
            "Get:12 http://archive.ubuntu.com/ubuntu jammy/main amd64 liblzo2-2 amd64 2.10-2build3 [53.7 kB]\n",
            "Get:13 http://archive.ubuntu.com/ubuntu jammy/main amd64 libcairo-script-interpreter2 amd64 1.16.0-5ubuntu2 [62.0 kB]\n",
            "Get:14 http://archive.ubuntu.com/ubuntu jammy/main amd64 libice-dev amd64 2:1.0.10-1build2 [51.4 kB]\n",
            "Get:15 http://archive.ubuntu.com/ubuntu jammy/main amd64 libsm-dev amd64 2:1.2.3-1build2 [18.1 kB]\n",
            "Get:16 http://archive.ubuntu.com/ubuntu jammy-updates/main amd64 libpixman-1-dev amd64 0.40.0-1ubuntu0.22.04.1 [280 kB]\n",
            "Get:17 http://archive.ubuntu.com/ubuntu jammy/main amd64 libxcb-render0-dev amd64 1.14-3ubuntu3 [19.6 kB]\n",
            "Get:18 http://archive.ubuntu.com/ubuntu jammy/main amd64 libxcb-shm0-dev amd64 1.14-3ubuntu3 [6,848 B]\n",
            "Get:19 http://archive.ubuntu.com/ubuntu jammy/main amd64 libffi-dev amd64 3.4.2-4 [63.7 kB]\n",
            "Get:20 http://archive.ubuntu.com/ubuntu jammy-updates/main amd64 libglib2.0-dev-bin amd64 2.72.4-0ubuntu2.3 [117 kB]\n",
            "Get:21 http://archive.ubuntu.com/ubuntu jammy-updates/main amd64 libblkid1 amd64 2.37.2-4ubuntu3.4 [103 kB]\n",
            "Get:22 http://archive.ubuntu.com/ubuntu jammy-updates/main amd64 libblkid-dev amd64 2.37.2-4ubuntu3.4 [185 kB]\n",
            "Get:23 http://archive.ubuntu.com/ubuntu jammy-updates/main amd64 libmount1 amd64 2.37.2-4ubuntu3.4 [122 kB]\n",
            "Get:24 http://archive.ubuntu.com/ubuntu jammy/main amd64 libsepol-dev amd64 3.3-1build1 [378 kB]\n",
            "Get:25 http://archive.ubuntu.com/ubuntu jammy/main amd64 libselinux1-dev amd64 3.3-1build2 [158 kB]\n",
            "Get:26 http://archive.ubuntu.com/ubuntu jammy-updates/main amd64 libmount-dev amd64 2.37.2-4ubuntu3.4 [14.5 kB]\n",
            "Get:27 http://archive.ubuntu.com/ubuntu jammy-updates/main amd64 libglib2.0-dev amd64 2.72.4-0ubuntu2.3 [1,743 kB]\n",
            "Get:28 http://archive.ubuntu.com/ubuntu jammy/main amd64 libcairo2-dev amd64 1.16.0-5ubuntu2 [692 kB]\n",
            "Get:29 http://archive.ubuntu.com/ubuntu jammy-updates/main amd64 libgdk-pixbuf2.0-bin amd64 2.42.8+dfsg-1ubuntu0.3 [14.2 kB]\n",
            "Get:30 http://archive.ubuntu.com/ubuntu jammy-updates/main amd64 libgdk-pixbuf-2.0-dev amd64 2.42.8+dfsg-1ubuntu0.3 [47.8 kB]\n",
            "Get:31 http://archive.ubuntu.com/ubuntu jammy-updates/main amd64 librsvg2-common amd64 2.52.5+dfsg-3ubuntu0.2 [17.7 kB]\n",
            "Get:32 http://archive.ubuntu.com/ubuntu jammy-updates/main amd64 librsvg2-dev amd64 2.52.5+dfsg-3ubuntu0.2 [49.8 kB]\n",
            "Get:33 http://archive.ubuntu.com/ubuntu jammy/main amd64 libwmf-0.2-7 amd64 0.2.12-5ubuntu1 [94.2 kB]\n",
            "Get:34 http://archive.ubuntu.com/ubuntu jammy/main amd64 libwmf-dev amd64 0.2.12-5ubuntu1 [236 kB]\n",
            "Get:35 http://archive.ubuntu.com/ubuntu jammy/main amd64 libxt-dev amd64 1:1.2.1-1 [396 kB]\n",
            "Get:36 http://archive.ubuntu.com/ubuntu jammy-updates/universe amd64 libmagickcore-6.q16-dev amd64 8:6.9.11.60+dfsg-1.3ubuntu0.22.04.5 [1,120 kB]\n",
            "Get:37 http://archive.ubuntu.com/ubuntu jammy-updates/universe amd64 libmagickwand-6.q16-dev amd64 8:6.9.11.60+dfsg-1.3ubuntu0.22.04.5 [358 kB]\n",
            "Get:38 http://archive.ubuntu.com/ubuntu jammy-updates/universe amd64 libmagick++-6.q16-dev amd64 8:6.9.11.60+dfsg-1.3ubuntu0.22.04.5 [148 kB]\n",
            "Get:39 http://archive.ubuntu.com/ubuntu jammy-updates/universe amd64 libmagick++-dev all 8:6.9.11.60+dfsg-1.3ubuntu0.22.04.5 [1,234 B]\n",
            "Fetched 11.3 MB in 8s (1,472 kB/s)\n",
            "Extracting templates from packages: 100%\n",
            "Selecting previously unselected package libmagickcore-6-headers.\n",
            "(Reading database ... 125762 files and directories currently installed.)\n",
            "Preparing to unpack .../00-libmagickcore-6-headers_8%3a6.9.11.60+dfsg-1.3ubuntu0.22.04.5_all.deb ...\n",
            "Unpacking libmagickcore-6-headers (8:6.9.11.60+dfsg-1.3ubuntu0.22.04.5) ...\n",
            "Selecting previously unselected package libmagickwand-6-headers.\n",
            "Preparing to unpack .../01-libmagickwand-6-headers_8%3a6.9.11.60+dfsg-1.3ubuntu0.22.04.5_all.deb ...\n",
            "Unpacking libmagickwand-6-headers (8:6.9.11.60+dfsg-1.3ubuntu0.22.04.5) ...\n",
            "Selecting previously unselected package libmagick++-6-headers.\n",
            "Preparing to unpack .../02-libmagick++-6-headers_8%3a6.9.11.60+dfsg-1.3ubuntu0.22.04.5_all.deb ...\n",
            "Unpacking libmagick++-6-headers (8:6.9.11.60+dfsg-1.3ubuntu0.22.04.5) ...\n",
            "Selecting previously unselected package libmagick++-6.q16-8:amd64.\n",
            "Preparing to unpack .../03-libmagick++-6.q16-8_8%3a6.9.11.60+dfsg-1.3ubuntu0.22.04.5_amd64.deb ...\n",
            "Unpacking libmagick++-6.q16-8:amd64 (8:6.9.11.60+dfsg-1.3ubuntu0.22.04.5) ...\n",
            "Selecting previously unselected package libmagickcore-6-arch-config:amd64.\n",
            "Preparing to unpack .../04-libmagickcore-6-arch-config_8%3a6.9.11.60+dfsg-1.3ubuntu0.22.04.5_amd64.deb ...\n",
            "Unpacking libmagickcore-6-arch-config:amd64 (8:6.9.11.60+dfsg-1.3ubuntu0.22.04.5) ...\n",
            "Selecting previously unselected package libdjvulibre-dev:amd64.\n",
            "Preparing to unpack .../05-libdjvulibre-dev_3.5.28-2build2_amd64.deb ...\n",
            "Unpacking libdjvulibre-dev:amd64 (3.5.28-2build2) ...\n",
            "Selecting previously unselected package liblcms2-dev:amd64.\n",
            "Preparing to unpack .../06-liblcms2-dev_2.12~rc1-2build2_amd64.deb ...\n",
            "Unpacking liblcms2-dev:amd64 (2.12~rc1-2build2) ...\n",
            "Selecting previously unselected package liblqr-1-0-dev:amd64.\n",
            "Preparing to unpack .../07-liblqr-1-0-dev_0.4.2-2.1_amd64.deb ...\n",
            "Unpacking liblqr-1-0-dev:amd64 (0.4.2-2.1) ...\n",
            "Selecting previously unselected package gir1.2-freedesktop:amd64.\n",
            "Preparing to unpack .../08-gir1.2-freedesktop_1.72.0-1_amd64.deb ...\n",
            "Unpacking gir1.2-freedesktop:amd64 (1.72.0-1) ...\n",
            "Selecting previously unselected package gir1.2-gdkpixbuf-2.0:amd64.\n",
            "Preparing to unpack .../09-gir1.2-gdkpixbuf-2.0_2.42.8+dfsg-1ubuntu0.3_amd64.deb ...\n",
            "Unpacking gir1.2-gdkpixbuf-2.0:amd64 (2.42.8+dfsg-1ubuntu0.3) ...\n",
            "Selecting previously unselected package gir1.2-rsvg-2.0:amd64.\n",
            "Preparing to unpack .../10-gir1.2-rsvg-2.0_2.52.5+dfsg-3ubuntu0.2_amd64.deb ...\n",
            "Unpacking gir1.2-rsvg-2.0:amd64 (2.52.5+dfsg-3ubuntu0.2) ...\n",
            "Selecting previously unselected package liblzo2-2:amd64.\n",
            "Preparing to unpack .../11-liblzo2-2_2.10-2build3_amd64.deb ...\n",
            "Unpacking liblzo2-2:amd64 (2.10-2build3) ...\n",
            "Selecting previously unselected package libcairo-script-interpreter2:amd64.\n",
            "Preparing to unpack .../12-libcairo-script-interpreter2_1.16.0-5ubuntu2_amd64.deb ...\n",
            "Unpacking libcairo-script-interpreter2:amd64 (1.16.0-5ubuntu2) ...\n",
            "Selecting previously unselected package libice-dev:amd64.\n",
            "Preparing to unpack .../13-libice-dev_2%3a1.0.10-1build2_amd64.deb ...\n",
            "Unpacking libice-dev:amd64 (2:1.0.10-1build2) ...\n",
            "Selecting previously unselected package libsm-dev:amd64.\n",
            "Preparing to unpack .../14-libsm-dev_2%3a1.2.3-1build2_amd64.deb ...\n",
            "Unpacking libsm-dev:amd64 (2:1.2.3-1build2) ...\n",
            "Selecting previously unselected package libpixman-1-dev:amd64.\n",
            "Preparing to unpack .../15-libpixman-1-dev_0.40.0-1ubuntu0.22.04.1_amd64.deb ...\n",
            "Unpacking libpixman-1-dev:amd64 (0.40.0-1ubuntu0.22.04.1) ...\n",
            "Selecting previously unselected package libxcb-render0-dev:amd64.\n",
            "Preparing to unpack .../16-libxcb-render0-dev_1.14-3ubuntu3_amd64.deb ...\n",
            "Unpacking libxcb-render0-dev:amd64 (1.14-3ubuntu3) ...\n",
            "Selecting previously unselected package libxcb-shm0-dev:amd64.\n",
            "Preparing to unpack .../17-libxcb-shm0-dev_1.14-3ubuntu3_amd64.deb ...\n",
            "Unpacking libxcb-shm0-dev:amd64 (1.14-3ubuntu3) ...\n",
            "Selecting previously unselected package libffi-dev:amd64.\n",
            "Preparing to unpack .../18-libffi-dev_3.4.2-4_amd64.deb ...\n",
            "Unpacking libffi-dev:amd64 (3.4.2-4) ...\n",
            "Selecting previously unselected package libglib2.0-dev-bin.\n",
            "Preparing to unpack .../19-libglib2.0-dev-bin_2.72.4-0ubuntu2.3_amd64.deb ...\n",
            "Unpacking libglib2.0-dev-bin (2.72.4-0ubuntu2.3) ...\n",
            "Preparing to unpack .../20-libblkid1_2.37.2-4ubuntu3.4_amd64.deb ...\n",
            "Unpacking libblkid1:amd64 (2.37.2-4ubuntu3.4) over (2.37.2-4ubuntu3) ...\n",
            "Setting up libblkid1:amd64 (2.37.2-4ubuntu3.4) ...\n",
            "Selecting previously unselected package libblkid-dev:amd64.\n",
            "(Reading database ... 126245 files and directories currently installed.)\n",
            "Preparing to unpack .../libblkid-dev_2.37.2-4ubuntu3.4_amd64.deb ...\n",
            "Unpacking libblkid-dev:amd64 (2.37.2-4ubuntu3.4) ...\n",
            "Preparing to unpack .../libmount1_2.37.2-4ubuntu3.4_amd64.deb ...\n",
            "Unpacking libmount1:amd64 (2.37.2-4ubuntu3.4) over (2.37.2-4ubuntu3) ...\n",
            "Setting up libmount1:amd64 (2.37.2-4ubuntu3.4) ...\n",
            "Selecting previously unselected package libsepol-dev:amd64.\n",
            "(Reading database ... 126254 files and directories currently installed.)\n",
            "Preparing to unpack .../00-libsepol-dev_3.3-1build1_amd64.deb ...\n",
            "Unpacking libsepol-dev:amd64 (3.3-1build1) ...\n",
            "Selecting previously unselected package libselinux1-dev:amd64.\n",
            "Preparing to unpack .../01-libselinux1-dev_3.3-1build2_amd64.deb ...\n",
            "Unpacking libselinux1-dev:amd64 (3.3-1build2) ...\n",
            "Selecting previously unselected package libmount-dev:amd64.\n",
            "Preparing to unpack .../02-libmount-dev_2.37.2-4ubuntu3.4_amd64.deb ...\n",
            "Unpacking libmount-dev:amd64 (2.37.2-4ubuntu3.4) ...\n",
            "Selecting previously unselected package libglib2.0-dev:amd64.\n",
            "Preparing to unpack .../03-libglib2.0-dev_2.72.4-0ubuntu2.3_amd64.deb ...\n",
            "Unpacking libglib2.0-dev:amd64 (2.72.4-0ubuntu2.3) ...\n",
            "Selecting previously unselected package libcairo2-dev:amd64.\n",
            "Preparing to unpack .../04-libcairo2-dev_1.16.0-5ubuntu2_amd64.deb ...\n",
            "Unpacking libcairo2-dev:amd64 (1.16.0-5ubuntu2) ...\n",
            "Selecting previously unselected package libgdk-pixbuf2.0-bin.\n",
            "Preparing to unpack .../05-libgdk-pixbuf2.0-bin_2.42.8+dfsg-1ubuntu0.3_amd64.deb ...\n",
            "Unpacking libgdk-pixbuf2.0-bin (2.42.8+dfsg-1ubuntu0.3) ...\n",
            "Selecting previously unselected package libgdk-pixbuf-2.0-dev:amd64.\n",
            "Preparing to unpack .../06-libgdk-pixbuf-2.0-dev_2.42.8+dfsg-1ubuntu0.3_amd64.deb ...\n",
            "Unpacking libgdk-pixbuf-2.0-dev:amd64 (2.42.8+dfsg-1ubuntu0.3) ...\n",
            "Selecting previously unselected package librsvg2-common:amd64.\n",
            "Preparing to unpack .../07-librsvg2-common_2.52.5+dfsg-3ubuntu0.2_amd64.deb ...\n",
            "Unpacking librsvg2-common:amd64 (2.52.5+dfsg-3ubuntu0.2) ...\n",
            "Selecting previously unselected package librsvg2-dev:amd64.\n",
            "Preparing to unpack .../08-librsvg2-dev_2.52.5+dfsg-3ubuntu0.2_amd64.deb ...\n",
            "Unpacking librsvg2-dev:amd64 (2.52.5+dfsg-3ubuntu0.2) ...\n",
            "Selecting previously unselected package libwmf-0.2-7:amd64.\n",
            "Preparing to unpack .../09-libwmf-0.2-7_0.2.12-5ubuntu1_amd64.deb ...\n",
            "Unpacking libwmf-0.2-7:amd64 (0.2.12-5ubuntu1) ...\n",
            "Selecting previously unselected package libwmf-dev.\n",
            "Preparing to unpack .../10-libwmf-dev_0.2.12-5ubuntu1_amd64.deb ...\n",
            "Unpacking libwmf-dev (0.2.12-5ubuntu1) ...\n",
            "Selecting previously unselected package libxt-dev:amd64.\n",
            "Preparing to unpack .../11-libxt-dev_1%3a1.2.1-1_amd64.deb ...\n",
            "Unpacking libxt-dev:amd64 (1:1.2.1-1) ...\n",
            "Selecting previously unselected package libmagickcore-6.q16-dev:amd64.\n",
            "Preparing to unpack .../12-libmagickcore-6.q16-dev_8%3a6.9.11.60+dfsg-1.3ubuntu0.22.04.5_amd64.deb ...\n",
            "Unpacking libmagickcore-6.q16-dev:amd64 (8:6.9.11.60+dfsg-1.3ubuntu0.22.04.5) ...\n",
            "Selecting previously unselected package libmagickwand-6.q16-dev:amd64.\n",
            "Preparing to unpack .../13-libmagickwand-6.q16-dev_8%3a6.9.11.60+dfsg-1.3ubuntu0.22.04.5_amd64.deb ...\n",
            "Unpacking libmagickwand-6.q16-dev:amd64 (8:6.9.11.60+dfsg-1.3ubuntu0.22.04.5) ...\n",
            "Selecting previously unselected package libmagick++-6.q16-dev:amd64.\n",
            "Preparing to unpack .../14-libmagick++-6.q16-dev_8%3a6.9.11.60+dfsg-1.3ubuntu0.22.04.5_amd64.deb ...\n",
            "Unpacking libmagick++-6.q16-dev:amd64 (8:6.9.11.60+dfsg-1.3ubuntu0.22.04.5) ...\n",
            "Selecting previously unselected package libmagick++-dev.\n",
            "Preparing to unpack .../15-libmagick++-dev_8%3a6.9.11.60+dfsg-1.3ubuntu0.22.04.5_all.deb ...\n",
            "Unpacking libmagick++-dev (8:6.9.11.60+dfsg-1.3ubuntu0.22.04.5) ...\n",
            "Setting up libglib2.0-dev-bin (2.72.4-0ubuntu2.3) ...\n",
            "Setting up libblkid-dev:amd64 (2.37.2-4ubuntu3.4) ...\n",
            "Setting up gir1.2-freedesktop:amd64 (1.72.0-1) ...\n",
            "Setting up libpixman-1-dev:amd64 (0.40.0-1ubuntu0.22.04.1) ...\n",
            "Setting up gir1.2-gdkpixbuf-2.0:amd64 (2.42.8+dfsg-1ubuntu0.3) ...\n",
            "Setting up libice-dev:amd64 (2:1.0.10-1build2) ...\n",
            "Setting up libsm-dev:amd64 (2:1.2.3-1build2) ...\n",
            "Setting up liblqr-1-0-dev:amd64 (0.4.2-2.1) ...\n",
            "Setting up liblzo2-2:amd64 (2.10-2build3) ...\n",
            "Setting up libffi-dev:amd64 (3.4.2-4) ...\n",
            "Setting up libdjvulibre-dev:amd64 (3.5.28-2build2) ...\n",
            "Setting up libxcb-shm0-dev:amd64 (1.14-3ubuntu3) ...\n",
            "Setting up libwmf-0.2-7:amd64 (0.2.12-5ubuntu1) ...\n",
            "Setting up libxt-dev:amd64 (1:1.2.1-1) ...\n",
            "Setting up libsepol-dev:amd64 (3.3-1build1) ...\n",
            "Setting up libxcb-render0-dev:amd64 (1.14-3ubuntu3) ...\n",
            "Setting up librsvg2-common:amd64 (2.52.5+dfsg-3ubuntu0.2) ...\n",
            "Setting up liblcms2-dev:amd64 (2.12~rc1-2build2) ...\n",
            "Setting up libgdk-pixbuf2.0-bin (2.42.8+dfsg-1ubuntu0.3) ...\n",
            "Setting up libmagickcore-6-headers (8:6.9.11.60+dfsg-1.3ubuntu0.22.04.5) ...\n",
            "Setting up gir1.2-rsvg-2.0:amd64 (2.52.5+dfsg-3ubuntu0.2) ...\n",
            "Setting up libmagick++-6.q16-8:amd64 (8:6.9.11.60+dfsg-1.3ubuntu0.22.04.5) ...\n",
            "Setting up libcairo-script-interpreter2:amd64 (1.16.0-5ubuntu2) ...\n",
            "Setting up libmagickcore-6-arch-config:amd64 (8:6.9.11.60+dfsg-1.3ubuntu0.22.04.5) ...\n",
            "Setting up libselinux1-dev:amd64 (3.3-1build2) ...\n",
            "Setting up libmagickwand-6-headers (8:6.9.11.60+dfsg-1.3ubuntu0.22.04.5) ...\n",
            "Setting up libwmf-dev (0.2.12-5ubuntu1) ...\n",
            "Setting up libmount-dev:amd64 (2.37.2-4ubuntu3.4) ...\n",
            "Setting up libmagick++-6-headers (8:6.9.11.60+dfsg-1.3ubuntu0.22.04.5) ...\n",
            "Setting up libglib2.0-dev:amd64 (2.72.4-0ubuntu2.3) ...\n",
            "Processing triggers for libgdk-pixbuf-2.0-0:amd64 (2.42.8+dfsg-1ubuntu0.3) ...\n",
            "Processing triggers for libglib2.0-0:amd64 (2.72.4-0ubuntu2.3) ...\n",
            "Processing triggers for libc-bin (2.35-0ubuntu3.4) ...\n",
            "/sbin/ldconfig.real: /usr/local/lib/libtbbmalloc.so.2 is not a symbolic link\n",
            "\n",
            "/sbin/ldconfig.real: /usr/local/lib/libur_adapter_opencl.so.0 is not a symbolic link\n",
            "\n",
            "/sbin/ldconfig.real: /usr/local/lib/libtbbbind_2_0.so.3 is not a symbolic link\n",
            "\n",
            "/sbin/ldconfig.real: /usr/local/lib/libur_adapter_level_zero.so.0 is not a symbolic link\n",
            "\n",
            "/sbin/ldconfig.real: /usr/local/lib/libtbbbind_2_5.so.3 is not a symbolic link\n",
            "\n",
            "/sbin/ldconfig.real: /usr/local/lib/libtbbmalloc_proxy.so.2 is not a symbolic link\n",
            "\n",
            "/sbin/ldconfig.real: /usr/local/lib/libur_loader.so.0 is not a symbolic link\n",
            "\n",
            "/sbin/ldconfig.real: /usr/local/lib/libtbbbind.so.3 is not a symbolic link\n",
            "\n",
            "/sbin/ldconfig.real: /usr/local/lib/libtbb.so.12 is not a symbolic link\n",
            "\n",
            "Processing triggers for man-db (2.10.2-1) ...\n",
            "Setting up libcairo2-dev:amd64 (1.16.0-5ubuntu2) ...\n",
            "Setting up libgdk-pixbuf-2.0-dev:amd64 (2.42.8+dfsg-1ubuntu0.3) ...\n",
            "Setting up librsvg2-dev:amd64 (2.52.5+dfsg-3ubuntu0.2) ...\n",
            "Setting up libmagickcore-6.q16-dev:amd64 (8:6.9.11.60+dfsg-1.3ubuntu0.22.04.5) ...\n",
            "Setting up libmagickwand-6.q16-dev:amd64 (8:6.9.11.60+dfsg-1.3ubuntu0.22.04.5) ...\n",
            "Setting up libmagick++-6.q16-dev:amd64 (8:6.9.11.60+dfsg-1.3ubuntu0.22.04.5) ...\n",
            "Setting up libmagick++-dev (8:6.9.11.60+dfsg-1.3ubuntu0.22.04.5) ...\n"
          ]
        }
      ]
    },
    {
      "cell_type": "code",
      "source": [
        "!sudo apt update\n",
        "!sudo apt install imagemagick -y"
      ],
      "metadata": {
        "colab": {
          "base_uri": "https://localhost:8080/"
        },
        "id": "NF5RsGSFWULd",
        "outputId": "ae84ec9d-4c1e-488b-c8fb-9c0bb24aed61"
      },
      "execution_count": null,
      "outputs": [
        {
          "output_type": "stream",
          "name": "stdout",
          "text": [
            "Hit:1 https://developer.download.nvidia.com/compute/cuda/repos/ubuntu2204/x86_64  InRelease\n",
            "Hit:2 https://cloud.r-project.org/bin/linux/ubuntu jammy-cran40/ InRelease\n",
            "Hit:3 http://archive.ubuntu.com/ubuntu jammy InRelease\n",
            "Hit:4 http://archive.ubuntu.com/ubuntu jammy-updates InRelease\n",
            "Hit:5 http://archive.ubuntu.com/ubuntu jammy-backports InRelease\n",
            "Hit:6 http://security.ubuntu.com/ubuntu jammy-security InRelease\n",
            "Ign:7 https://r2u.stat.illinois.edu/ubuntu jammy InRelease\n",
            "Hit:8 https://r2u.stat.illinois.edu/ubuntu jammy Release\n",
            "Hit:9 https://ppa.launchpadcontent.net/deadsnakes/ppa/ubuntu jammy InRelease\n",
            "Hit:11 https://ppa.launchpadcontent.net/graphics-drivers/ppa/ubuntu jammy InRelease\n",
            "Hit:12 https://ppa.launchpadcontent.net/ubuntugis/ppa/ubuntu jammy InRelease\n",
            "Reading package lists... Done\n",
            "Building dependency tree... Done\n",
            "Reading state information... Done\n",
            "47 packages can be upgraded. Run 'apt list --upgradable' to see them.\n",
            "\u001b[1;33mW: \u001b[0mSkipping acquire of configured file 'main/source/Sources' as repository 'https://r2u.stat.illinois.edu/ubuntu jammy InRelease' does not seem to provide it (sources.list entry misspelt?)\u001b[0m\n",
            "Reading package lists... Done\n",
            "Building dependency tree... Done\n",
            "Reading state information... Done\n",
            "imagemagick is already the newest version (8:6.9.11.60+dfsg-1.3ubuntu0.22.04.5).\n",
            "0 upgraded, 0 newly installed, 0 to remove and 47 not upgraded.\n"
          ]
        }
      ]
    },
    {
      "cell_type": "code",
      "source": [
        "!cat /etc/ImageMagick-6/policy.xml"
      ],
      "metadata": {
        "colab": {
          "base_uri": "https://localhost:8080/"
        },
        "id": "y1QPfAQeWXXy",
        "outputId": "a42d57dd-282b-44b7-c5a4-e93aba3aac9e"
      },
      "execution_count": null,
      "outputs": [
        {
          "output_type": "stream",
          "name": "stdout",
          "text": [
            "<policys>\n",
            "<policy domain='coder' rights='read|write' pattern='*' />\n",
            "</policys>\n"
          ]
        }
      ]
    },
    {
      "cell_type": "code",
      "source": [
        "import os\n",
        "os.environ['MAGICK_HOME'] = \"/usr/lib/ImageMagick-6/\""
      ],
      "metadata": {
        "id": "j-XyKyrYWaGI"
      },
      "execution_count": null,
      "outputs": []
    },
    {
      "cell_type": "code",
      "source": [
        "!pip uninstall moviepy -y\n",
        "!pip install moviepy"
      ],
      "metadata": {
        "colab": {
          "base_uri": "https://localhost:8080/",
          "height": 483
        },
        "id": "43fTnzMqWdfQ",
        "outputId": "bcd600ba-ebca-4669-df81-2f844c030657"
      },
      "execution_count": null,
      "outputs": [
        {
          "output_type": "stream",
          "name": "stdout",
          "text": [
            "Found existing installation: moviepy 1.0.3\n",
            "Uninstalling moviepy-1.0.3:\n",
            "  Successfully uninstalled moviepy-1.0.3\n",
            "Collecting moviepy\n",
            "  Using cached moviepy-1.0.3-py3-none-any.whl\n",
            "Requirement already satisfied: decorator<5.0,>=4.0.2 in /usr/local/lib/python3.10/dist-packages (from moviepy) (4.4.2)\n",
            "Requirement already satisfied: tqdm<5.0,>=4.11.2 in /usr/local/lib/python3.10/dist-packages (from moviepy) (4.66.5)\n",
            "Requirement already satisfied: requests<3.0,>=2.8.1 in /usr/local/lib/python3.10/dist-packages (from moviepy) (2.32.3)\n",
            "Requirement already satisfied: proglog<=1.0.0 in /usr/local/lib/python3.10/dist-packages (from moviepy) (0.1.10)\n",
            "Requirement already satisfied: numpy>=1.17.3 in /usr/local/lib/python3.10/dist-packages (from moviepy) (1.26.4)\n",
            "Requirement already satisfied: imageio<3.0,>=2.5 in /usr/local/lib/python3.10/dist-packages (from moviepy) (2.35.1)\n",
            "Requirement already satisfied: imageio-ffmpeg>=0.2.0 in /usr/local/lib/python3.10/dist-packages (from moviepy) (0.5.1)\n",
            "Requirement already satisfied: pillow>=8.3.2 in /usr/local/lib/python3.10/dist-packages (from imageio<3.0,>=2.5->moviepy) (10.4.0)\n",
            "Requirement already satisfied: setuptools in /usr/local/lib/python3.10/dist-packages (from imageio-ffmpeg>=0.2.0->moviepy) (71.0.4)\n",
            "Requirement already satisfied: charset-normalizer<4,>=2 in /usr/local/lib/python3.10/dist-packages (from requests<3.0,>=2.8.1->moviepy) (3.3.2)\n",
            "Requirement already satisfied: idna<4,>=2.5 in /usr/local/lib/python3.10/dist-packages (from requests<3.0,>=2.8.1->moviepy) (3.10)\n",
            "Requirement already satisfied: urllib3<3,>=1.21.1 in /usr/local/lib/python3.10/dist-packages (from requests<3.0,>=2.8.1->moviepy) (2.2.3)\n",
            "Requirement already satisfied: certifi>=2017.4.17 in /usr/local/lib/python3.10/dist-packages (from requests<3.0,>=2.8.1->moviepy) (2024.8.30)\n",
            "Installing collected packages: moviepy\n",
            "Successfully installed moviepy-1.0.3\n"
          ]
        },
        {
          "output_type": "display_data",
          "data": {
            "application/vnd.colab-display-data+json": {
              "pip_warning": {
                "packages": [
                  "moviepy"
                ]
              },
              "id": "1c30e0231b6e4fb6b9a8656ee2b8d2a6"
            }
          },
          "metadata": {}
        }
      ]
    },
    {
      "cell_type": "code",
      "execution_count": null,
      "metadata": {
        "colab": {
          "base_uri": "https://localhost:8080/"
        },
        "collapsed": true,
        "id": "dXkKlnYfAEyH",
        "outputId": "9c565989-40b5-41d8-9a65-74f6442d9011"
      },
      "outputs": [
        {
          "output_type": "stream",
          "name": "stdout",
          "text": [
            "Moviepy - Building video minecraft_with_subtitles.mp4.\n",
            "MoviePy - Writing audio in minecraft_with_subtitlesTEMP_MPY_wvf_snd.mp3\n"
          ]
        },
        {
          "output_type": "stream",
          "name": "stderr",
          "text": []
        },
        {
          "output_type": "stream",
          "name": "stdout",
          "text": [
            "MoviePy - Done.\n",
            "Moviepy - Writing video minecraft_with_subtitles.mp4\n",
            "\n"
          ]
        },
        {
          "output_type": "stream",
          "name": "stderr",
          "text": [
            "t: 100%|█████████▉| 1810/1811 [01:22<00:00, 22.78it/s, now=None]WARNING:py.warnings:/usr/local/lib/python3.10/dist-packages/moviepy/video/io/ffmpeg_reader.py:123: UserWarning: Warning: in file trimmed_video.mp4, 6220800 bytes wanted but 0 bytes read,at frame 1809/1811, at time 30.15/30.17 sec. Using the last valid frame instead.\n",
            "  warnings.warn(\"Warning: in file %s, \"%(self.filename)+\n",
            "\n",
            "WARNING:py.warnings:/usr/local/lib/python3.10/dist-packages/moviepy/video/io/ffmpeg_reader.py:123: UserWarning: Warning: in file trimmed_video.mp4, 6220800 bytes wanted but 0 bytes read,at frame 1810/1811, at time 30.17/30.17 sec. Using the last valid frame instead.\n",
            "  warnings.warn(\"Warning: in file %s, \"%(self.filename)+\n",
            "\n"
          ]
        },
        {
          "output_type": "stream",
          "name": "stdout",
          "text": [
            "Moviepy - Done !\n",
            "Moviepy - video ready minecraft_with_subtitles.mp4\n"
          ]
        }
      ],
      "source": [
        "from moviepy.editor import VideoFileClip, TextClip, CompositeVideoClip\n",
        "\n",
        "video = VideoFileClip(\"trimmed_video.mp4\")\n",
        "\n",
        "subtitles_clips = []\n",
        "\n",
        "for subtitle in subtitles_data:\n",
        "    text = TextClip(subtitle['word'], font=\"Poppins-Regular.ttf\", fontsize=100, color='white')\n",
        "    text = text.set_start(subtitle['start']).set_duration(subtitle['end'] - subtitle['start'])\n",
        "    text = text.set_position(('center', 'center'))\n",
        "    subtitles_clips.append(text)\n",
        "\n",
        "final_video = CompositeVideoClip([video] + subtitles_clips)\n",
        "final_video.write_videofile(\"minecraft_with_subtitles.mp4\", fps=video.fps)\n"
      ]
    },
    {
      "cell_type": "markdown",
      "metadata": {
        "id": "IISSBGYQDO3B"
      },
      "source": [
        "# Finally merge video and audio"
      ]
    },
    {
      "cell_type": "code",
      "source": [
        "import yt_dlp\n",
        "\n",
        "save_path = '/content/drive/MyDrive/background.%(ext)s'\n",
        "\n",
        "ydl_opts = {\n",
        "    'outtmpl': save_path,\n",
        "    'format': 'bestaudio/best',\n",
        "    'postprocessors': [\n",
        "        {  # Extract audio using ffmpeg\n",
        "            'key': 'FFmpegExtractAudio',\n",
        "            'preferredcodec': 'mp3',\n",
        "            'preferredquality': '192',\n",
        "        }\n",
        "    ],\n",
        "}\n",
        "\n",
        "url = 'https://www.youtube.com/watch?v=vi84zA6iC7w'\n",
        "\n",
        "with yt_dlp.YoutubeDL(ydl_opts) as ydl:\n",
        "    ydl.download([url])"
      ],
      "metadata": {
        "colab": {
          "base_uri": "https://localhost:8080/"
        },
        "id": "poU_0uobWvLz",
        "outputId": "c3145a22-d5e9-4edb-c0a9-ebc40615ed02"
      },
      "execution_count": null,
      "outputs": [
        {
          "output_type": "stream",
          "name": "stdout",
          "text": [
            "[youtube] Extracting URL: https://www.youtube.com/watch?v=vi84zA6iC7w\n",
            "[youtube] vi84zA6iC7w: Downloading webpage\n",
            "[youtube] vi84zA6iC7w: Downloading ios player API JSON\n",
            "[youtube] vi84zA6iC7w: Downloading web creator player API JSON\n",
            "[youtube] vi84zA6iC7w: Downloading m3u8 information\n",
            "[info] vi84zA6iC7w: Downloading 1 format(s): 251\n",
            "[download] Destination: /content/drive/MyDrive/background.webm\n",
            "[download] 100% of    1.62MiB in 00:00:00 at 3.94MiB/s   \n",
            "[ExtractAudio] Destination: /content/drive/MyDrive/background.mp3\n",
            "Deleting original file /content/drive/MyDrive/background.webm (pass -k to keep)\n"
          ]
        }
      ]
    },
    {
      "cell_type": "code",
      "execution_count": null,
      "metadata": {
        "colab": {
          "base_uri": "https://localhost:8080/"
        },
        "collapsed": true,
        "id": "QUP96yySCfAr",
        "outputId": "abedf250-8239-4001-e34b-745662f08db8"
      },
      "outputs": [
        {
          "output_type": "stream",
          "name": "stdout",
          "text": [
            "Moviepy - Building video output.mp4.\n",
            "MoviePy - Writing audio in outputTEMP_MPY_wvf_snd.mp3\n"
          ]
        },
        {
          "output_type": "stream",
          "name": "stderr",
          "text": []
        },
        {
          "output_type": "stream",
          "name": "stdout",
          "text": [
            "MoviePy - Done.\n",
            "Moviepy - Writing video output.mp4\n",
            "\n"
          ]
        },
        {
          "output_type": "stream",
          "name": "stderr",
          "text": [
            "t: 100%|█████████▉| 1806/1812 [00:23<00:00, 84.37it/s, now=None]WARNING:py.warnings:/usr/local/lib/python3.10/dist-packages/moviepy/video/io/ffmpeg_reader.py:123: UserWarning: Warning: in file minecraft_with_subtitles.mp4, 6220800 bytes wanted but 0 bytes read,at frame 1811/1813, at time 30.18/30.20 sec. Using the last valid frame instead.\n",
            "  warnings.warn(\"Warning: in file %s, \"%(self.filename)+\n",
            "\n"
          ]
        },
        {
          "output_type": "stream",
          "name": "stdout",
          "text": [
            "Moviepy - Done !\n",
            "Moviepy - video ready output.mp4\n"
          ]
        }
      ],
      "source": [
        "from moviepy.editor import VideoFileClip, AudioFileClip\n",
        "\n",
        "video = VideoFileClip(\"minecraft_with_subtitles.mp4\")\n",
        "\n",
        "audio = AudioFileClip(\"output.mp3\")\n",
        "\n",
        "final_video = video.set_audio(audio)\n",
        "\n",
        "final_video.write_videofile(\"output.mp4\", fps=video.fps)"
      ]
    },
    {
      "cell_type": "code",
      "source": [
        "from moviepy.editor import VideoFileClip, AudioFileClip, CompositeAudioClip\n",
        "\n",
        "video_clip = VideoFileClip(\"output.mp4\")\n",
        "original_audio = video_clip.audio\n",
        "\n",
        "background_audio = AudioFileClip(\"/content/drive/MyDrive/background.mp3\").volumex(0.11)\n",
        "\n",
        "background_audio = background_audio.set_duration(video_clip.duration)\n",
        "\n",
        "combined_audio = CompositeAudioClip([original_audio, background_audio])\n",
        "\n",
        "final_clip = video_clip.set_audio(combined_audio)\n",
        "\n",
        "final_clip.write_videofile(\"output_with_music.mp4\", codec=\"libx264\", audio_codec=\"aac\")"
      ],
      "metadata": {
        "colab": {
          "base_uri": "https://localhost:8080/"
        },
        "id": "myA8-notW-95",
        "outputId": "504bab27-9c0f-440a-b435-a45da0d99b0d"
      },
      "execution_count": null,
      "outputs": [
        {
          "output_type": "stream",
          "name": "stdout",
          "text": [
            "Moviepy - Building video output_with_music.mp4.\n",
            "MoviePy - Writing audio in output_with_musicTEMP_MPY_wvf_snd.mp4\n"
          ]
        },
        {
          "output_type": "stream",
          "name": "stderr",
          "text": []
        },
        {
          "output_type": "stream",
          "name": "stdout",
          "text": [
            "MoviePy - Done.\n",
            "Moviepy - Writing video output_with_music.mp4\n",
            "\n"
          ]
        },
        {
          "output_type": "stream",
          "name": "stderr",
          "text": []
        },
        {
          "output_type": "stream",
          "name": "stdout",
          "text": [
            "Moviepy - Done !\n",
            "Moviepy - video ready output_with_music.mp4\n"
          ]
        }
      ]
    },
    {
      "cell_type": "code",
      "execution_count": null,
      "metadata": {
        "colab": {
          "base_uri": "https://localhost:8080/",
          "height": 17
        },
        "id": "kDoVPyDlCmCX",
        "outputId": "2085702b-9e45-4352-bf4c-5c41099d4f67"
      },
      "outputs": [
        {
          "output_type": "display_data",
          "data": {
            "text/plain": [
              "<IPython.core.display.Javascript object>"
            ],
            "application/javascript": [
              "\n",
              "    async function download(id, filename, size) {\n",
              "      if (!google.colab.kernel.accessAllowed) {\n",
              "        return;\n",
              "      }\n",
              "      const div = document.createElement('div');\n",
              "      const label = document.createElement('label');\n",
              "      label.textContent = `Downloading \"${filename}\": `;\n",
              "      div.appendChild(label);\n",
              "      const progress = document.createElement('progress');\n",
              "      progress.max = size;\n",
              "      div.appendChild(progress);\n",
              "      document.body.appendChild(div);\n",
              "\n",
              "      const buffers = [];\n",
              "      let downloaded = 0;\n",
              "\n",
              "      const channel = await google.colab.kernel.comms.open(id);\n",
              "      // Send a message to notify the kernel that we're ready.\n",
              "      channel.send({})\n",
              "\n",
              "      for await (const message of channel.messages) {\n",
              "        // Send a message to notify the kernel that we're ready.\n",
              "        channel.send({})\n",
              "        if (message.buffers) {\n",
              "          for (const buffer of message.buffers) {\n",
              "            buffers.push(buffer);\n",
              "            downloaded += buffer.byteLength;\n",
              "            progress.value = downloaded;\n",
              "          }\n",
              "        }\n",
              "      }\n",
              "      const blob = new Blob(buffers, {type: 'application/binary'});\n",
              "      const a = document.createElement('a');\n",
              "      a.href = window.URL.createObjectURL(blob);\n",
              "      a.download = filename;\n",
              "      div.appendChild(a);\n",
              "      a.click();\n",
              "      div.remove();\n",
              "    }\n",
              "  "
            ]
          },
          "metadata": {}
        },
        {
          "output_type": "display_data",
          "data": {
            "text/plain": [
              "<IPython.core.display.Javascript object>"
            ],
            "application/javascript": [
              "download(\"download_17179656-1c0d-4e0f-bd8b-8597b077cdc4\", \"output_with_music.mp4\", 30619042)"
            ]
          },
          "metadata": {}
        }
      ],
      "source": [
        "from google.colab import files\n",
        "files.download(\"output_with_music.mp4\")"
      ]
    },
    {
      "cell_type": "markdown",
      "source": [
        "# Add Image"
      ],
      "metadata": {
        "id": "GHrIZTWrfTUd"
      }
    },
    {
      "cell_type": "code",
      "source": [
        "print(subtitles_data)"
      ],
      "metadata": {
        "colab": {
          "base_uri": "https://localhost:8080/"
        },
        "id": "LfDa5uWhfVjV",
        "outputId": "62eabdd9-4be4-4130-a278-c864c084b0ef"
      },
      "execution_count": null,
      "outputs": [
        {
          "output_type": "stream",
          "name": "stdout",
          "text": [
            "[{'word': \"Isn't\", 'start': 0.0, 'end': 0.46}, {'word': 'it', 'start': 0.46, 'end': 0.66}, {'word': 'funny', 'start': 0.66, 'end': 0.88}, {'word': 'that', 'start': 0.88, 'end': 1.02}, {'word': 'we', 'start': 1.02, 'end': 1.18}, {'word': \"don't\", 'start': 1.18, 'end': 1.38}, {'word': 'wash', 'start': 1.38, 'end': 1.66}, {'word': 'our', 'start': 1.66, 'end': 1.9}, {'word': 'hands,', 'start': 1.9, 'end': 2.22}, {'word': 'our', 'start': 2.46, 'end': 2.64}, {'word': 'hands', 'start': 2.64, 'end': 2.9}, {'word': 'just', 'start': 2.9, 'end': 3.22}, {'word': 'wash', 'start': 3.22, 'end': 3.46}, {'word': 'each', 'start': 3.46, 'end': 3.68}, {'word': 'other?', 'start': 3.68, 'end': 4.26}, {'word': 'Shower', 'start': 5.02, 'end': 5.32}, {'word': 'thoughts.', 'start': 5.32, 'end': 5.78}, {'word': 'You', 'start': 6.82, 'end': 6.92}, {'word': 'never', 'start': 6.92, 'end': 7.2}, {'word': 'actually', 'start': 7.2, 'end': 7.66}, {'word': 'stop', 'start': 7.66, 'end': 7.96}, {'word': 'clapping,', 'start': 7.96, 'end': 8.4}, {'word': 'the', 'start': 8.7, 'end': 8.94}, {'word': 'time', 'start': 8.94, 'end': 9.14}, {'word': 'between', 'start': 9.14, 'end': 9.52}, {'word': 'claps', 'start': 9.52, 'end': 10.0}, {'word': 'just', 'start': 10.0, 'end': 10.42}, {'word': 'gets', 'start': 10.42, 'end': 10.62}, {'word': 'longer.', 'start': 10.62, 'end': 11.18}, {'word': 'The', 'start': 12.06, 'end': 12.24}, {'word': 'word', 'start': 12.24, 'end': 12.48}, {'word': 'silent', 'start': 12.48, 'end': 12.94}, {'word': 'and', 'start': 12.94, 'end': 13.14}, {'word': 'the', 'start': 13.14, 'end': 13.34}, {'word': 'word', 'start': 13.34, 'end': 13.5}, {'word': 'listen', 'start': 13.5, 'end': 13.96}, {'word': 'use', 'start': 13.96, 'end': 14.26}, {'word': 'the', 'start': 14.26, 'end': 14.5}, {'word': 'exact', 'start': 14.5, 'end': 14.86}, {'word': 'same', 'start': 14.86, 'end': 15.12}, {'word': 'letters.', 'start': 15.12, 'end': 15.58}, {'word': 'One', 'start': 16.62, 'end': 16.86}, {'word': 'day,', 'start': 16.86, 'end': 17.22}, {'word': 'someone', 'start': 17.48, 'end': 17.66}, {'word': 'will', 'start': 17.66, 'end': 17.84}, {'word': 'think', 'start': 17.84, 'end': 18.06}, {'word': 'about', 'start': 18.06, 'end': 18.34}, {'word': 'you', 'start': 18.34, 'end': 18.52}, {'word': 'for', 'start': 18.52, 'end': 18.7}, {'word': 'the', 'start': 18.7, 'end': 18.86}, {'word': 'last', 'start': 18.86, 'end': 19.14}, {'word': 'time', 'start': 19.14, 'end': 19.34}, {'word': 'in', 'start': 19.34, 'end': 19.58}, {'word': 'human', 'start': 19.58, 'end': 19.8}, {'word': 'history.', 'start': 19.8, 'end': 20.4}, {'word': 'Every', 'start': 21.34, 'end': 21.58}, {'word': 'time', 'start': 21.58, 'end': 21.78}, {'word': 'you', 'start': 21.78, 'end': 21.96}, {'word': 'close', 'start': 21.96, 'end': 22.2}, {'word': 'your', 'start': 22.2, 'end': 22.46}, {'word': 'eyes,', 'start': 22.46, 'end': 22.8}, {'word': \"you're\", 'start': 23.02, 'end': 23.16}, {'word': 'temporarily', 'start': 23.16, 'end': 23.76}, {'word': 'cutting', 'start': 23.76, 'end': 24.02}, {'word': 'off', 'start': 24.02, 'end': 24.28}, {'word': 'your', 'start': 24.28, 'end': 24.5}, {'word': 'connection', 'start': 24.5, 'end': 24.88}, {'word': 'to', 'start': 24.88, 'end': 25.04}, {'word': 'the', 'start': 25.04, 'end': 25.24}, {'word': 'world.', 'start': 25.24, 'end': 25.6}, {'word': 'You', 'start': 26.42, 'end': 26.66}, {'word': 'spend', 'start': 26.66, 'end': 26.88}, {'word': 'your', 'start': 26.88, 'end': 27.08}, {'word': 'entire', 'start': 27.08, 'end': 27.46}, {'word': 'life', 'start': 27.46, 'end': 27.78}, {'word': 'gathering', 'start': 27.78, 'end': 28.12}, {'word': 'people', 'start': 28.12, 'end': 28.46}, {'word': 'for', 'start': 28.46, 'end': 28.64}, {'word': 'your', 'start': 28.64, 'end': 28.84}, {'word': 'funeral.', 'start': 28.84, 'end': 29.28}]\n"
          ]
        }
      ]
    },
    {
      "cell_type": "code",
      "source": [
        "print(text)"
      ],
      "metadata": {
        "colab": {
          "base_uri": "https://localhost:8080/"
        },
        "id": "VE7EO7ecfvrC",
        "outputId": "da4b5262-39b0-46e6-afa4-8442924a8865"
      },
      "execution_count": null,
      "outputs": [
        {
          "output_type": "stream",
          "name": "stdout",
          "text": [
            "Isn’t it funny that we don’t wash our hands; our hands just wash each other.\n",
            "\n",
            "Shower thoughts.\n",
            "\n",
            "You never actually stop clapping, the time between claps just gets longer.\n",
            "\n",
            "The word “silent” and the word “listen” use the exact same letters.\n",
            "\n",
            "One day, someone will think about you for the last time in human history.\n",
            "\n",
            "Every time you close your eyes, you’re temporarily cutting off your connection to the world.\n",
            "\n",
            "You spend your entire life gathering people for your funeral.\n",
            "\n"
          ]
        }
      ]
    },
    {
      "cell_type": "code",
      "source": [
        "!pip install spacy"
      ],
      "metadata": {
        "colab": {
          "base_uri": "https://localhost:8080/"
        },
        "collapsed": true,
        "id": "kOJjuMpZgI-K",
        "outputId": "731f9ed9-141d-4d2a-9a51-328a1e22ddfe"
      },
      "execution_count": null,
      "outputs": [
        {
          "output_type": "stream",
          "name": "stdout",
          "text": [
            "Requirement already satisfied: spacy in /usr/local/lib/python3.10/dist-packages (3.7.5)\n",
            "Requirement already satisfied: spacy-legacy<3.1.0,>=3.0.11 in /usr/local/lib/python3.10/dist-packages (from spacy) (3.0.12)\n",
            "Requirement already satisfied: spacy-loggers<2.0.0,>=1.0.0 in /usr/local/lib/python3.10/dist-packages (from spacy) (1.0.5)\n",
            "Requirement already satisfied: murmurhash<1.1.0,>=0.28.0 in /usr/local/lib/python3.10/dist-packages (from spacy) (1.0.10)\n",
            "Requirement already satisfied: cymem<2.1.0,>=2.0.2 in /usr/local/lib/python3.10/dist-packages (from spacy) (2.0.8)\n",
            "Requirement already satisfied: preshed<3.1.0,>=3.0.2 in /usr/local/lib/python3.10/dist-packages (from spacy) (3.0.9)\n",
            "Requirement already satisfied: thinc<8.3.0,>=8.2.2 in /usr/local/lib/python3.10/dist-packages (from spacy) (8.2.5)\n",
            "Requirement already satisfied: wasabi<1.2.0,>=0.9.1 in /usr/local/lib/python3.10/dist-packages (from spacy) (1.1.3)\n",
            "Requirement already satisfied: srsly<3.0.0,>=2.4.3 in /usr/local/lib/python3.10/dist-packages (from spacy) (2.4.8)\n",
            "Requirement already satisfied: catalogue<2.1.0,>=2.0.6 in /usr/local/lib/python3.10/dist-packages (from spacy) (2.0.10)\n",
            "Requirement already satisfied: weasel<0.5.0,>=0.1.0 in /usr/local/lib/python3.10/dist-packages (from spacy) (0.4.1)\n",
            "Requirement already satisfied: typer<1.0.0,>=0.3.0 in /usr/local/lib/python3.10/dist-packages (from spacy) (0.12.5)\n",
            "Requirement already satisfied: tqdm<5.0.0,>=4.38.0 in /usr/local/lib/python3.10/dist-packages (from spacy) (4.66.5)\n",
            "Requirement already satisfied: requests<3.0.0,>=2.13.0 in /usr/local/lib/python3.10/dist-packages (from spacy) (2.32.3)\n",
            "Requirement already satisfied: pydantic!=1.8,!=1.8.1,<3.0.0,>=1.7.4 in /usr/local/lib/python3.10/dist-packages (from spacy) (2.9.2)\n",
            "Requirement already satisfied: jinja2 in /usr/local/lib/python3.10/dist-packages (from spacy) (3.1.4)\n",
            "Requirement already satisfied: setuptools in /usr/local/lib/python3.10/dist-packages (from spacy) (71.0.4)\n",
            "Requirement already satisfied: packaging>=20.0 in /usr/local/lib/python3.10/dist-packages (from spacy) (24.1)\n",
            "Requirement already satisfied: langcodes<4.0.0,>=3.2.0 in /usr/local/lib/python3.10/dist-packages (from spacy) (3.4.1)\n",
            "Requirement already satisfied: numpy>=1.19.0 in /usr/local/lib/python3.10/dist-packages (from spacy) (1.26.4)\n",
            "Requirement already satisfied: language-data>=1.2 in /usr/local/lib/python3.10/dist-packages (from langcodes<4.0.0,>=3.2.0->spacy) (1.2.0)\n",
            "Requirement already satisfied: annotated-types>=0.6.0 in /usr/local/lib/python3.10/dist-packages (from pydantic!=1.8,!=1.8.1,<3.0.0,>=1.7.4->spacy) (0.7.0)\n",
            "Requirement already satisfied: pydantic-core==2.23.4 in /usr/local/lib/python3.10/dist-packages (from pydantic!=1.8,!=1.8.1,<3.0.0,>=1.7.4->spacy) (2.23.4)\n",
            "Requirement already satisfied: typing-extensions>=4.6.1 in /usr/local/lib/python3.10/dist-packages (from pydantic!=1.8,!=1.8.1,<3.0.0,>=1.7.4->spacy) (4.12.2)\n",
            "Requirement already satisfied: charset-normalizer<4,>=2 in /usr/local/lib/python3.10/dist-packages (from requests<3.0.0,>=2.13.0->spacy) (3.3.2)\n",
            "Requirement already satisfied: idna<4,>=2.5 in /usr/local/lib/python3.10/dist-packages (from requests<3.0.0,>=2.13.0->spacy) (3.10)\n",
            "Requirement already satisfied: urllib3<3,>=1.21.1 in /usr/local/lib/python3.10/dist-packages (from requests<3.0.0,>=2.13.0->spacy) (2.2.3)\n",
            "Requirement already satisfied: certifi>=2017.4.17 in /usr/local/lib/python3.10/dist-packages (from requests<3.0.0,>=2.13.0->spacy) (2024.8.30)\n",
            "Requirement already satisfied: blis<0.8.0,>=0.7.8 in /usr/local/lib/python3.10/dist-packages (from thinc<8.3.0,>=8.2.2->spacy) (0.7.11)\n",
            "Requirement already satisfied: confection<1.0.0,>=0.0.1 in /usr/local/lib/python3.10/dist-packages (from thinc<8.3.0,>=8.2.2->spacy) (0.1.5)\n",
            "Requirement already satisfied: click>=8.0.0 in /usr/local/lib/python3.10/dist-packages (from typer<1.0.0,>=0.3.0->spacy) (8.1.7)\n",
            "Requirement already satisfied: shellingham>=1.3.0 in /usr/local/lib/python3.10/dist-packages (from typer<1.0.0,>=0.3.0->spacy) (1.5.4)\n",
            "Requirement already satisfied: rich>=10.11.0 in /usr/local/lib/python3.10/dist-packages (from typer<1.0.0,>=0.3.0->spacy) (13.8.1)\n",
            "Requirement already satisfied: cloudpathlib<1.0.0,>=0.7.0 in /usr/local/lib/python3.10/dist-packages (from weasel<0.5.0,>=0.1.0->spacy) (0.19.0)\n",
            "Requirement already satisfied: smart-open<8.0.0,>=5.2.1 in /usr/local/lib/python3.10/dist-packages (from weasel<0.5.0,>=0.1.0->spacy) (7.0.4)\n",
            "Requirement already satisfied: MarkupSafe>=2.0 in /usr/local/lib/python3.10/dist-packages (from jinja2->spacy) (2.1.5)\n",
            "Requirement already satisfied: marisa-trie>=0.7.7 in /usr/local/lib/python3.10/dist-packages (from language-data>=1.2->langcodes<4.0.0,>=3.2.0->spacy) (1.2.0)\n",
            "Requirement already satisfied: markdown-it-py>=2.2.0 in /usr/local/lib/python3.10/dist-packages (from rich>=10.11.0->typer<1.0.0,>=0.3.0->spacy) (3.0.0)\n",
            "Requirement already satisfied: pygments<3.0.0,>=2.13.0 in /usr/local/lib/python3.10/dist-packages (from rich>=10.11.0->typer<1.0.0,>=0.3.0->spacy) (2.18.0)\n",
            "Requirement already satisfied: wrapt in /usr/local/lib/python3.10/dist-packages (from smart-open<8.0.0,>=5.2.1->weasel<0.5.0,>=0.1.0->spacy) (1.14.1)\n",
            "Requirement already satisfied: mdurl~=0.1 in /usr/local/lib/python3.10/dist-packages (from markdown-it-py>=2.2.0->rich>=10.11.0->typer<1.0.0,>=0.3.0->spacy) (0.1.2)\n"
          ]
        }
      ]
    },
    {
      "cell_type": "code",
      "source": [
        "import spacy\n",
        "\n",
        "nlp = spacy.load(\"en_core_web_sm\")\n",
        "\n",
        "def extract_keywords(text):\n",
        "    doc = nlp(text)\n",
        "    keywords = []\n",
        "    for token in doc:\n",
        "        if token.pos_ in ('NOUN', 'PROPN', 'VERB'):\n",
        "            keywords.append(token.lemma_)\n",
        "    return keywords\n",
        "\n",
        "keywords = extract_keywords(text)\n",
        "print(f\"Original sentence: {text}\")\n",
        "print(f\"Extracted keywords: {keywords}\")"
      ],
      "metadata": {
        "colab": {
          "base_uri": "https://localhost:8080/"
        },
        "id": "KuPvR_Lnf8RF",
        "outputId": "47ffcf0c-cbee-43e0-97c1-76e5243a4b93"
      },
      "execution_count": null,
      "outputs": [
        {
          "output_type": "stream",
          "name": "stdout",
          "text": [
            "Original sentence: Isn’t it funny that we don’t wash our hands; our hands just wash each other.\n",
            "\n",
            "Shower thoughts.\n",
            "\n",
            "You never actually stop clapping, the time between claps just gets longer.\n",
            "\n",
            "The word “silent” and the word “listen” use the exact same letters.\n",
            "\n",
            "One day, someone will think about you for the last time in human history.\n",
            "\n",
            "Every time you close your eyes, you’re temporarily cutting off your connection to the world.\n",
            "\n",
            "You spend your entire life gathering people for your funeral.\n",
            "\n",
            "Extracted keywords: ['wash', 'hand', 'hand', 'wash', 'Shower', 'thought', 'stop', 'clap', 'time', 'clap', 'get', 'word', 'word', 'listen', 'use', 'letter', 'day', 'think', 'time', 'history', 'time', 'close', 'eye', 'cut', 'connection', 'world', 'spend', 'life', 'gather', 'people', 'funeral']\n"
          ]
        }
      ]
    },
    {
      "cell_type": "code",
      "source": [
        "keywords.append(\"funny\")\n",
        "keywords.append(\"wash\")\n",
        "keywords.append(\"shower\")\n",
        "keywords.append(\"you\")\n",
        "keywords.append(\"each\")\n",
        "keywords.append(\"other\")\n",
        "keywords.append(\"clapping\")\n",
        "keywords.append(\"longer\")\n",
        "keywords.append(\"letters\")\n",
        "keywords.append(\"last\")\n",
        "keywords.append(\"human\")\n",
        "keywords.append(\"history\")\n",
        "keywords.append(\"connection\")\n",
        "keywords.append(\"funeral\")"
      ],
      "metadata": {
        "id": "YfXittH-qgco"
      },
      "execution_count": null,
      "outputs": []
    },
    {
      "cell_type": "code",
      "source": [
        "!pip install bing-image-downloader"
      ],
      "metadata": {
        "colab": {
          "base_uri": "https://localhost:8080/"
        },
        "id": "zMLrNnD8gxYw",
        "outputId": "8800ccee-29e0-4528-efae-bac1330727c8"
      },
      "execution_count": null,
      "outputs": [
        {
          "output_type": "stream",
          "name": "stdout",
          "text": [
            "Collecting bing-image-downloader\n",
            "  Downloading bing_image_downloader-1.1.2-py3-none-any.whl.metadata (2.8 kB)\n",
            "Downloading bing_image_downloader-1.1.2-py3-none-any.whl (5.9 kB)\n",
            "Installing collected packages: bing-image-downloader\n",
            "Successfully installed bing-image-downloader-1.1.2\n"
          ]
        }
      ]
    },
    {
      "cell_type": "code",
      "source": [
        "from bing_image_downloader import downloader\n",
        "import os\n",
        "\n",
        "output_dir = 'images'\n",
        "\n",
        "os.makedirs(output_dir, exist_ok=True)\n",
        "\n",
        "for keyword in keywords:\n",
        "    downloader.download(keyword, limit=1,\n",
        "                        output_dir=output_dir,\n",
        "                        adult_filter_off=True,\n",
        "                        force_replace=False,\n",
        "                        timeout=60)\n",
        "\n",
        "    keyword_folder = os.path.join(output_dir, keyword)\n",
        "    downloaded_files = os.listdir(keyword_folder)\n",
        "\n",
        "    for file_name in downloaded_files:\n",
        "        old_file_path = os.path.join(keyword_folder, file_name)\n",
        "        new_file_name = f\"{keyword}.jpg\"\n",
        "        new_file_path = os.path.join(output_dir, new_file_name)\n",
        "\n",
        "        os.rename(old_file_path, new_file_path)\n",
        "\n",
        "    if not os.listdir(keyword_folder):\n",
        "        os.rmdir(keyword_folder)"
      ],
      "metadata": {
        "colab": {
          "base_uri": "https://localhost:8080/"
        },
        "collapsed": true,
        "id": "-AhNG8xog2Jq",
        "outputId": "437a1deb-7190-40ad-a944-ead2d33e8052"
      },
      "execution_count": null,
      "outputs": [
        {
          "output_type": "stream",
          "name": "stdout",
          "text": [
            "[%] Downloading Images to /content/images/wash\n",
            "\n",
            "\n",
            "[!!]Indexing page: 1\n",
            "\n",
            "[%] Indexed 1 Images on Page 1.\n",
            "\n",
            "===============================================\n",
            "\n",
            "[%] Downloading Image #1 from https://creazilla-store.fra1.digitaloceanspaces.com/cliparts/1606191/hand-washing-clipart-xl.png\n",
            "[%] File Downloaded !\n",
            "\n",
            "\n",
            "\n",
            "[%] Done. Downloaded 1 images.\n",
            "[%] Downloading Images to /content/images/hand\n",
            "\n",
            "\n",
            "[!!]Indexing page: 1\n",
            "\n",
            "[%] Indexed 1 Images on Page 1.\n",
            "\n",
            "===============================================\n",
            "\n",
            "[%] Downloading Image #1 from https://upload.wikimedia.org/wikipedia/commons/3/32/Human-Hands-Front-Back.jpg\n",
            "[%] File Downloaded !\n",
            "\n",
            "\n",
            "\n",
            "[%] Done. Downloaded 1 images.\n",
            "[%] Downloading Images to /content/images/hand\n",
            "\n",
            "\n",
            "[!!]Indexing page: 1\n",
            "\n",
            "[%] Indexed 1 Images on Page 1.\n",
            "\n",
            "===============================================\n",
            "\n",
            "[%] Downloading Image #1 from https://upload.wikimedia.org/wikipedia/commons/3/32/Human-Hands-Front-Back.jpg\n",
            "[%] File Downloaded !\n",
            "\n",
            "\n",
            "\n",
            "[%] Done. Downloaded 1 images.\n",
            "[%] Downloading Images to /content/images/wash\n",
            "\n",
            "\n",
            "[!!]Indexing page: 1\n",
            "\n",
            "[%] Indexed 1 Images on Page 1.\n",
            "\n",
            "===============================================\n",
            "\n",
            "[%] Downloading Image #1 from https://creazilla-store.fra1.digitaloceanspaces.com/cliparts/1606191/hand-washing-clipart-xl.png\n",
            "[%] File Downloaded !\n",
            "\n",
            "\n",
            "\n",
            "[%] Done. Downloaded 1 images.\n",
            "[%] Downloading Images to /content/images/Shower\n",
            "\n",
            "\n",
            "[!!]Indexing page: 1\n",
            "\n",
            "[%] Indexed 1 Images on Page 1.\n",
            "\n",
            "===============================================\n",
            "\n",
            "[%] Downloading Image #1 from https://images.victorianplumbing.co.uk/images/Pacific-D-Shape-Quadrant-Shower-Enclosure-l.jpg\n",
            "[Error]Invalid image, not saving https://images.victorianplumbing.co.uk/images/Pacific-D-Shape-Quadrant-Shower-Enclosure-l.jpg\n",
            "\n",
            "[!] Issue getting: https://images.victorianplumbing.co.uk/images/Pacific-D-Shape-Quadrant-Shower-Enclosure-l.jpg\n",
            "[!] Error:: Invalid image, not saving https://images.victorianplumbing.co.uk/images/Pacific-D-Shape-Quadrant-Shower-Enclosure-l.jpg\n",
            "\n",
            "\n",
            "\n",
            "[!!]Indexing page: 2\n",
            "\n",
            "[%] Indexed 95 Images on Page 2.\n",
            "\n",
            "===============================================\n",
            "\n",
            "[%] Downloading Image #1 from https://www.seapointe.com/wp-content/uploads/2020/12/glass-shower-tub.jpg\n",
            "[%] File Downloaded !\n",
            "\n",
            "\n",
            "\n",
            "[%] Done. Downloaded 1 images.\n",
            "[%] Downloading Images to /content/images/thought\n",
            "\n",
            "\n",
            "[!!]Indexing page: 1\n",
            "\n",
            "[%] Indexed 1 Images on Page 1.\n",
            "\n",
            "===============================================\n",
            "\n",
            "[%] Downloading Image #1 from http://www.powerthoughtsmeditationclub.com/wp-content/uploads/2015/07/shutterstock_146024933.jpg\n",
            "[%] File Downloaded !\n",
            "\n",
            "\n",
            "\n",
            "[%] Done. Downloaded 1 images.\n",
            "[%] Downloading Images to /content/images/stop\n",
            "\n",
            "\n",
            "[!!]Indexing page: 1\n",
            "\n",
            "[%] Indexed 1 Images on Page 1.\n",
            "\n",
            "===============================================\n",
            "\n",
            "[%] Downloading Image #1 from http://www.photos-public-domain.com/wp-content/uploads/2010/10/stop_sign.jpg\n",
            "[%] File Downloaded !\n",
            "\n",
            "\n",
            "\n",
            "[%] Done. Downloaded 1 images.\n",
            "[%] Downloading Images to /content/images/clap\n",
            "\n",
            "\n",
            "[!!]Indexing page: 1\n",
            "\n",
            "[%] Indexed 1 Images on Page 1.\n",
            "\n",
            "===============================================\n",
            "\n",
            "[%] Downloading Image #1 from https://www.clipartkey.com/mpngs/m/270-2705796_emoji-emoticon-smiley-clapping-clapping-hands.png\n",
            "[!] Issue getting: https://www.clipartkey.com/mpngs/m/270-2705796_emoji-emoticon-smiley-clapping-clapping-hands.png\n",
            "[!] Error:: <urlopen error [Errno 111] Connection refused>\n",
            "\n",
            "\n",
            "[!!]Indexing page: 2\n",
            "\n",
            "[%] Indexed 95 Images on Page 2.\n",
            "\n",
            "===============================================\n",
            "\n",
            "[%] Downloading Image #1 from http://nurseryrhymesforbabies.com/wp-content/uploads/2017/08/Clap.jpg\n",
            "[%] File Downloaded !\n",
            "\n",
            "\n",
            "\n",
            "[%] Done. Downloaded 1 images.\n",
            "[%] Downloading Images to /content/images/time\n",
            "\n",
            "\n",
            "[!!]Indexing page: 1\n",
            "\n",
            "[%] Indexed 1 Images on Page 1.\n",
            "\n",
            "===============================================\n",
            "\n",
            "[%] Downloading Image #1 from https://live.firstnews.co.uk/wp-content/uploads/sites/2/2018/05/iStock-859354560.jpg\n",
            "[%] File Downloaded !\n",
            "\n",
            "\n",
            "\n",
            "[%] Done. Downloaded 1 images.\n",
            "[%] Downloading Images to /content/images/clap\n",
            "\n",
            "\n",
            "[!!]Indexing page: 1\n",
            "\n",
            "[%] Indexed 1 Images on Page 1.\n",
            "\n",
            "===============================================\n",
            "\n",
            "[%] Downloading Image #1 from https://www.clipartkey.com/mpngs/m/270-2705796_emoji-emoticon-smiley-clapping-clapping-hands.png\n",
            "[!] Issue getting: https://www.clipartkey.com/mpngs/m/270-2705796_emoji-emoticon-smiley-clapping-clapping-hands.png\n",
            "[!] Error:: <urlopen error [Errno 111] Connection refused>\n",
            "\n",
            "\n",
            "[!!]Indexing page: 2\n",
            "\n",
            "[%] Indexed 35 Images on Page 2.\n",
            "\n",
            "===============================================\n",
            "\n",
            "[%] Downloading Image #1 from http://nurseryrhymesforbabies.com/wp-content/uploads/2017/08/Clap.jpg\n",
            "[%] File Downloaded !\n",
            "\n",
            "\n",
            "\n",
            "[%] Done. Downloaded 1 images.\n",
            "[%] Downloading Images to /content/images/get\n",
            "\n",
            "\n",
            "[!!]Indexing page: 1\n",
            "\n",
            "[%] Indexed 1 Images on Page 1.\n",
            "\n",
            "===============================================\n",
            "\n",
            "[%] Downloading Image #1 from http://1hello.ru/wp-content/uploads/2016/11/Глагол-Get.png\n",
            "[!] Issue getting: http://1hello.ru/wp-content/uploads/2016/11/Глагол-Get.png\n",
            "[!] Error:: 'ascii' codec can't encode characters in position 32-37: ordinal not in range(128)\n",
            "\n",
            "\n",
            "[!!]Indexing page: 2\n",
            "\n",
            "[%] Indexed 35 Images on Page 2.\n",
            "\n",
            "===============================================\n",
            "\n",
            "[%] Downloading Image #1 from https://4.bp.blogspot.com/-rWguaQtIkao/T38rxn0LAfI/AAAAAAAAAEw/2BT7qugVUXU/s1600/como-usar-el-verbo-to-get.jpg\n",
            "[%] File Downloaded !\n",
            "\n",
            "\n",
            "\n",
            "[%] Done. Downloaded 1 images.\n",
            "[%] Downloading Images to /content/images/word\n",
            "\n",
            "\n",
            "[!!]Indexing page: 1\n",
            "\n",
            "[%] Indexed 1 Images on Page 1.\n",
            "\n",
            "===============================================\n",
            "\n",
            "[%] Downloading Image #1 from https://appfluence.com/productivity/wp-content/uploads/2021/05/Microsoft-Word-Simbolo.png\n",
            "[%] File Downloaded !\n",
            "\n",
            "\n",
            "\n",
            "[%] Done. Downloaded 1 images.\n",
            "[%] Downloading Images to /content/images/word\n",
            "\n",
            "\n",
            "[!!]Indexing page: 1\n",
            "\n",
            "[%] Indexed 1 Images on Page 1.\n",
            "\n",
            "===============================================\n",
            "\n",
            "[%] Downloading Image #1 from https://appfluence.com/productivity/wp-content/uploads/2021/05/Microsoft-Word-Simbolo.png\n",
            "[%] File Downloaded !\n",
            "\n",
            "\n",
            "\n",
            "[%] Done. Downloaded 1 images.\n",
            "[%] Downloading Images to /content/images/listen\n",
            "\n",
            "\n",
            "[!!]Indexing page: 1\n",
            "\n",
            "[%] Indexed 1 Images on Page 1.\n",
            "\n",
            "===============================================\n",
            "\n",
            "[%] Downloading Image #1 from https://www.stevegutzler.com/wp-content/uploads/2018/07/AdobeStock_112948164-1.jpeg\n",
            "[%] File Downloaded !\n",
            "\n",
            "\n",
            "\n",
            "[%] Done. Downloaded 1 images.\n",
            "[%] Downloading Images to /content/images/use\n",
            "\n",
            "\n",
            "[!!]Indexing page: 1\n",
            "\n",
            "[%] Indexed 1 Images on Page 1.\n",
            "\n",
            "===============================================\n",
            "\n",
            "[%] Downloading Image #1 from https://jointo.access-my.app/Use.png\n",
            "[%] File Downloaded !\n",
            "\n",
            "\n",
            "\n",
            "[%] Done. Downloaded 1 images.\n",
            "[%] Downloading Images to /content/images/letter\n",
            "\n",
            "\n",
            "[!!]Indexing page: 1\n",
            "\n",
            "[%] Indexed 1 Images on Page 1.\n",
            "\n",
            "===============================================\n",
            "\n",
            "[%] Downloading Image #1 from http://upload.wikimedia.org/wikipedia/commons/5/5d/Letter.posted.in.1894.arp.jpg\n",
            "[%] File Downloaded !\n",
            "\n",
            "\n",
            "\n",
            "[%] Done. Downloaded 1 images.\n",
            "[%] Downloading Images to /content/images/day\n",
            "\n",
            "\n",
            "[!!]Indexing page: 1\n",
            "\n",
            "[%] Indexed 1 Images on Page 1.\n",
            "\n",
            "===============================================\n",
            "\n",
            "[%] Downloading Image #1 from https://theswirlworld.com/wp-content/uploads/2015/12/shareasimageEveryDayIsANewDay.jpg\n",
            "[%] File Downloaded !\n",
            "\n",
            "\n",
            "\n",
            "[%] Done. Downloaded 1 images.\n",
            "[%] Downloading Images to /content/images/think\n",
            "\n",
            "\n",
            "[!!]Indexing page: 1\n",
            "\n",
            "[%] Indexed 1 Images on Page 1.\n",
            "\n",
            "===============================================\n",
            "\n",
            "[%] Downloading Image #1 from http://images.clipartpanda.com/thinking-clipart-think-about-it-clipart-1.jpg\n",
            "[%] File Downloaded !\n",
            "\n",
            "\n",
            "\n",
            "[%] Done. Downloaded 1 images.\n",
            "[%] Downloading Images to /content/images/time\n",
            "\n",
            "\n",
            "[!!]Indexing page: 1\n",
            "\n",
            "[%] Indexed 1 Images on Page 1.\n",
            "\n",
            "===============================================\n",
            "\n",
            "[%] Downloading Image #1 from https://live.firstnews.co.uk/wp-content/uploads/sites/2/2018/05/iStock-859354560.jpg\n",
            "[%] File Downloaded !\n",
            "\n",
            "\n",
            "\n",
            "[%] Done. Downloaded 1 images.\n",
            "[%] Downloading Images to /content/images/history\n",
            "\n",
            "\n",
            "[!!]Indexing page: 1\n",
            "\n",
            "[%] Indexed 1 Images on Page 1.\n",
            "\n",
            "===============================================\n",
            "\n",
            "[%] Downloading Image #1 from https://thumbs.dreamstime.com/z/history-typographic-header-concept-school-subject-idea-science-education-knowledge-past-ancient-isolated-vector-181650655.jpg\n",
            "[%] File Downloaded !\n",
            "\n",
            "\n",
            "\n",
            "[%] Done. Downloaded 1 images.\n",
            "[%] Downloading Images to /content/images/time\n",
            "\n",
            "\n",
            "[!!]Indexing page: 1\n",
            "\n",
            "[%] Indexed 1 Images on Page 1.\n",
            "\n",
            "===============================================\n",
            "\n",
            "[%] Downloading Image #1 from https://live.firstnews.co.uk/wp-content/uploads/sites/2/2018/05/iStock-859354560.jpg\n",
            "[%] File Downloaded !\n",
            "\n",
            "\n",
            "\n",
            "[%] Done. Downloaded 1 images.\n",
            "[%] Downloading Images to /content/images/close\n",
            "\n",
            "\n",
            "[!!]Indexing page: 1\n",
            "\n",
            "[%] Indexed 1 Images on Page 1.\n",
            "\n",
            "===============================================\n",
            "\n",
            "[%] Downloading Image #1 from https://hashtag.ca/wp-content/uploads/2020/03/2329-scaled.jpg\n",
            "[!] Issue getting: https://hashtag.ca/wp-content/uploads/2020/03/2329-scaled.jpg\n",
            "[!] Error:: HTTP Error 520: \n",
            "\n",
            "\n",
            "[!!]Indexing page: 2\n",
            "\n",
            "[%] Indexed 95 Images on Page 2.\n",
            "\n",
            "===============================================\n",
            "\n",
            "[%] Downloading Image #1 from https://image.tmdb.org/t/p/original/j7ReE0UZ9sgtfLvzszMgQw8Mxb2.jpg\n",
            "[%] File Downloaded !\n",
            "\n",
            "\n",
            "\n",
            "[%] Done. Downloaded 1 images.\n",
            "[%] Downloading Images to /content/images/eye\n",
            "\n",
            "\n",
            "[!!]Indexing page: 1\n",
            "\n",
            "[%] Indexed 1 Images on Page 1.\n",
            "\n",
            "===============================================\n",
            "\n",
            "[%] Downloading Image #1 from http://upload.wikimedia.org/wikipedia/commons/6/63/Human_eye_-_blue.JPG\n",
            "[%] File Downloaded !\n",
            "\n",
            "\n",
            "\n",
            "[%] Done. Downloaded 1 images.\n",
            "[%] Downloading Images to /content/images/cut\n",
            "\n",
            "\n",
            "[!!]Indexing page: 1\n",
            "\n",
            "[%] Indexed 1 Images on Page 1.\n",
            "\n",
            "===============================================\n",
            "\n",
            "[%] Downloading Image #1 from https://www.netpicks.com/wp-content/uploads/2014/06/cuttrades.jpg\n",
            "[%] File Downloaded !\n",
            "\n",
            "\n",
            "\n",
            "[%] Done. Downloaded 1 images.\n",
            "[%] Downloading Images to /content/images/connection\n",
            "\n",
            "\n",
            "[!!]Indexing page: 1\n",
            "\n",
            "[%] Indexed 1 Images on Page 1.\n",
            "\n",
            "===============================================\n",
            "\n",
            "[%] Downloading Image #1 from https://durakis.com/wp-content/uploads/2019/03/DES_Connection_Story.jpg\n",
            "[%] File Downloaded !\n",
            "\n",
            "\n",
            "\n",
            "[%] Done. Downloaded 1 images.\n",
            "[%] Downloading Images to /content/images/world\n",
            "\n",
            "\n",
            "[!!]Indexing page: 1\n",
            "\n",
            "[%] Indexed 1 Images on Page 1.\n",
            "\n",
            "===============================================\n",
            "\n",
            "[%] Downloading Image #1 from https://myupdatestar.com/wp-content/uploads/2017/07/world-05-2.jpg\n",
            "[Error]Invalid image, not saving https://myupdatestar.com/wp-content/uploads/2017/07/world-05-2.jpg\n",
            "\n",
            "[!] Issue getting: https://myupdatestar.com/wp-content/uploads/2017/07/world-05-2.jpg\n",
            "[!] Error:: Invalid image, not saving https://myupdatestar.com/wp-content/uploads/2017/07/world-05-2.jpg\n",
            "\n",
            "\n",
            "\n",
            "[!!]Indexing page: 2\n",
            "\n",
            "[%] Indexed 85 Images on Page 2.\n",
            "\n",
            "===============================================\n",
            "\n",
            "[%] Downloading Image #1 from https://static01.nyt.com/images/2016/05/03/world/what-in-the-world/WITW-PROMO/WITW-PROMO-videoSixteenByNineJumbo1600.jpg\n",
            "[%] File Downloaded !\n",
            "\n",
            "\n",
            "\n",
            "[%] Done. Downloaded 1 images.\n",
            "[%] Downloading Images to /content/images/spend\n",
            "\n",
            "\n",
            "[!!]Indexing page: 1\n",
            "\n",
            "[%] Indexed 1 Images on Page 1.\n",
            "\n",
            "===============================================\n",
            "\n",
            "[%] Downloading Image #1 from https://www.success.com/wp-content/uploads/legacy/sites/default/files/main/blogposts/spendwisely.jpg\n",
            "[%] File Downloaded !\n",
            "\n",
            "\n",
            "\n",
            "[%] Done. Downloaded 1 images.\n",
            "[%] Downloading Images to /content/images/life\n",
            "\n",
            "\n",
            "[!!]Indexing page: 1\n",
            "\n",
            "[%] Indexed 1 Images on Page 1.\n",
            "\n",
            "===============================================\n",
            "\n",
            "[%] Downloading Image #1 from http://dreamcatcherreality.com/wp-content/uploads/2016/08/About-The-Tree-of-Life.jpg\n",
            "[%] File Downloaded !\n",
            "\n",
            "\n",
            "\n",
            "[%] Done. Downloaded 1 images.\n",
            "[%] Downloading Images to /content/images/gather\n",
            "\n",
            "\n",
            "[!!]Indexing page: 1\n",
            "\n",
            "[%] Indexed 1 Images on Page 1.\n",
            "\n",
            "===============================================\n",
            "\n",
            "[%] Downloading Image #1 from https://defendinnocence.org/wp-content/uploads/2020/05/Gather-Your-Community.jpg\n",
            "[%] File Downloaded !\n",
            "\n",
            "\n",
            "\n",
            "[%] Done. Downloaded 1 images.\n",
            "[%] Downloading Images to /content/images/people\n",
            "\n",
            "\n",
            "[!!]Indexing page: 1\n",
            "\n",
            "[%] Indexed 1 Images on Page 1.\n",
            "\n",
            "===============================================\n",
            "\n",
            "[%] Downloading Image #1 from https://diabetesneeds.co.uk/wp-content/uploads/2014/11/rsz_young_peoples_needs.jpg\n",
            "[%] File Downloaded !\n",
            "\n",
            "\n",
            "\n",
            "[%] Done. Downloaded 1 images.\n",
            "[%] Downloading Images to /content/images/funeral\n",
            "\n",
            "\n",
            "[!!]Indexing page: 1\n",
            "\n",
            "[%] Indexed 1 Images on Page 1.\n",
            "\n",
            "===============================================\n",
            "\n",
            "[%] Downloading Image #1 from https://www.thecelebrantdirectory.com/assets/2018/07/MSP07431-min.jpg\n",
            "[%] File Downloaded !\n",
            "\n",
            "\n",
            "\n",
            "[%] Done. Downloaded 1 images.\n",
            "[%] Downloading Images to /content/images/funny\n",
            "\n",
            "\n",
            "[!!]Indexing page: 1\n",
            "\n",
            "[%] Indexed 1 Images on Page 1.\n",
            "\n",
            "===============================================\n",
            "\n",
            "[%] Downloading Image #1 from https://www.rd.com/wp-content/uploads/2019/09/GettyImages-621924830-scaled.jpg?w=2560\n",
            "[%] File Downloaded !\n",
            "\n",
            "\n",
            "\n",
            "[%] Done. Downloaded 1 images.\n",
            "[%] Downloading Images to /content/images/wash\n",
            "\n",
            "\n",
            "[!!]Indexing page: 1\n",
            "\n",
            "[%] Indexed 1 Images on Page 1.\n",
            "\n",
            "===============================================\n",
            "\n",
            "[%] Downloading Image #1 from https://creazilla-store.fra1.digitaloceanspaces.com/cliparts/1606191/hand-washing-clipart-xl.png\n",
            "[%] File Downloaded !\n",
            "\n",
            "\n",
            "\n",
            "[%] Done. Downloaded 1 images.\n",
            "[%] Downloading Images to /content/images/shower\n",
            "\n",
            "\n",
            "[!!]Indexing page: 1\n",
            "\n",
            "[%] Indexed 1 Images on Page 1.\n",
            "\n",
            "===============================================\n",
            "\n",
            "[%] Downloading Image #1 from https://images.victorianplumbing.co.uk/images/Pacific-D-Shape-Quadrant-Shower-Enclosure-l.jpg\n",
            "[Error]Invalid image, not saving https://images.victorianplumbing.co.uk/images/Pacific-D-Shape-Quadrant-Shower-Enclosure-l.jpg\n",
            "\n",
            "[!] Issue getting: https://images.victorianplumbing.co.uk/images/Pacific-D-Shape-Quadrant-Shower-Enclosure-l.jpg\n",
            "[!] Error:: Invalid image, not saving https://images.victorianplumbing.co.uk/images/Pacific-D-Shape-Quadrant-Shower-Enclosure-l.jpg\n",
            "\n",
            "\n",
            "\n",
            "[!!]Indexing page: 2\n",
            "\n",
            "[%] Indexed 95 Images on Page 2.\n",
            "\n",
            "===============================================\n",
            "\n",
            "[%] Downloading Image #1 from https://www.seapointe.com/wp-content/uploads/2020/12/glass-shower-tub.jpg\n",
            "[%] File Downloaded !\n",
            "\n",
            "\n",
            "\n",
            "[%] Done. Downloaded 1 images.\n",
            "[%] Downloading Images to /content/images/you\n",
            "\n",
            "\n",
            "[!!]Indexing page: 1\n",
            "\n",
            "[%] Indexed 1 Images on Page 1.\n",
            "\n",
            "===============================================\n",
            "\n",
            "[%] Downloading Image #1 from https://f.ptcdn.info/658/061/000/pkdpm9gzwsBzvF4tD1z-o.jpg\n",
            "[%] File Downloaded !\n",
            "\n",
            "\n",
            "\n",
            "[%] Done. Downloaded 1 images.\n",
            "[%] Downloading Images to /content/images/each\n",
            "\n",
            "\n",
            "[!!]Indexing page: 1\n",
            "\n",
            "[%] Indexed 1 Images on Page 1.\n",
            "\n",
            "===============================================\n",
            "\n",
            "[%] Downloading Image #1 from https://keydifferences.com/wp-content/uploads/2018/06/each-vs-every.jpg\n",
            "[%] File Downloaded !\n",
            "\n",
            "\n",
            "\n",
            "[%] Done. Downloaded 1 images.\n",
            "[%] Downloading Images to /content/images/other\n",
            "\n",
            "\n",
            "[!!]Indexing page: 1\n",
            "\n",
            "[%] Indexed 1 Images on Page 1.\n",
            "\n",
            "===============================================\n",
            "\n",
            "[%] Downloading Image #1 from https://hoibuonchuyen.com/wp-content/uploads/2022/03/Other-vC3A0-Another-300x158-2.png\n",
            "[%] File Downloaded !\n",
            "\n",
            "\n",
            "\n",
            "[%] Done. Downloaded 1 images.\n",
            "[%] Downloading Images to /content/images/clapping\n",
            "\n",
            "\n",
            "[!!]Indexing page: 1\n",
            "\n",
            "[%] Indexed 1 Images on Page 1.\n",
            "\n",
            "===============================================\n",
            "\n",
            "[%] Downloading Image #1 from https://i0.wp.com/www.alanrudnick.org/wp-content/uploads/2010/04/clapping.jpg\n",
            "[!] Issue getting: https://i0.wp.com/www.alanrudnick.org/wp-content/uploads/2010/04/clapping.jpg\n",
            "[!] Error:: HTTP Error 404: Not Found\n",
            "\n",
            "\n",
            "[!!]Indexing page: 2\n",
            "\n",
            "[%] Indexed 36 Images on Page 2.\n",
            "\n",
            "===============================================\n",
            "\n",
            "[%] Downloading Image #1 from http://www.todayifoundout.com/wp-content/uploads/2016/04/clapping.png\n",
            "[%] File Downloaded !\n",
            "\n",
            "\n",
            "\n",
            "[%] Done. Downloaded 1 images.\n",
            "[%] Downloading Images to /content/images/longer\n",
            "\n",
            "\n",
            "[!!]Indexing page: 1\n",
            "\n",
            "[%] Indexed 1 Images on Page 1.\n",
            "\n",
            "===============================================\n",
            "\n",
            "[%] Downloading Image #1 from https://i.ytimg.com/vi/1prAO1KOXiE/maxresdefault.jpg\n",
            "[%] File Downloaded !\n",
            "\n",
            "\n",
            "\n",
            "[%] Done. Downloaded 1 images.\n",
            "[%] Downloading Images to /content/images/letters\n",
            "\n",
            "\n",
            "[!!]Indexing page: 1\n",
            "\n",
            "[%] Indexed 1 Images on Page 1.\n",
            "\n",
            "===============================================\n",
            "\n",
            "[%] Downloading Image #1 from http://www.clipartbest.com/cliparts/xig/oR6/xigoR65gT.jpg\n",
            "[%] File Downloaded !\n",
            "\n",
            "\n",
            "\n",
            "[%] Done. Downloaded 1 images.\n",
            "[%] Downloading Images to /content/images/last\n",
            "\n",
            "\n",
            "[!!]Indexing page: 1\n",
            "\n",
            "[%] Indexed 1 Images on Page 1.\n",
            "\n",
            "===============================================\n",
            "\n",
            "[%] Downloading Image #1 from https://posterspy.com/wp-content/uploads/2021/02/Final5-1500x2122.jpg\n",
            "[%] File Downloaded !\n",
            "\n",
            "\n",
            "\n",
            "[%] Done. Downloaded 1 images.\n",
            "[%] Downloading Images to /content/images/human\n",
            "\n",
            "\n",
            "[!!]Indexing page: 1\n",
            "\n",
            "[%] Indexed 1 Images on Page 1.\n",
            "\n",
            "===============================================\n",
            "\n",
            "[%] Downloading Image #1 from https://media.sketchfab.com/models/f46d952886ae4a8c8851341b810bba43/thumbnails/1378524e693b435ea7d8eb182ef7c368/ede25d7eecb04ad2afdfc55beaeb286a.jpeg\n",
            "[%] File Downloaded !\n",
            "\n",
            "\n",
            "\n",
            "[%] Done. Downloaded 1 images.\n",
            "[%] Downloading Images to /content/images/history\n",
            "\n",
            "\n",
            "[!!]Indexing page: 1\n",
            "\n",
            "[%] Indexed 1 Images on Page 1.\n",
            "\n",
            "===============================================\n",
            "\n",
            "[%] Downloading Image #1 from https://thumbs.dreamstime.com/z/history-typographic-header-concept-school-subject-idea-science-education-knowledge-past-ancient-isolated-vector-181650655.jpg\n",
            "[%] File Downloaded !\n",
            "\n",
            "\n",
            "\n",
            "[%] Done. Downloaded 1 images.\n",
            "[%] Downloading Images to /content/images/connection\n",
            "\n",
            "\n",
            "[!!]Indexing page: 1\n",
            "\n",
            "[%] Indexed 1 Images on Page 1.\n",
            "\n",
            "===============================================\n",
            "\n",
            "[%] Downloading Image #1 from https://durakis.com/wp-content/uploads/2019/03/DES_Connection_Story.jpg\n",
            "[%] File Downloaded !\n",
            "\n",
            "\n",
            "\n",
            "[%] Done. Downloaded 1 images.\n",
            "[%] Downloading Images to /content/images/funeral\n",
            "\n",
            "\n",
            "[!!]Indexing page: 1\n",
            "\n",
            "[%] Indexed 1 Images on Page 1.\n",
            "\n",
            "===============================================\n",
            "\n",
            "[%] Downloading Image #1 from https://www.thecelebrantdirectory.com/assets/2018/07/MSP07431-min.jpg\n",
            "[%] File Downloaded !\n",
            "\n",
            "\n",
            "\n",
            "[%] Done. Downloaded 1 images.\n"
          ]
        }
      ]
    },
    {
      "cell_type": "code",
      "source": [
        "# to add the image that you might like to add!\n",
        "import os\n",
        "\n",
        "os.makedirs('images', exist_ok=True)\n",
        "\n",
        "import requests\n",
        "\n",
        "url = 'https://media.cnn.com/api/v1/images/stellar/prod/gettyimages-1703046887.jpg?c=original'\n",
        "response = requests.get(url)\n",
        "\n",
        "# Save the image as hot.jpg in the images directory\n",
        "with open('images/hot.jpg', 'wb') as file:\n",
        "    file.write(response.content)\n",
        "\n",
        "print(\"Image downloaded and saved as images/hot.jpg\")"
      ],
      "metadata": {
        "colab": {
          "base_uri": "https://localhost:8080/"
        },
        "id": "AbqPp1CQp2Kf",
        "outputId": "c727a1b2-2600-4e82-deba-abb0c13e6bf6"
      },
      "execution_count": null,
      "outputs": [
        {
          "output_type": "stream",
          "name": "stdout",
          "text": [
            "Image downloaded and saved as images/hot.jpg\n"
          ]
        }
      ]
    },
    {
      "cell_type": "code",
      "source": [
        "print(text)\n",
        "print(keywords)"
      ],
      "metadata": {
        "colab": {
          "base_uri": "https://localhost:8080/"
        },
        "id": "xO47_QIQvfyH",
        "outputId": "9744f767-b4ae-4039-b257-9f7956a21b2d"
      },
      "execution_count": null,
      "outputs": [
        {
          "output_type": "stream",
          "name": "stdout",
          "text": [
            "Isn’t it funny that we don’t wash our hands; our hands just wash each other.\n",
            "\n",
            "Shower thoughts.\n",
            "\n",
            "You never actually stop clapping, the time between claps just gets longer.\n",
            "\n",
            "The word “silent” and the word “listen” use the exact same letters.\n",
            "\n",
            "One day, someone will think about you for the last time in human history.\n",
            "\n",
            "Every time you close your eyes, you’re temporarily cutting off your connection to the world.\n",
            "\n",
            "You spend your entire life gathering people for your funeral.\n",
            "\n",
            "['wash', 'hand', 'hand', 'wash', 'Shower', 'thought', 'stop', 'clap', 'time', 'clap', 'get', 'word', 'word', 'listen', 'use', 'letter', 'day', 'think', 'time', 'history', 'time', 'close', 'eye', 'cut', 'connection', 'world', 'spend', 'life', 'gather', 'people', 'funeral']\n"
          ]
        }
      ]
    },
    {
      "cell_type": "code",
      "source": [
        "from moviepy.editor import VideoFileClip, ImageClip, CompositeVideoClip\n",
        "import os"
      ],
      "metadata": {
        "id": "gMdimFopol-c"
      },
      "execution_count": null,
      "outputs": []
    },
    {
      "cell_type": "code",
      "source": [
        "video_path = 'output_with_music.mp4'\n",
        "video_clip = VideoFileClip(video_path)\n",
        "\n",
        "video_width, video_height = video_clip.size\n",
        "\n",
        "padding = 20\n",
        "image_width = video_width - 40\n",
        "image_height = int(image_width * (video_height / video_width))\n",
        "\n",
        "\n",
        "current_image = keywords[0]\n",
        "image_clips = []\n",
        "\n",
        "for entry in subtitles_data:\n",
        "    word = entry['word']\n",
        "    start_time = entry['start']\n",
        "    end_time = entry['end']\n",
        "\n",
        "    if word in keywords:\n",
        "        current_image = word\n",
        "    image_path = f'images/{current_image}.jpg'\n",
        "    print(f\"{entry} using {current_image}\")\n",
        "\n",
        "    img_clip = ImageClip(image_path)\n",
        "\n",
        "    original_width, original_height = img_clip.size\n",
        "    aspect_ratio = original_height / original_width\n",
        "    image_height = int(image_width * aspect_ratio)\n",
        "\n",
        "    img_clip = img_clip.set_duration(end_time - start_time)\\\n",
        "        .resize((image_width, image_height))\\\n",
        "        .set_position((padding, padding))\\\n",
        "        .set_start(start_time)\n",
        "\n",
        "    image_clips.append(img_clip)\n",
        "\n",
        "composite = CompositeVideoClip([video_clip] + image_clips)\n",
        "\n",
        "composite.write_videofile(\"final_output.mp4\", codec='libx264', fps=video_clip.fps)`"
      ],
      "metadata": {
        "colab": {
          "base_uri": "https://localhost:8080/"
        },
        "collapsed": true,
        "id": "8Q1NWytf2jdz",
        "outputId": "0690f347-d2dc-4b0e-b7b8-93cbc6d2e812"
      },
      "execution_count": null,
      "outputs": [
        {
          "output_type": "stream",
          "name": "stdout",
          "text": [
            "{'word': \"Isn't\", 'start': 0.0, 'end': 0.46} using wash\n",
            "{'word': 'it', 'start': 0.46, 'end': 0.66} using wash\n",
            "{'word': 'funny', 'start': 0.66, 'end': 0.88} using funny\n",
            "{'word': 'that', 'start': 0.88, 'end': 1.02} using funny\n",
            "{'word': 'we', 'start': 1.02, 'end': 1.18} using funny\n",
            "{'word': \"don't\", 'start': 1.18, 'end': 1.38} using funny\n",
            "{'word': 'wash', 'start': 1.38, 'end': 1.66} using wash\n",
            "{'word': 'our', 'start': 1.66, 'end': 1.9} using wash\n",
            "{'word': 'hands,', 'start': 1.9, 'end': 2.22} using wash\n",
            "{'word': 'our', 'start': 2.46, 'end': 2.64} using wash\n",
            "{'word': 'hands', 'start': 2.64, 'end': 2.9} using wash\n",
            "{'word': 'just', 'start': 2.9, 'end': 3.22} using wash\n",
            "{'word': 'wash', 'start': 3.22, 'end': 3.46} using wash\n",
            "{'word': 'each', 'start': 3.46, 'end': 3.68} using each\n",
            "{'word': 'other?', 'start': 3.68, 'end': 4.26} using each\n",
            "{'word': 'Shower', 'start': 5.02, 'end': 5.32} using Shower\n",
            "{'word': 'thoughts.', 'start': 5.32, 'end': 5.78} using Shower\n",
            "{'word': 'You', 'start': 6.82, 'end': 6.92} using Shower\n",
            "{'word': 'never', 'start': 6.92, 'end': 7.2} using Shower\n",
            "{'word': 'actually', 'start': 7.2, 'end': 7.66} using Shower\n",
            "{'word': 'stop', 'start': 7.66, 'end': 7.96} using stop\n",
            "{'word': 'clapping,', 'start': 7.96, 'end': 8.4} using stop\n",
            "{'word': 'the', 'start': 8.7, 'end': 8.94} using stop\n",
            "{'word': 'time', 'start': 8.94, 'end': 9.14} using time\n",
            "{'word': 'between', 'start': 9.14, 'end': 9.52} using time\n",
            "{'word': 'claps', 'start': 9.52, 'end': 10.0} using time\n",
            "{'word': 'just', 'start': 10.0, 'end': 10.42} using time\n",
            "{'word': 'gets', 'start': 10.42, 'end': 10.62} using time\n",
            "{'word': 'longer.', 'start': 10.62, 'end': 11.18} using time\n",
            "{'word': 'The', 'start': 12.06, 'end': 12.24} using time\n",
            "{'word': 'word', 'start': 12.24, 'end': 12.48} using word\n",
            "{'word': 'silent', 'start': 12.48, 'end': 12.94} using word\n",
            "{'word': 'and', 'start': 12.94, 'end': 13.14} using word\n",
            "{'word': 'the', 'start': 13.14, 'end': 13.34} using word\n",
            "{'word': 'word', 'start': 13.34, 'end': 13.5} using word\n",
            "{'word': 'listen', 'start': 13.5, 'end': 13.96} using listen\n",
            "{'word': 'use', 'start': 13.96, 'end': 14.26} using use\n",
            "{'word': 'the', 'start': 14.26, 'end': 14.5} using use\n",
            "{'word': 'exact', 'start': 14.5, 'end': 14.86} using use\n",
            "{'word': 'same', 'start': 14.86, 'end': 15.12} using use\n",
            "{'word': 'letters.', 'start': 15.12, 'end': 15.58} using use\n",
            "{'word': 'One', 'start': 16.62, 'end': 16.86} using use\n",
            "{'word': 'day,', 'start': 16.86, 'end': 17.22} using use\n",
            "{'word': 'someone', 'start': 17.48, 'end': 17.66} using use\n",
            "{'word': 'will', 'start': 17.66, 'end': 17.84} using use\n",
            "{'word': 'think', 'start': 17.84, 'end': 18.06} using think\n",
            "{'word': 'about', 'start': 18.06, 'end': 18.34} using think\n",
            "{'word': 'you', 'start': 18.34, 'end': 18.52} using you\n",
            "{'word': 'for', 'start': 18.52, 'end': 18.7} using you\n",
            "{'word': 'the', 'start': 18.7, 'end': 18.86} using you\n",
            "{'word': 'last', 'start': 18.86, 'end': 19.14} using last\n",
            "{'word': 'time', 'start': 19.14, 'end': 19.34} using time\n",
            "{'word': 'in', 'start': 19.34, 'end': 19.58} using time\n",
            "{'word': 'human', 'start': 19.58, 'end': 19.8} using human\n",
            "{'word': 'history.', 'start': 19.8, 'end': 20.4} using human\n",
            "{'word': 'Every', 'start': 21.34, 'end': 21.58} using human\n",
            "{'word': 'time', 'start': 21.58, 'end': 21.78} using time\n",
            "{'word': 'you', 'start': 21.78, 'end': 21.96} using you\n",
            "{'word': 'close', 'start': 21.96, 'end': 22.2} using close\n",
            "{'word': 'your', 'start': 22.2, 'end': 22.46} using close\n",
            "{'word': 'eyes,', 'start': 22.46, 'end': 22.8} using close\n",
            "{'word': \"you're\", 'start': 23.02, 'end': 23.16} using close\n",
            "{'word': 'temporarily', 'start': 23.16, 'end': 23.76} using close\n",
            "{'word': 'cutting', 'start': 23.76, 'end': 24.02} using close\n",
            "{'word': 'off', 'start': 24.02, 'end': 24.28} using close\n",
            "{'word': 'your', 'start': 24.28, 'end': 24.5} using close\n",
            "{'word': 'connection', 'start': 24.5, 'end': 24.88} using connection\n",
            "{'word': 'to', 'start': 24.88, 'end': 25.04} using connection\n",
            "{'word': 'the', 'start': 25.04, 'end': 25.24} using connection\n",
            "{'word': 'world.', 'start': 25.24, 'end': 25.6} using connection\n",
            "{'word': 'You', 'start': 26.42, 'end': 26.66} using connection\n",
            "{'word': 'spend', 'start': 26.66, 'end': 26.88} using spend\n",
            "{'word': 'your', 'start': 26.88, 'end': 27.08} using spend\n",
            "{'word': 'entire', 'start': 27.08, 'end': 27.46} using spend\n",
            "{'word': 'life', 'start': 27.46, 'end': 27.78} using life\n",
            "{'word': 'gathering', 'start': 27.78, 'end': 28.12} using life\n",
            "{'word': 'people', 'start': 28.12, 'end': 28.46} using people\n",
            "{'word': 'for', 'start': 28.46, 'end': 28.64} using people\n",
            "{'word': 'your', 'start': 28.64, 'end': 28.84} using people\n",
            "{'word': 'funeral.', 'start': 28.84, 'end': 29.28} using people\n",
            "Moviepy - Building video final_output.mp4.\n",
            "MoviePy - Writing audio in final_outputTEMP_MPY_wvf_snd.mp3\n"
          ]
        },
        {
          "output_type": "stream",
          "name": "stderr",
          "text": []
        },
        {
          "output_type": "stream",
          "name": "stdout",
          "text": [
            "MoviePy - Done.\n",
            "Moviepy - Writing video final_output.mp4\n",
            "\n"
          ]
        },
        {
          "output_type": "stream",
          "name": "stderr",
          "text": []
        },
        {
          "output_type": "stream",
          "name": "stdout",
          "text": [
            "Moviepy - Done !\n",
            "Moviepy - video ready final_output.mp4\n"
          ]
        }
      ]
    },
    {
      "cell_type": "code",
      "source": [
        "from google.colab import files\n",
        "files.download(\"final_output.mp4\")"
      ],
      "metadata": {
        "colab": {
          "base_uri": "https://localhost:8080/",
          "height": 34
        },
        "id": "P-Dw7UXuh6FG",
        "outputId": "065e11fb-192d-4158-dc61-94083f87e31e"
      },
      "execution_count": null,
      "outputs": [
        {
          "output_type": "display_data",
          "data": {
            "text/plain": [
              "<IPython.core.display.Javascript object>"
            ],
            "application/javascript": [
              "\n",
              "    async function download(id, filename, size) {\n",
              "      if (!google.colab.kernel.accessAllowed) {\n",
              "        return;\n",
              "      }\n",
              "      const div = document.createElement('div');\n",
              "      const label = document.createElement('label');\n",
              "      label.textContent = `Downloading \"${filename}\": `;\n",
              "      div.appendChild(label);\n",
              "      const progress = document.createElement('progress');\n",
              "      progress.max = size;\n",
              "      div.appendChild(progress);\n",
              "      document.body.appendChild(div);\n",
              "\n",
              "      const buffers = [];\n",
              "      let downloaded = 0;\n",
              "\n",
              "      const channel = await google.colab.kernel.comms.open(id);\n",
              "      // Send a message to notify the kernel that we're ready.\n",
              "      channel.send({})\n",
              "\n",
              "      for await (const message of channel.messages) {\n",
              "        // Send a message to notify the kernel that we're ready.\n",
              "        channel.send({})\n",
              "        if (message.buffers) {\n",
              "          for (const buffer of message.buffers) {\n",
              "            buffers.push(buffer);\n",
              "            downloaded += buffer.byteLength;\n",
              "            progress.value = downloaded;\n",
              "          }\n",
              "        }\n",
              "      }\n",
              "      const blob = new Blob(buffers, {type: 'application/binary'});\n",
              "      const a = document.createElement('a');\n",
              "      a.href = window.URL.createObjectURL(blob);\n",
              "      a.download = filename;\n",
              "      div.appendChild(a);\n",
              "      a.click();\n",
              "      div.remove();\n",
              "    }\n",
              "  "
            ]
          },
          "metadata": {}
        },
        {
          "output_type": "display_data",
          "data": {
            "text/plain": [
              "<IPython.core.display.Javascript object>"
            ],
            "application/javascript": [
              "download(\"download_324ccd88-db7d-4b74-b851-fe9994bb34ca\", \"final_output.mp4\", 23554031)"
            ]
          },
          "metadata": {}
        }
      ]
    }
  ],
  "metadata": {
    "colab": {
      "provenance": [],
      "collapsed_sections": [
        "80ZENe2tDC3j"
      ],
      "gpuType": "V28"
    },
    "kernelspec": {
      "display_name": "Python 3",
      "name": "python3"
    },
    "language_info": {
      "name": "python"
    },
    "accelerator": "TPU"
  },
  "nbformat": 4,
  "nbformat_minor": 0
}