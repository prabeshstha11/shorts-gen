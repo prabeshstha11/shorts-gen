{
  "cells": [
    {
      "cell_type": "markdown",
      "metadata": {
        "id": "njXC1F5OCzn1"
      },
      "source": [
        "# Few Installations"
      ]
    },
    {
      "cell_type": "code",
      "execution_count": null,
      "metadata": {
        "id": "Die56MjL6fDB"
      },
      "outputs": [],
      "source": [
        "!pip install --quiet ipython-autotime"
      ]
    },
    {
      "cell_type": "code",
      "execution_count": null,
      "metadata": {
        "colab": {
          "base_uri": "https://localhost:8080/"
        },
        "collapsed": true,
        "id": "0bPsHkMd6j-B",
        "outputId": "d7ea8ad7-b8bd-4414-d295-568cd442db56"
      },
      "outputs": [
        {
          "name": "stdout",
          "output_type": "stream",
          "text": [
            "Requirement already satisfied: openai-whisper in /usr/local/lib/python3.10/dist-packages (20240930)\n",
            "Requirement already satisfied: numba in /usr/local/lib/python3.10/dist-packages (from openai-whisper) (0.60.0)\n",
            "Requirement already satisfied: numpy in /usr/local/lib/python3.10/dist-packages (from openai-whisper) (1.26.4)\n",
            "Requirement already satisfied: torch in /usr/local/lib/python3.10/dist-packages (from openai-whisper) (2.4.1+cu121)\n",
            "Requirement already satisfied: tqdm in /usr/local/lib/python3.10/dist-packages (from openai-whisper) (4.66.5)\n",
            "Requirement already satisfied: more-itertools in /usr/local/lib/python3.10/dist-packages (from openai-whisper) (10.5.0)\n",
            "Requirement already satisfied: tiktoken in /usr/local/lib/python3.10/dist-packages (from openai-whisper) (0.7.0)\n",
            "Requirement already satisfied: triton>=2.0.0 in /usr/local/lib/python3.10/dist-packages (from openai-whisper) (3.0.0)\n",
            "Requirement already satisfied: filelock in /usr/local/lib/python3.10/dist-packages (from triton>=2.0.0->openai-whisper) (3.16.1)\n",
            "Requirement already satisfied: llvmlite<0.44,>=0.43.0dev0 in /usr/local/lib/python3.10/dist-packages (from numba->openai-whisper) (0.43.0)\n",
            "Requirement already satisfied: regex>=2022.1.18 in /usr/local/lib/python3.10/dist-packages (from tiktoken->openai-whisper) (2024.9.11)\n",
            "Requirement already satisfied: requests>=2.26.0 in /usr/local/lib/python3.10/dist-packages (from tiktoken->openai-whisper) (2.32.3)\n",
            "Requirement already satisfied: typing-extensions>=4.8.0 in /usr/local/lib/python3.10/dist-packages (from torch->openai-whisper) (4.12.2)\n",
            "Requirement already satisfied: sympy in /usr/local/lib/python3.10/dist-packages (from torch->openai-whisper) (1.13.3)\n",
            "Requirement already satisfied: networkx in /usr/local/lib/python3.10/dist-packages (from torch->openai-whisper) (3.3)\n",
            "Requirement already satisfied: jinja2 in /usr/local/lib/python3.10/dist-packages (from torch->openai-whisper) (3.1.4)\n",
            "Requirement already satisfied: fsspec in /usr/local/lib/python3.10/dist-packages (from torch->openai-whisper) (2024.6.1)\n",
            "Requirement already satisfied: charset-normalizer<4,>=2 in /usr/local/lib/python3.10/dist-packages (from requests>=2.26.0->tiktoken->openai-whisper) (3.3.2)\n",
            "Requirement already satisfied: idna<4,>=2.5 in /usr/local/lib/python3.10/dist-packages (from requests>=2.26.0->tiktoken->openai-whisper) (3.10)\n",
            "Requirement already satisfied: urllib3<3,>=1.21.1 in /usr/local/lib/python3.10/dist-packages (from requests>=2.26.0->tiktoken->openai-whisper) (2.2.3)\n",
            "Requirement already satisfied: certifi>=2017.4.17 in /usr/local/lib/python3.10/dist-packages (from requests>=2.26.0->tiktoken->openai-whisper) (2024.8.30)\n",
            "Requirement already satisfied: MarkupSafe>=2.0 in /usr/local/lib/python3.10/dist-packages (from jinja2->torch->openai-whisper) (2.1.5)\n",
            "Requirement already satisfied: mpmath<1.4,>=1.1.0 in /usr/local/lib/python3.10/dist-packages (from sympy->torch->openai-whisper) (1.3.0)\n"
          ]
        }
      ],
      "source": [
        "!pip install -U openai-whisper"
      ]
    },
    {
      "cell_type": "markdown",
      "metadata": {
        "id": "TIKUAbIGDdPD"
      },
      "source": [
        "# Convert text to speech"
      ]
    },
    {
      "cell_type": "code",
      "execution_count": null,
      "metadata": {
        "colab": {
          "base_uri": "https://localhost:8080/"
        },
        "collapsed": true,
        "id": "GC-Q5aG0Dfxh",
        "outputId": "405f3f13-ef39-4a46-cede-9693bb3fb87e"
      },
      "outputs": [
        {
          "name": "stdout",
          "output_type": "stream",
          "text": [
            "Requirement already satisfied: edge-tts in /usr/local/lib/python3.10/dist-packages (6.1.12)\n",
            "Requirement already satisfied: asyncio in /usr/local/lib/python3.10/dist-packages (3.4.3)\n",
            "Requirement already satisfied: aiohttp>=3.8.0 in /usr/local/lib/python3.10/dist-packages (from edge-tts) (3.10.8)\n",
            "Requirement already satisfied: certifi>=2023.11.17 in /usr/local/lib/python3.10/dist-packages (from edge-tts) (2024.8.30)\n",
            "Requirement already satisfied: aiohappyeyeballs>=2.3.0 in /usr/local/lib/python3.10/dist-packages (from aiohttp>=3.8.0->edge-tts) (2.4.2)\n",
            "Requirement already satisfied: aiosignal>=1.1.2 in /usr/local/lib/python3.10/dist-packages (from aiohttp>=3.8.0->edge-tts) (1.3.1)\n",
            "Requirement already satisfied: attrs>=17.3.0 in /usr/local/lib/python3.10/dist-packages (from aiohttp>=3.8.0->edge-tts) (24.2.0)\n",
            "Requirement already satisfied: frozenlist>=1.1.1 in /usr/local/lib/python3.10/dist-packages (from aiohttp>=3.8.0->edge-tts) (1.4.1)\n",
            "Requirement already satisfied: multidict<7.0,>=4.5 in /usr/local/lib/python3.10/dist-packages (from aiohttp>=3.8.0->edge-tts) (6.1.0)\n",
            "Requirement already satisfied: yarl<2.0,>=1.12.0 in /usr/local/lib/python3.10/dist-packages (from aiohttp>=3.8.0->edge-tts) (1.13.1)\n",
            "Requirement already satisfied: async-timeout<5.0,>=4.0 in /usr/local/lib/python3.10/dist-packages (from aiohttp>=3.8.0->edge-tts) (4.0.3)\n",
            "Requirement already satisfied: typing-extensions>=4.1.0 in /usr/local/lib/python3.10/dist-packages (from multidict<7.0,>=4.5->aiohttp>=3.8.0->edge-tts) (4.12.2)\n",
            "Requirement already satisfied: idna>=2.0 in /usr/local/lib/python3.10/dist-packages (from yarl<2.0,>=1.12.0->aiohttp>=3.8.0->edge-tts) (3.10)\n"
          ]
        }
      ],
      "source": [
        "!pip install edge-tts asyncio"
      ]
    },
    {
      "cell_type": "code",
      "execution_count": null,
      "metadata": {
        "colab": {
          "base_uri": "https://localhost:8080/"
        },
        "id": "0dAy5JrNDyqL",
        "outputId": "f6bfd2ac-6e21-4981-a476-e2c7416da864"
      },
      "outputs": [
        {
          "name": "stdout",
          "output_type": "stream",
          "text": [
            "Audio saved as output.mp3\n"
          ]
        }
      ],
      "source": [
        "import os\n",
        "import asyncio\n",
        "import edge_tts\n",
        "import nest_asyncio\n",
        "from google.colab import files\n",
        "\n",
        "nest_asyncio.apply()\n",
        "\n",
        "VOICE = \"en-US-JennyNeural\"\n",
        "OUTPUT_FILE = \"output.mp3\"\n",
        "\n",
        "async def convert_text_to_audio(text):\n",
        "    communicate = edge_tts.Communicate(text.strip(), VOICE)\n",
        "    await communicate.save(OUTPUT_FILE)\n",
        "    print(f\"Audio saved as {OUTPUT_FILE}\")\n",
        "\n",
        "text = \"Why did the dog sit in the shade? Because he didn’t want to become a hot dog!\"\n",
        "await convert_text_to_audio(text)"
      ]
    },
    {
      "cell_type": "markdown",
      "metadata": {
        "id": "scvSVy1aC606"
      },
      "source": [
        "# Install whisper and convert mp3 to subtitle"
      ]
    },
    {
      "cell_type": "code",
      "execution_count": 45,
      "metadata": {
        "colab": {
          "base_uri": "https://localhost:8080/"
        },
        "collapsed": true,
        "id": "-ERzylYF6xtU",
        "outputId": "68001972-a961-48cf-b01b-253bf3f61ac9"
      },
      "outputs": [
        {
          "output_type": "stream",
          "name": "stderr",
          "text": [
            "WARNING:py.warnings:/usr/local/lib/python3.10/dist-packages/whisper/__init__.py:150: FutureWarning: You are using `torch.load` with `weights_only=False` (the current default value), which uses the default pickle module implicitly. It is possible to construct malicious pickle data which will execute arbitrary code during unpickling (See https://github.com/pytorch/pytorch/blob/main/SECURITY.md#untrusted-models for more details). In a future release, the default value for `weights_only` will be flipped to `True`. This limits the functions that could be executed during unpickling. Arbitrary objects will no longer be allowed to be loaded via this mode unless they are explicitly allowlisted by the user via `torch.serialization.add_safe_globals`. We recommend you start setting `weights_only=True` for any use case where you don't have full control of the loaded file. Please open an issue on GitHub for any issues related to this experimental feature.\n",
            "  checkpoint = torch.load(fp, map_location=device)\n",
            "\n",
            "WARNING:py.warnings:/usr/local/lib/python3.10/dist-packages/whisper/transcribe.py:126: UserWarning: FP16 is not supported on CPU; using FP32 instead\n",
            "  warnings.warn(\"FP16 is not supported on CPU; using FP32 instead\")\n",
            "\n"
          ]
        },
        {
          "output_type": "stream",
          "name": "stdout",
          "text": [
            "{'text': \" Why did the dog sit in the shade? Because he didn't want to become a hot dog.\", 'segments': [{'id': 0, 'seek': 0, 'start': 0.0, 'end': 4.62, 'text': \" Why did the dog sit in the shade? Because he didn't want to become a hot dog.\", 'tokens': [50364, 1545, 630, 264, 3000, 1394, 294, 264, 11466, 30, 1436, 415, 994, 380, 528, 281, 1813, 257, 2368, 3000, 13, 50628], 'temperature': 0.0, 'avg_logprob': -0.19383173403532608, 'compression_ratio': 1.0266666666666666, 'no_speech_prob': 0.022235261276364326, 'words': [{'word': ' Why', 'start': 0.0, 'end': 0.4, 'probability': 0.8491532206535339}, {'word': ' did', 'start': 0.4, 'end': 0.54, 'probability': 0.9816655516624451}, {'word': ' the', 'start': 0.54, 'end': 0.72, 'probability': 0.996640682220459}, {'word': ' dog', 'start': 0.72, 'end': 0.92, 'probability': 0.9882532954216003}, {'word': ' sit', 'start': 0.92, 'end': 1.12, 'probability': 0.9981422424316406}, {'word': ' in', 'start': 1.12, 'end': 1.28, 'probability': 0.9990504384040833}, {'word': ' the', 'start': 1.28, 'end': 1.48, 'probability': 0.996841311454773}, {'word': ' shade?', 'start': 1.48, 'end': 1.7, 'probability': 0.9994451403617859}, {'word': ' Because', 'start': 2.68, 'end': 2.96, 'probability': 0.9513582587242126}, {'word': ' he', 'start': 2.96, 'end': 3.1, 'probability': 0.9950567483901978}, {'word': \" didn't\", 'start': 3.1, 'end': 3.36, 'probability': 0.993464469909668}, {'word': ' want', 'start': 3.36, 'end': 3.52, 'probability': 0.9990123510360718}, {'word': ' to', 'start': 3.52, 'end': 3.72, 'probability': 0.9993398785591125}, {'word': ' become', 'start': 3.72, 'end': 3.88, 'probability': 0.9977619647979736}, {'word': ' a', 'start': 3.88, 'end': 4.08, 'probability': 0.9987179040908813}, {'word': ' hot', 'start': 4.08, 'end': 4.28, 'probability': 0.9820307493209839}, {'word': ' dog.', 'start': 4.28, 'end': 4.62, 'probability': 0.9793204069137573}]}], 'language': 'en'}\n",
            " Why did the dog sit in the shade? Because he didn't want to become a hot dog.\n",
            "{'id': 0, 'seek': 0, 'start': 0.0, 'end': 4.62, 'text': \" Why did the dog sit in the shade? Because he didn't want to become a hot dog.\", 'tokens': [50364, 1545, 630, 264, 3000, 1394, 294, 264, 11466, 30, 1436, 415, 994, 380, 528, 281, 1813, 257, 2368, 3000, 13, 50628], 'temperature': 0.0, 'avg_logprob': -0.19383173403532608, 'compression_ratio': 1.0266666666666666, 'no_speech_prob': 0.022235261276364326, 'words': [{'word': ' Why', 'start': 0.0, 'end': 0.4, 'probability': 0.8491532206535339}, {'word': ' did', 'start': 0.4, 'end': 0.54, 'probability': 0.9816655516624451}, {'word': ' the', 'start': 0.54, 'end': 0.72, 'probability': 0.996640682220459}, {'word': ' dog', 'start': 0.72, 'end': 0.92, 'probability': 0.9882532954216003}, {'word': ' sit', 'start': 0.92, 'end': 1.12, 'probability': 0.9981422424316406}, {'word': ' in', 'start': 1.12, 'end': 1.28, 'probability': 0.9990504384040833}, {'word': ' the', 'start': 1.28, 'end': 1.48, 'probability': 0.996841311454773}, {'word': ' shade?', 'start': 1.48, 'end': 1.7, 'probability': 0.9994451403617859}, {'word': ' Because', 'start': 2.68, 'end': 2.96, 'probability': 0.9513582587242126}, {'word': ' he', 'start': 2.96, 'end': 3.1, 'probability': 0.9950567483901978}, {'word': \" didn't\", 'start': 3.1, 'end': 3.36, 'probability': 0.993464469909668}, {'word': ' want', 'start': 3.36, 'end': 3.52, 'probability': 0.9990123510360718}, {'word': ' to', 'start': 3.52, 'end': 3.72, 'probability': 0.9993398785591125}, {'word': ' become', 'start': 3.72, 'end': 3.88, 'probability': 0.9977619647979736}, {'word': ' a', 'start': 3.88, 'end': 4.08, 'probability': 0.9987179040908813}, {'word': ' hot', 'start': 4.08, 'end': 4.28, 'probability': 0.9820307493209839}, {'word': ' dog.', 'start': 4.28, 'end': 4.62, 'probability': 0.9793204069137573}]}\n"
          ]
        }
      ],
      "source": [
        "import whisper\n",
        "\n",
        "model = whisper.load_model(\"medium\")\n",
        "result = model.transcribe(\"output.mp3\",word_timestamps=True)\n",
        "print(result)\n",
        "\n",
        "print (result['text'])\n",
        "\n",
        "for each in result['segments']:\n",
        "  print (each)\n",
        "\n",
        "wordlevel_info = []\n",
        "\n",
        "for each in result['segments']:\n",
        "  words = each['words']\n",
        "  for word in words:\n",
        "    # print (word['word'], \"  \",word['start'],\" - \",word['end'])\n",
        "    wordlevel_info.append({'word':word['word'].strip(),'start':word['start'],'end':word['end']})"
      ]
    },
    {
      "cell_type": "code",
      "execution_count": 46,
      "metadata": {
        "id": "T8SvOaAH7H43"
      },
      "outputs": [],
      "source": [
        "import json\n",
        "with open('data.json', 'w') as f:\n",
        "    json.dump(wordlevel_info, f,indent=4)"
      ]
    },
    {
      "cell_type": "code",
      "execution_count": null,
      "metadata": {
        "colab": {
          "base_uri": "https://localhost:8080/"
        },
        "id": "k9HP433y79Xu",
        "outputId": "6f377433-a223-473c-b506-8060bcebb281"
      },
      "outputs": [
        {
          "name": "stdout",
          "output_type": "stream",
          "text": [
            "Mounted at /content/drive\n"
          ]
        }
      ],
      "source": [
        "from google.colab import drive\n",
        "drive.mount('/content/drive')"
      ]
    },
    {
      "cell_type": "markdown",
      "metadata": {
        "id": "80ZENe2tDC3j"
      },
      "source": [
        "# Downloading Minecraft video"
      ]
    },
    {
      "cell_type": "code",
      "execution_count": null,
      "metadata": {
        "colab": {
          "base_uri": "https://localhost:8080/"
        },
        "collapsed": true,
        "id": "qr7of4GA8n-m",
        "outputId": "66d169a7-1d4d-4fdb-d10b-f245ea3c4633"
      },
      "outputs": [
        {
          "name": "stdout",
          "output_type": "stream",
          "text": [
            "Collecting yt-dlp\n",
            "  Downloading yt_dlp-2024.9.27-py3-none-any.whl.metadata (171 kB)\n",
            "\u001b[?25l     \u001b[90m━━━━━━━━━━━━━━━━━━━━━━━━━━━━━━━━━━━━━━━━\u001b[0m \u001b[32m0.0/171.2 kB\u001b[0m \u001b[31m?\u001b[0m eta \u001b[36m-:--:--\u001b[0m\r\u001b[2K     \u001b[91m━━━━━━━━━━━━━━━━━━━━━━━━━━━━━━━━━━━━━━\u001b[0m\u001b[90m╺\u001b[0m\u001b[90m━\u001b[0m \u001b[32m163.8/171.2 kB\u001b[0m \u001b[31m7.2 MB/s\u001b[0m eta \u001b[36m0:00:01\u001b[0m\r\u001b[2K     \u001b[90m━━━━━━━━━━━━━━━━━━━━━━━━━━━━━━━━━━━━━━━━\u001b[0m \u001b[32m171.2/171.2 kB\u001b[0m \u001b[31m4.4 MB/s\u001b[0m eta \u001b[36m0:00:00\u001b[0m\n",
            "\u001b[?25hCollecting brotli (from yt-dlp)\n",
            "  Downloading Brotli-1.1.0-cp310-cp310-manylinux_2_5_x86_64.manylinux1_x86_64.manylinux_2_12_x86_64.manylinux2010_x86_64.whl.metadata (5.5 kB)\n",
            "Requirement already satisfied: certifi in /usr/local/lib/python3.10/dist-packages (from yt-dlp) (2024.8.30)\n",
            "Collecting mutagen (from yt-dlp)\n",
            "  Downloading mutagen-1.47.0-py3-none-any.whl.metadata (1.7 kB)\n",
            "Collecting pycryptodomex (from yt-dlp)\n",
            "  Downloading pycryptodomex-3.21.0-cp36-abi3-manylinux_2_17_x86_64.manylinux2014_x86_64.whl.metadata (3.4 kB)\n",
            "Requirement already satisfied: requests<3,>=2.32.2 in /usr/local/lib/python3.10/dist-packages (from yt-dlp) (2.32.3)\n",
            "Requirement already satisfied: urllib3<3,>=1.26.17 in /usr/local/lib/python3.10/dist-packages (from yt-dlp) (2.2.3)\n",
            "Collecting websockets>=13.0 (from yt-dlp)\n",
            "  Downloading websockets-13.1-cp310-cp310-manylinux_2_5_x86_64.manylinux1_x86_64.manylinux_2_17_x86_64.manylinux2014_x86_64.whl.metadata (6.8 kB)\n",
            "Requirement already satisfied: charset-normalizer<4,>=2 in /usr/local/lib/python3.10/dist-packages (from requests<3,>=2.32.2->yt-dlp) (3.3.2)\n",
            "Requirement already satisfied: idna<4,>=2.5 in /usr/local/lib/python3.10/dist-packages (from requests<3,>=2.32.2->yt-dlp) (3.10)\n",
            "Downloading yt_dlp-2024.9.27-py3-none-any.whl (3.1 MB)\n",
            "\u001b[2K   \u001b[90m━━━━━━━━━━━━━━━━━━━━━━━━━━━━━━━━━━━━━━━━\u001b[0m \u001b[32m3.1/3.1 MB\u001b[0m \u001b[31m43.3 MB/s\u001b[0m eta \u001b[36m0:00:00\u001b[0m\n",
            "\u001b[?25hDownloading websockets-13.1-cp310-cp310-manylinux_2_5_x86_64.manylinux1_x86_64.manylinux_2_17_x86_64.manylinux2014_x86_64.whl (164 kB)\n",
            "\u001b[2K   \u001b[90m━━━━━━━━━━━━━━━━━━━━━━━━━━━━━━━━━━━━━━━━\u001b[0m \u001b[32m164.1/164.1 kB\u001b[0m \u001b[31m11.3 MB/s\u001b[0m eta \u001b[36m0:00:00\u001b[0m\n",
            "\u001b[?25hDownloading Brotli-1.1.0-cp310-cp310-manylinux_2_5_x86_64.manylinux1_x86_64.manylinux_2_12_x86_64.manylinux2010_x86_64.whl (3.0 MB)\n",
            "\u001b[2K   \u001b[90m━━━━━━━━━━━━━━━━━━━━━━━━━━━━━━━━━━━━━━━━\u001b[0m \u001b[32m3.0/3.0 MB\u001b[0m \u001b[31m56.5 MB/s\u001b[0m eta \u001b[36m0:00:00\u001b[0m\n",
            "\u001b[?25hDownloading mutagen-1.47.0-py3-none-any.whl (194 kB)\n",
            "\u001b[2K   \u001b[90m━━━━━━━━━━━━━━━━━━━━━━━━━━━━━━━━━━━━━━━━\u001b[0m \u001b[32m194.4/194.4 kB\u001b[0m \u001b[31m9.4 MB/s\u001b[0m eta \u001b[36m0:00:00\u001b[0m\n",
            "\u001b[?25hDownloading pycryptodomex-3.21.0-cp36-abi3-manylinux_2_17_x86_64.manylinux2014_x86_64.whl (2.3 MB)\n",
            "\u001b[2K   \u001b[90m━━━━━━━━━━━━━━━━━━━━━━━━━━━━━━━━━━━━━━━━\u001b[0m \u001b[32m2.3/2.3 MB\u001b[0m \u001b[31m51.2 MB/s\u001b[0m eta \u001b[36m0:00:00\u001b[0m\n",
            "\u001b[?25hInstalling collected packages: brotli, websockets, pycryptodomex, mutagen, yt-dlp\n",
            "Successfully installed brotli-1.1.0 mutagen-1.47.0 pycryptodomex-3.21.0 websockets-13.1 yt-dlp-2024.9.27\n"
          ]
        }
      ],
      "source": [
        "!pip install yt-dlp"
      ]
    },
    {
      "cell_type": "code",
      "execution_count": null,
      "metadata": {
        "colab": {
          "base_uri": "https://localhost:8080/"
        },
        "collapsed": true,
        "id": "r6kG_tNx8syT",
        "outputId": "9a848245-9bd0-42d1-d8e0-21353f8ba594"
      },
      "outputs": [
        {
          "name": "stdout",
          "output_type": "stream",
          "text": [
            "[youtube] Extracting URL: https://www.youtube.com/watch?v=xKRNDalWE-E\n",
            "[youtube] xKRNDalWE-E: Downloading webpage\n",
            "[youtube] xKRNDalWE-E: Downloading ios player API JSON\n",
            "[youtube] xKRNDalWE-E: Downloading web creator player API JSON\n",
            "[youtube] xKRNDalWE-E: Downloading m3u8 information\n",
            "[info] xKRNDalWE-E: Downloading 1 format(s): 303+140\n",
            "[download] Destination: /content/drive/MyDrive/minecraft.mp4.f303.webm\n",
            "[download] 100% of  331.98MiB in 00:00:09 at 36.10MiB/s  \n",
            "[download] Destination: /content/drive/MyDrive/minecraft.mp4.f140.m4a\n",
            "[download] 100% of   13.92MiB in 00:00:00 at 24.02MiB/s  \n",
            "[Merger] Merging formats into \"/content/drive/MyDrive/minecraft.mp4.mkv\"\n",
            "Deleting original file /content/drive/MyDrive/minecraft.mp4.f140.m4a (pass -k to keep)\n",
            "Deleting original file /content/drive/MyDrive/minecraft.mp4.f303.webm (pass -k to keep)\n"
          ]
        }
      ],
      "source": [
        "import yt_dlp\n",
        "\n",
        "save_path = '/content/drive/MyDrive/minecraft.mp4'\n",
        "\n",
        "ydl_opts = {\n",
        "    'outtmpl': save_path,\n",
        "    'format': 'bestvideo+bestaudio/best',\n",
        "}\n",
        "\n",
        "url = 'https://www.youtube.com/watch?v=xKRNDalWE-E'\n",
        "\n",
        "with yt_dlp.YoutubeDL(ydl_opts) as ydl:\n",
        "    ydl.download([url])"
      ]
    },
    {
      "cell_type": "markdown",
      "metadata": {
        "id": "uSbtoUvIDHSk"
      },
      "source": [
        "# Moviepy"
      ]
    },
    {
      "cell_type": "code",
      "execution_count": null,
      "metadata": {
        "colab": {
          "base_uri": "https://localhost:8080/"
        },
        "collapsed": true,
        "id": "D-mWo_6Z9fXd",
        "outputId": "dce72189-aa35-4c0b-c684-37e0fd78115d"
      },
      "outputs": [
        {
          "name": "stdout",
          "output_type": "stream",
          "text": [
            "Requirement already satisfied: moviepy in /usr/local/lib/python3.10/dist-packages (1.0.3)\n",
            "Requirement already satisfied: decorator<5.0,>=4.0.2 in /usr/local/lib/python3.10/dist-packages (from moviepy) (4.4.2)\n",
            "Requirement already satisfied: tqdm<5.0,>=4.11.2 in /usr/local/lib/python3.10/dist-packages (from moviepy) (4.66.5)\n",
            "Requirement already satisfied: requests<3.0,>=2.8.1 in /usr/local/lib/python3.10/dist-packages (from moviepy) (2.32.3)\n",
            "Requirement already satisfied: proglog<=1.0.0 in /usr/local/lib/python3.10/dist-packages (from moviepy) (0.1.10)\n",
            "Requirement already satisfied: numpy>=1.17.3 in /usr/local/lib/python3.10/dist-packages (from moviepy) (1.26.4)\n",
            "Requirement already satisfied: imageio<3.0,>=2.5 in /usr/local/lib/python3.10/dist-packages (from moviepy) (2.35.1)\n",
            "Requirement already satisfied: imageio-ffmpeg>=0.2.0 in /usr/local/lib/python3.10/dist-packages (from moviepy) (0.5.1)\n",
            "Requirement already satisfied: pillow>=8.3.2 in /usr/local/lib/python3.10/dist-packages (from imageio<3.0,>=2.5->moviepy) (10.4.0)\n",
            "Requirement already satisfied: setuptools in /usr/local/lib/python3.10/dist-packages (from imageio-ffmpeg>=0.2.0->moviepy) (71.0.4)\n",
            "Requirement already satisfied: charset-normalizer<4,>=2 in /usr/local/lib/python3.10/dist-packages (from requests<3.0,>=2.8.1->moviepy) (3.3.2)\n",
            "Requirement already satisfied: idna<4,>=2.5 in /usr/local/lib/python3.10/dist-packages (from requests<3.0,>=2.8.1->moviepy) (3.10)\n",
            "Requirement already satisfied: urllib3<3,>=1.21.1 in /usr/local/lib/python3.10/dist-packages (from requests<3.0,>=2.8.1->moviepy) (2.2.3)\n",
            "Requirement already satisfied: certifi>=2017.4.17 in /usr/local/lib/python3.10/dist-packages (from requests<3.0,>=2.8.1->moviepy) (2024.8.30)\n"
          ]
        }
      ],
      "source": [
        "!pip install moviepy"
      ]
    },
    {
      "cell_type": "code",
      "execution_count": 47,
      "metadata": {
        "colab": {
          "base_uri": "https://localhost:8080/"
        },
        "id": "JztGS7z89jQ-",
        "outputId": "3294a0c8-a39a-4d08-af40-2caf2e963164"
      },
      "outputs": [
        {
          "output_type": "stream",
          "name": "stdout",
          "text": [
            "MP3 Duration: 5.47 seconds\n"
          ]
        }
      ],
      "source": [
        "from moviepy.editor import AudioFileClip\n",
        "\n",
        "audio = AudioFileClip(\"output.mp3\")\n",
        "audio_duration = audio.duration\n",
        "print(f\"MP3 Duration: {audio_duration} seconds\")"
      ]
    },
    {
      "cell_type": "code",
      "execution_count": 48,
      "metadata": {
        "id": "f-vvi0H-NPyX"
      },
      "outputs": [],
      "source": [
        "import random\n",
        "import os\n",
        "\n",
        "video = '/content/drive/MyDrive/minecraft.mkv'"
      ]
    },
    {
      "cell_type": "code",
      "execution_count": 49,
      "metadata": {
        "colab": {
          "base_uri": "https://localhost:8080/"
        },
        "id": "xLYWtDufN8SO",
        "outputId": "21fe97e1-a196-48ca-a212-af0b6a01a99d"
      },
      "outputs": [
        {
          "output_type": "stream",
          "name": "stdout",
          "text": [
            "The duration of the video is: 901.91 seconds\n"
          ]
        }
      ],
      "source": [
        "from moviepy.editor import VideoFileClip\n",
        "\n",
        "video = VideoFileClip(video)\n",
        "\n",
        "duration = video.duration\n",
        "\n",
        "print(f\"The duration of the video is: {duration} seconds\")"
      ]
    },
    {
      "cell_type": "code",
      "execution_count": 50,
      "metadata": {
        "colab": {
          "base_uri": "https://localhost:8080/"
        },
        "collapsed": true,
        "id": "dhmd_7kbOTkp",
        "outputId": "8b5b22a5-72a4-480b-ef3a-e9fb1aead9aa"
      },
      "outputs": [
        {
          "output_type": "stream",
          "name": "stdout",
          "text": [
            "Moviepy - Building video trimmed_video.mp4.\n",
            "MoviePy - Writing audio in trimmed_videoTEMP_MPY_wvf_snd.mp3\n"
          ]
        },
        {
          "output_type": "stream",
          "name": "stderr",
          "text": []
        },
        {
          "output_type": "stream",
          "name": "stdout",
          "text": [
            "MoviePy - Done.\n",
            "Moviepy - Writing video trimmed_video.mp4\n",
            "\n"
          ]
        },
        {
          "output_type": "stream",
          "name": "stderr",
          "text": []
        },
        {
          "output_type": "stream",
          "name": "stdout",
          "text": [
            "Moviepy - Done !\n",
            "Moviepy - video ready trimmed_video.mp4\n"
          ]
        }
      ],
      "source": [
        "import random\n",
        "\n",
        "if duration < audio_duration:\n",
        "    raise ValueError(\"The video is shorter than the required trim length.\")\n",
        "\n",
        "random_start = random.uniform(0, duration - audio_duration)\n",
        "\n",
        "\n",
        "trimmed_video = video.subclip(random_start, random_start + audio_duration)\n",
        "\n",
        "trimmed_video_path = \"trimmed_video.mp4\"\n",
        "trimmed_video.write_videofile(trimmed_video_path, codec=\"libx264\")\n",
        "\n",
        "video.close()\n",
        "trimmed_video.close()"
      ]
    },
    {
      "cell_type": "code",
      "execution_count": 51,
      "metadata": {
        "colab": {
          "base_uri": "https://localhost:8080/"
        },
        "id": "nI6X-qGV95su",
        "outputId": "a043d060-e0a8-42da-a9c2-fb3a417511c5"
      },
      "outputs": [
        {
          "output_type": "stream",
          "name": "stdout",
          "text": [
            "[{'word': 'Why', 'start': 0.0, 'end': 0.4}, {'word': 'did', 'start': 0.4, 'end': 0.54}, {'word': 'the', 'start': 0.54, 'end': 0.72}, {'word': 'dog', 'start': 0.72, 'end': 0.92}, {'word': 'sit', 'start': 0.92, 'end': 1.12}, {'word': 'in', 'start': 1.12, 'end': 1.28}, {'word': 'the', 'start': 1.28, 'end': 1.48}, {'word': 'shade?', 'start': 1.48, 'end': 1.7}, {'word': 'Because', 'start': 2.68, 'end': 2.96}, {'word': 'he', 'start': 2.96, 'end': 3.1}, {'word': \"didn't\", 'start': 3.1, 'end': 3.36}, {'word': 'want', 'start': 3.36, 'end': 3.52}, {'word': 'to', 'start': 3.52, 'end': 3.72}, {'word': 'become', 'start': 3.72, 'end': 3.88}, {'word': 'a', 'start': 3.88, 'end': 4.08}, {'word': 'hot', 'start': 4.08, 'end': 4.28}, {'word': 'dog.', 'start': 4.28, 'end': 4.62}]\n"
          ]
        }
      ],
      "source": [
        "import json\n",
        "\n",
        "with open('data.json', 'r') as f:\n",
        "    subtitles_data = json.load(f)\n",
        "\n",
        "print(subtitles_data)"
      ]
    },
    {
      "cell_type": "markdown",
      "metadata": {
        "id": "DeeDmUy4DLWM"
      },
      "source": [
        "# Add subtitle to video"
      ]
    },
    {
      "cell_type": "code",
      "execution_count": null,
      "metadata": {
        "colab": {
          "base_uri": "https://localhost:8080/"
        },
        "collapsed": true,
        "id": "HBNylbc2-HXJ",
        "outputId": "b36a6441-b067-455d-d702-204ee0ddea58"
      },
      "outputs": [
        {
          "name": "stdout",
          "output_type": "stream",
          "text": [
            "Reading package lists... Done\n",
            "Building dependency tree... Done\n",
            "Reading state information... Done\n",
            "imagemagick is already the newest version (8:6.9.11.60+dfsg-1.3ubuntu0.22.04.5).\n",
            "0 upgraded, 0 newly installed, 0 to remove and 49 not upgraded.\n"
          ]
        }
      ],
      "source": [
        "!apt-get install -y imagemagick"
      ]
    },
    {
      "cell_type": "code",
      "execution_count": null,
      "metadata": {
        "id": "4u3WPkKHCPmj"
      },
      "outputs": [],
      "source": [
        "!echo \"<policys>\" > /etc/ImageMagick-6/policy.xml\n",
        "!echo \"<policy domain='coder' rights='read|write' pattern='*' />\" >> /etc/ImageMagick-6/policy.xml\n",
        "!echo \"</policys>\" >> /etc/ImageMagick-6/policy.xml"
      ]
    },
    {
      "cell_type": "code",
      "execution_count": 52,
      "metadata": {
        "colab": {
          "base_uri": "https://localhost:8080/"
        },
        "collapsed": true,
        "id": "dXkKlnYfAEyH",
        "outputId": "21efec8c-412b-4121-a73c-b1eb82a18f21"
      },
      "outputs": [
        {
          "output_type": "stream",
          "name": "stdout",
          "text": [
            "Moviepy - Building video minecraft_with_subtitles.mp4.\n",
            "MoviePy - Writing audio in minecraft_with_subtitlesTEMP_MPY_wvf_snd.mp3\n"
          ]
        },
        {
          "output_type": "stream",
          "name": "stderr",
          "text": []
        },
        {
          "output_type": "stream",
          "name": "stdout",
          "text": [
            "MoviePy - Done.\n",
            "Moviepy - Writing video minecraft_with_subtitles.mp4\n",
            "\n"
          ]
        },
        {
          "output_type": "stream",
          "name": "stderr",
          "text": [
            "t: 100%|█████████▉| 330/331 [01:20<00:00,  3.76it/s, now=None]WARNING:py.warnings:/usr/local/lib/python3.10/dist-packages/moviepy/video/io/ffmpeg_reader.py:123: UserWarning: Warning: in file trimmed_video.mp4, 6220800 bytes wanted but 0 bytes read,at frame 329/331, at time 5.48/5.51 sec. Using the last valid frame instead.\n",
            "  warnings.warn(\"Warning: in file %s, \"%(self.filename)+\n",
            "\n",
            "t: 100%|██████████| 331/331 [01:20<00:00,  4.46it/s, now=None]WARNING:py.warnings:/usr/local/lib/python3.10/dist-packages/moviepy/video/io/ffmpeg_reader.py:123: UserWarning: Warning: in file trimmed_video.mp4, 6220800 bytes wanted but 0 bytes read,at frame 330/331, at time 5.50/5.51 sec. Using the last valid frame instead.\n",
            "  warnings.warn(\"Warning: in file %s, \"%(self.filename)+\n",
            "\n"
          ]
        },
        {
          "output_type": "stream",
          "name": "stdout",
          "text": [
            "Moviepy - Done !\n",
            "Moviepy - video ready minecraft_with_subtitles.mp4\n"
          ]
        }
      ],
      "source": [
        "from moviepy.editor import VideoFileClip, TextClip, CompositeVideoClip\n",
        "\n",
        "video = VideoFileClip(\"trimmed_video.mp4\")\n",
        "\n",
        "subtitles_clips = []\n",
        "\n",
        "for subtitle in subtitles_data:\n",
        "    text = TextClip(subtitle['word'], font=\"Poppins-Regular.ttf\", fontsize=100, color='white')\n",
        "    text = text.set_start(subtitle['start']).set_duration(subtitle['end'] - subtitle['start'])\n",
        "    text = text.set_position(('center', 'center'))\n",
        "    subtitles_clips.append(text)\n",
        "\n",
        "final_video = CompositeVideoClip([video] + subtitles_clips)\n",
        "final_video.write_videofile(\"minecraft_with_subtitles.mp4\", fps=video.fps)\n"
      ]
    },
    {
      "cell_type": "markdown",
      "metadata": {
        "id": "IISSBGYQDO3B"
      },
      "source": [
        "# Finally merge video and audio"
      ]
    },
    {
      "cell_type": "code",
      "source": [
        "import yt_dlp\n",
        "\n",
        "save_path = '/content/drive/MyDrive/background.%(ext)s'\n",
        "\n",
        "ydl_opts = {\n",
        "    'outtmpl': save_path,\n",
        "    'format': 'bestaudio/best',\n",
        "    'postprocessors': [\n",
        "        {  # Extract audio using ffmpeg\n",
        "            'key': 'FFmpegExtractAudio',\n",
        "            'preferredcodec': 'mp3',\n",
        "            'preferredquality': '192',\n",
        "        }\n",
        "    ],\n",
        "}\n",
        "\n",
        "url = 'https://www.youtube.com/watch?v=vi84zA6iC7w'\n",
        "\n",
        "with yt_dlp.YoutubeDL(ydl_opts) as ydl:\n",
        "    ydl.download([url])"
      ],
      "metadata": {
        "colab": {
          "base_uri": "https://localhost:8080/"
        },
        "id": "poU_0uobWvLz",
        "outputId": "c3145a22-d5e9-4edb-c0a9-ebc40615ed02"
      },
      "execution_count": 53,
      "outputs": [
        {
          "output_type": "stream",
          "name": "stdout",
          "text": [
            "[youtube] Extracting URL: https://www.youtube.com/watch?v=vi84zA6iC7w\n",
            "[youtube] vi84zA6iC7w: Downloading webpage\n",
            "[youtube] vi84zA6iC7w: Downloading ios player API JSON\n",
            "[youtube] vi84zA6iC7w: Downloading web creator player API JSON\n",
            "[youtube] vi84zA6iC7w: Downloading m3u8 information\n",
            "[info] vi84zA6iC7w: Downloading 1 format(s): 251\n",
            "[download] Destination: /content/drive/MyDrive/background.webm\n",
            "[download] 100% of    1.62MiB in 00:00:00 at 3.94MiB/s   \n",
            "[ExtractAudio] Destination: /content/drive/MyDrive/background.mp3\n",
            "Deleting original file /content/drive/MyDrive/background.webm (pass -k to keep)\n"
          ]
        }
      ]
    },
    {
      "cell_type": "code",
      "execution_count": 54,
      "metadata": {
        "colab": {
          "base_uri": "https://localhost:8080/"
        },
        "collapsed": true,
        "id": "QUP96yySCfAr",
        "outputId": "ba238a66-d868-4b9f-ebcf-498cae47a325"
      },
      "outputs": [
        {
          "output_type": "stream",
          "name": "stdout",
          "text": [
            "Moviepy - Building video output.mp4.\n",
            "MoviePy - Writing audio in outputTEMP_MPY_wvf_snd.mp3\n"
          ]
        },
        {
          "output_type": "stream",
          "name": "stderr",
          "text": []
        },
        {
          "output_type": "stream",
          "name": "stdout",
          "text": [
            "MoviePy - Done.\n",
            "Moviepy - Writing video output.mp4\n",
            "\n"
          ]
        },
        {
          "output_type": "stream",
          "name": "stderr",
          "text": [
            "t: 100%|█████████▉| 332/333 [01:07<00:00,  3.69it/s, now=None]WARNING:py.warnings:/usr/local/lib/python3.10/dist-packages/moviepy/video/io/ffmpeg_reader.py:123: UserWarning: Warning: in file minecraft_with_subtitles.mp4, 6220800 bytes wanted but 0 bytes read,at frame 331/333, at time 5.52/5.54 sec. Using the last valid frame instead.\n",
            "  warnings.warn(\"Warning: in file %s, \"%(self.filename)+\n",
            "\n",
            "t: 100%|██████████| 333/333 [01:08<00:00,  3.39it/s, now=None]WARNING:py.warnings:/usr/local/lib/python3.10/dist-packages/moviepy/video/io/ffmpeg_reader.py:123: UserWarning: Warning: in file minecraft_with_subtitles.mp4, 6220800 bytes wanted but 0 bytes read,at frame 332/333, at time 5.53/5.54 sec. Using the last valid frame instead.\n",
            "  warnings.warn(\"Warning: in file %s, \"%(self.filename)+\n",
            "\n"
          ]
        },
        {
          "output_type": "stream",
          "name": "stdout",
          "text": [
            "Moviepy - Done !\n",
            "Moviepy - video ready output.mp4\n"
          ]
        }
      ],
      "source": [
        "from moviepy.editor import VideoFileClip, AudioFileClip\n",
        "\n",
        "video = VideoFileClip(\"minecraft_with_subtitles.mp4\")\n",
        "\n",
        "audio = AudioFileClip(\"output.mp3\")\n",
        "\n",
        "final_video = video.set_audio(audio)\n",
        "\n",
        "final_video.write_videofile(\"output.mp4\", fps=video.fps)"
      ]
    },
    {
      "cell_type": "code",
      "source": [
        "from moviepy.editor import VideoFileClip, AudioFileClip, CompositeAudioClip\n",
        "\n",
        "video_clip = VideoFileClip(\"output.mp4\")\n",
        "original_audio = video_clip.audio\n",
        "\n",
        "background_audio = AudioFileClip(\"/content/drive/MyDrive/background.mp3\").volumex(0.11)\n",
        "\n",
        "background_audio = background_audio.set_duration(video_clip.duration)\n",
        "\n",
        "combined_audio = CompositeAudioClip([original_audio, background_audio])\n",
        "\n",
        "final_clip = video_clip.set_audio(combined_audio)\n",
        "\n",
        "final_clip.write_videofile(\"output_with_music.mp4\", codec=\"libx264\", audio_codec=\"aac\")"
      ],
      "metadata": {
        "colab": {
          "base_uri": "https://localhost:8080/"
        },
        "id": "myA8-notW-95",
        "outputId": "f86cf72b-dbb2-4c28-fbe6-26ff75f2938e"
      },
      "execution_count": 58,
      "outputs": [
        {
          "output_type": "stream",
          "name": "stdout",
          "text": [
            "Moviepy - Building video output_with_music.mp4.\n",
            "MoviePy - Writing audio in output_with_musicTEMP_MPY_wvf_snd.mp4\n"
          ]
        },
        {
          "output_type": "stream",
          "name": "stderr",
          "text": [
            "                                                                  "
          ]
        },
        {
          "output_type": "stream",
          "name": "stdout",
          "text": [
            "MoviePy - Done.\n",
            "Moviepy - Writing video output_with_music.mp4\n",
            "\n"
          ]
        },
        {
          "output_type": "stream",
          "name": "stderr",
          "text": []
        },
        {
          "output_type": "stream",
          "name": "stdout",
          "text": [
            "Moviepy - Done !\n",
            "Moviepy - video ready output_with_music.mp4\n"
          ]
        }
      ]
    },
    {
      "cell_type": "code",
      "execution_count": 59,
      "metadata": {
        "colab": {
          "base_uri": "https://localhost:8080/",
          "height": 17
        },
        "id": "kDoVPyDlCmCX",
        "outputId": "732366bc-f118-4426-975b-a5a71ae0912e"
      },
      "outputs": [
        {
          "output_type": "display_data",
          "data": {
            "text/plain": [
              "<IPython.core.display.Javascript object>"
            ],
            "application/javascript": [
              "\n",
              "    async function download(id, filename, size) {\n",
              "      if (!google.colab.kernel.accessAllowed) {\n",
              "        return;\n",
              "      }\n",
              "      const div = document.createElement('div');\n",
              "      const label = document.createElement('label');\n",
              "      label.textContent = `Downloading \"${filename}\": `;\n",
              "      div.appendChild(label);\n",
              "      const progress = document.createElement('progress');\n",
              "      progress.max = size;\n",
              "      div.appendChild(progress);\n",
              "      document.body.appendChild(div);\n",
              "\n",
              "      const buffers = [];\n",
              "      let downloaded = 0;\n",
              "\n",
              "      const channel = await google.colab.kernel.comms.open(id);\n",
              "      // Send a message to notify the kernel that we're ready.\n",
              "      channel.send({})\n",
              "\n",
              "      for await (const message of channel.messages) {\n",
              "        // Send a message to notify the kernel that we're ready.\n",
              "        channel.send({})\n",
              "        if (message.buffers) {\n",
              "          for (const buffer of message.buffers) {\n",
              "            buffers.push(buffer);\n",
              "            downloaded += buffer.byteLength;\n",
              "            progress.value = downloaded;\n",
              "          }\n",
              "        }\n",
              "      }\n",
              "      const blob = new Blob(buffers, {type: 'application/binary'});\n",
              "      const a = document.createElement('a');\n",
              "      a.href = window.URL.createObjectURL(blob);\n",
              "      a.download = filename;\n",
              "      div.appendChild(a);\n",
              "      a.click();\n",
              "      div.remove();\n",
              "    }\n",
              "  "
            ]
          },
          "metadata": {}
        },
        {
          "output_type": "display_data",
          "data": {
            "text/plain": [
              "<IPython.core.display.Javascript object>"
            ],
            "application/javascript": [
              "download(\"download_cea9bcec-1e85-467f-9bc7-0100f27eeecb\", \"output_with_music.mp4\", 5507633)"
            ]
          },
          "metadata": {}
        }
      ],
      "source": [
        "from google.colab import files\n",
        "files.download(\"output_with_music.mp4\")"
      ]
    }
  ],
  "metadata": {
    "colab": {
      "provenance": []
    },
    "kernelspec": {
      "display_name": "Python 3",
      "name": "python3"
    },
    "language_info": {
      "name": "python"
    }
  },
  "nbformat": 4,
  "nbformat_minor": 0
}