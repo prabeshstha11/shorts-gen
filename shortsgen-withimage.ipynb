{
  "cells": [
    {
      "cell_type": "markdown",
      "metadata": {
        "id": "njXC1F5OCzn1"
      },
      "source": [
        "# Few Installations"
      ]
    },
    {
      "cell_type": "code",
      "execution_count": null,
      "metadata": {
        "id": "Die56MjL6fDB"
      },
      "outputs": [],
      "source": [
        "!pip install --quiet ipython-autotime"
      ]
    },
    {
      "cell_type": "code",
      "execution_count": null,
      "metadata": {
        "colab": {
          "base_uri": "https://localhost:8080/"
        },
        "collapsed": true,
        "id": "0bPsHkMd6j-B",
        "outputId": "d7ea8ad7-b8bd-4414-d295-568cd442db56"
      },
      "outputs": [
        {
          "name": "stdout",
          "output_type": "stream",
          "text": [
            "Requirement already satisfied: openai-whisper in /usr/local/lib/python3.10/dist-packages (20240930)\n",
            "Requirement already satisfied: numba in /usr/local/lib/python3.10/dist-packages (from openai-whisper) (0.60.0)\n",
            "Requirement already satisfied: numpy in /usr/local/lib/python3.10/dist-packages (from openai-whisper) (1.26.4)\n",
            "Requirement already satisfied: torch in /usr/local/lib/python3.10/dist-packages (from openai-whisper) (2.4.1+cu121)\n",
            "Requirement already satisfied: tqdm in /usr/local/lib/python3.10/dist-packages (from openai-whisper) (4.66.5)\n",
            "Requirement already satisfied: more-itertools in /usr/local/lib/python3.10/dist-packages (from openai-whisper) (10.5.0)\n",
            "Requirement already satisfied: tiktoken in /usr/local/lib/python3.10/dist-packages (from openai-whisper) (0.7.0)\n",
            "Requirement already satisfied: triton>=2.0.0 in /usr/local/lib/python3.10/dist-packages (from openai-whisper) (3.0.0)\n",
            "Requirement already satisfied: filelock in /usr/local/lib/python3.10/dist-packages (from triton>=2.0.0->openai-whisper) (3.16.1)\n",
            "Requirement already satisfied: llvmlite<0.44,>=0.43.0dev0 in /usr/local/lib/python3.10/dist-packages (from numba->openai-whisper) (0.43.0)\n",
            "Requirement already satisfied: regex>=2022.1.18 in /usr/local/lib/python3.10/dist-packages (from tiktoken->openai-whisper) (2024.9.11)\n",
            "Requirement already satisfied: requests>=2.26.0 in /usr/local/lib/python3.10/dist-packages (from tiktoken->openai-whisper) (2.32.3)\n",
            "Requirement already satisfied: typing-extensions>=4.8.0 in /usr/local/lib/python3.10/dist-packages (from torch->openai-whisper) (4.12.2)\n",
            "Requirement already satisfied: sympy in /usr/local/lib/python3.10/dist-packages (from torch->openai-whisper) (1.13.3)\n",
            "Requirement already satisfied: networkx in /usr/local/lib/python3.10/dist-packages (from torch->openai-whisper) (3.3)\n",
            "Requirement already satisfied: jinja2 in /usr/local/lib/python3.10/dist-packages (from torch->openai-whisper) (3.1.4)\n",
            "Requirement already satisfied: fsspec in /usr/local/lib/python3.10/dist-packages (from torch->openai-whisper) (2024.6.1)\n",
            "Requirement already satisfied: charset-normalizer<4,>=2 in /usr/local/lib/python3.10/dist-packages (from requests>=2.26.0->tiktoken->openai-whisper) (3.3.2)\n",
            "Requirement already satisfied: idna<4,>=2.5 in /usr/local/lib/python3.10/dist-packages (from requests>=2.26.0->tiktoken->openai-whisper) (3.10)\n",
            "Requirement already satisfied: urllib3<3,>=1.21.1 in /usr/local/lib/python3.10/dist-packages (from requests>=2.26.0->tiktoken->openai-whisper) (2.2.3)\n",
            "Requirement already satisfied: certifi>=2017.4.17 in /usr/local/lib/python3.10/dist-packages (from requests>=2.26.0->tiktoken->openai-whisper) (2024.8.30)\n",
            "Requirement already satisfied: MarkupSafe>=2.0 in /usr/local/lib/python3.10/dist-packages (from jinja2->torch->openai-whisper) (2.1.5)\n",
            "Requirement already satisfied: mpmath<1.4,>=1.1.0 in /usr/local/lib/python3.10/dist-packages (from sympy->torch->openai-whisper) (1.3.0)\n"
          ]
        }
      ],
      "source": [
        "!pip install -U openai-whisper"
      ]
    },
    {
      "cell_type": "markdown",
      "metadata": {
        "id": "TIKUAbIGDdPD"
      },
      "source": [
        "# Convert text to speech"
      ]
    },
    {
      "cell_type": "code",
      "execution_count": null,
      "metadata": {
        "colab": {
          "base_uri": "https://localhost:8080/"
        },
        "collapsed": true,
        "id": "GC-Q5aG0Dfxh",
        "outputId": "405f3f13-ef39-4a46-cede-9693bb3fb87e"
      },
      "outputs": [
        {
          "name": "stdout",
          "output_type": "stream",
          "text": [
            "Requirement already satisfied: edge-tts in /usr/local/lib/python3.10/dist-packages (6.1.12)\n",
            "Requirement already satisfied: asyncio in /usr/local/lib/python3.10/dist-packages (3.4.3)\n",
            "Requirement already satisfied: aiohttp>=3.8.0 in /usr/local/lib/python3.10/dist-packages (from edge-tts) (3.10.8)\n",
            "Requirement already satisfied: certifi>=2023.11.17 in /usr/local/lib/python3.10/dist-packages (from edge-tts) (2024.8.30)\n",
            "Requirement already satisfied: aiohappyeyeballs>=2.3.0 in /usr/local/lib/python3.10/dist-packages (from aiohttp>=3.8.0->edge-tts) (2.4.2)\n",
            "Requirement already satisfied: aiosignal>=1.1.2 in /usr/local/lib/python3.10/dist-packages (from aiohttp>=3.8.0->edge-tts) (1.3.1)\n",
            "Requirement already satisfied: attrs>=17.3.0 in /usr/local/lib/python3.10/dist-packages (from aiohttp>=3.8.0->edge-tts) (24.2.0)\n",
            "Requirement already satisfied: frozenlist>=1.1.1 in /usr/local/lib/python3.10/dist-packages (from aiohttp>=3.8.0->edge-tts) (1.4.1)\n",
            "Requirement already satisfied: multidict<7.0,>=4.5 in /usr/local/lib/python3.10/dist-packages (from aiohttp>=3.8.0->edge-tts) (6.1.0)\n",
            "Requirement already satisfied: yarl<2.0,>=1.12.0 in /usr/local/lib/python3.10/dist-packages (from aiohttp>=3.8.0->edge-tts) (1.13.1)\n",
            "Requirement already satisfied: async-timeout<5.0,>=4.0 in /usr/local/lib/python3.10/dist-packages (from aiohttp>=3.8.0->edge-tts) (4.0.3)\n",
            "Requirement already satisfied: typing-extensions>=4.1.0 in /usr/local/lib/python3.10/dist-packages (from multidict<7.0,>=4.5->aiohttp>=3.8.0->edge-tts) (4.12.2)\n",
            "Requirement already satisfied: idna>=2.0 in /usr/local/lib/python3.10/dist-packages (from yarl<2.0,>=1.12.0->aiohttp>=3.8.0->edge-tts) (3.10)\n"
          ]
        }
      ],
      "source": [
        "!pip install edge-tts asyncio"
      ]
    },
    {
      "cell_type": "code",
      "execution_count": 62,
      "metadata": {
        "colab": {
          "base_uri": "https://localhost:8080/"
        },
        "id": "0dAy5JrNDyqL",
        "outputId": "5e55b3fe-d4e6-4180-c1cd-d2c4a6f5ab47"
      },
      "outputs": [
        {
          "output_type": "stream",
          "name": "stdout",
          "text": [
            "Audio saved as output.mp3\n"
          ]
        }
      ],
      "source": [
        "import os\n",
        "import asyncio\n",
        "import edge_tts\n",
        "import nest_asyncio\n",
        "from google.colab import files\n",
        "\n",
        "nest_asyncio.apply()\n",
        "\n",
        "VOICE = \"en-US-JennyNeural\"\n",
        "OUTPUT_FILE = \"output.mp3\"\n",
        "\n",
        "async def convert_text_to_audio(text):\n",
        "    communicate = edge_tts.Communicate(text.strip(), VOICE)\n",
        "    await communicate.save(OUTPUT_FILE)\n",
        "    print(f\"Audio saved as {OUTPUT_FILE}\")\n",
        "\n",
        "text = \"Why did the dog sit in the shade? Because he didn’t want to become a hot dog!\"\n",
        "await convert_text_to_audio(text)"
      ]
    },
    {
      "cell_type": "markdown",
      "metadata": {
        "id": "scvSVy1aC606"
      },
      "source": [
        "# Install whisper and convert mp3 to subtitle"
      ]
    },
    {
      "cell_type": "code",
      "execution_count": 45,
      "metadata": {
        "colab": {
          "base_uri": "https://localhost:8080/"
        },
        "collapsed": true,
        "id": "-ERzylYF6xtU",
        "outputId": "68001972-a961-48cf-b01b-253bf3f61ac9"
      },
      "outputs": [
        {
          "output_type": "stream",
          "name": "stderr",
          "text": [
            "WARNING:py.warnings:/usr/local/lib/python3.10/dist-packages/whisper/__init__.py:150: FutureWarning: You are using `torch.load` with `weights_only=False` (the current default value), which uses the default pickle module implicitly. It is possible to construct malicious pickle data which will execute arbitrary code during unpickling (See https://github.com/pytorch/pytorch/blob/main/SECURITY.md#untrusted-models for more details). In a future release, the default value for `weights_only` will be flipped to `True`. This limits the functions that could be executed during unpickling. Arbitrary objects will no longer be allowed to be loaded via this mode unless they are explicitly allowlisted by the user via `torch.serialization.add_safe_globals`. We recommend you start setting `weights_only=True` for any use case where you don't have full control of the loaded file. Please open an issue on GitHub for any issues related to this experimental feature.\n",
            "  checkpoint = torch.load(fp, map_location=device)\n",
            "\n",
            "WARNING:py.warnings:/usr/local/lib/python3.10/dist-packages/whisper/transcribe.py:126: UserWarning: FP16 is not supported on CPU; using FP32 instead\n",
            "  warnings.warn(\"FP16 is not supported on CPU; using FP32 instead\")\n",
            "\n"
          ]
        },
        {
          "output_type": "stream",
          "name": "stdout",
          "text": [
            "{'text': \" Why did the dog sit in the shade? Because he didn't want to become a hot dog.\", 'segments': [{'id': 0, 'seek': 0, 'start': 0.0, 'end': 4.62, 'text': \" Why did the dog sit in the shade? Because he didn't want to become a hot dog.\", 'tokens': [50364, 1545, 630, 264, 3000, 1394, 294, 264, 11466, 30, 1436, 415, 994, 380, 528, 281, 1813, 257, 2368, 3000, 13, 50628], 'temperature': 0.0, 'avg_logprob': -0.19383173403532608, 'compression_ratio': 1.0266666666666666, 'no_speech_prob': 0.022235261276364326, 'words': [{'word': ' Why', 'start': 0.0, 'end': 0.4, 'probability': 0.8491532206535339}, {'word': ' did', 'start': 0.4, 'end': 0.54, 'probability': 0.9816655516624451}, {'word': ' the', 'start': 0.54, 'end': 0.72, 'probability': 0.996640682220459}, {'word': ' dog', 'start': 0.72, 'end': 0.92, 'probability': 0.9882532954216003}, {'word': ' sit', 'start': 0.92, 'end': 1.12, 'probability': 0.9981422424316406}, {'word': ' in', 'start': 1.12, 'end': 1.28, 'probability': 0.9990504384040833}, {'word': ' the', 'start': 1.28, 'end': 1.48, 'probability': 0.996841311454773}, {'word': ' shade?', 'start': 1.48, 'end': 1.7, 'probability': 0.9994451403617859}, {'word': ' Because', 'start': 2.68, 'end': 2.96, 'probability': 0.9513582587242126}, {'word': ' he', 'start': 2.96, 'end': 3.1, 'probability': 0.9950567483901978}, {'word': \" didn't\", 'start': 3.1, 'end': 3.36, 'probability': 0.993464469909668}, {'word': ' want', 'start': 3.36, 'end': 3.52, 'probability': 0.9990123510360718}, {'word': ' to', 'start': 3.52, 'end': 3.72, 'probability': 0.9993398785591125}, {'word': ' become', 'start': 3.72, 'end': 3.88, 'probability': 0.9977619647979736}, {'word': ' a', 'start': 3.88, 'end': 4.08, 'probability': 0.9987179040908813}, {'word': ' hot', 'start': 4.08, 'end': 4.28, 'probability': 0.9820307493209839}, {'word': ' dog.', 'start': 4.28, 'end': 4.62, 'probability': 0.9793204069137573}]}], 'language': 'en'}\n",
            " Why did the dog sit in the shade? Because he didn't want to become a hot dog.\n",
            "{'id': 0, 'seek': 0, 'start': 0.0, 'end': 4.62, 'text': \" Why did the dog sit in the shade? Because he didn't want to become a hot dog.\", 'tokens': [50364, 1545, 630, 264, 3000, 1394, 294, 264, 11466, 30, 1436, 415, 994, 380, 528, 281, 1813, 257, 2368, 3000, 13, 50628], 'temperature': 0.0, 'avg_logprob': -0.19383173403532608, 'compression_ratio': 1.0266666666666666, 'no_speech_prob': 0.022235261276364326, 'words': [{'word': ' Why', 'start': 0.0, 'end': 0.4, 'probability': 0.8491532206535339}, {'word': ' did', 'start': 0.4, 'end': 0.54, 'probability': 0.9816655516624451}, {'word': ' the', 'start': 0.54, 'end': 0.72, 'probability': 0.996640682220459}, {'word': ' dog', 'start': 0.72, 'end': 0.92, 'probability': 0.9882532954216003}, {'word': ' sit', 'start': 0.92, 'end': 1.12, 'probability': 0.9981422424316406}, {'word': ' in', 'start': 1.12, 'end': 1.28, 'probability': 0.9990504384040833}, {'word': ' the', 'start': 1.28, 'end': 1.48, 'probability': 0.996841311454773}, {'word': ' shade?', 'start': 1.48, 'end': 1.7, 'probability': 0.9994451403617859}, {'word': ' Because', 'start': 2.68, 'end': 2.96, 'probability': 0.9513582587242126}, {'word': ' he', 'start': 2.96, 'end': 3.1, 'probability': 0.9950567483901978}, {'word': \" didn't\", 'start': 3.1, 'end': 3.36, 'probability': 0.993464469909668}, {'word': ' want', 'start': 3.36, 'end': 3.52, 'probability': 0.9990123510360718}, {'word': ' to', 'start': 3.52, 'end': 3.72, 'probability': 0.9993398785591125}, {'word': ' become', 'start': 3.72, 'end': 3.88, 'probability': 0.9977619647979736}, {'word': ' a', 'start': 3.88, 'end': 4.08, 'probability': 0.9987179040908813}, {'word': ' hot', 'start': 4.08, 'end': 4.28, 'probability': 0.9820307493209839}, {'word': ' dog.', 'start': 4.28, 'end': 4.62, 'probability': 0.9793204069137573}]}\n"
          ]
        }
      ],
      "source": [
        "import whisper\n",
        "\n",
        "model = whisper.load_model(\"medium\")\n",
        "result = model.transcribe(\"output.mp3\",word_timestamps=True)\n",
        "print(result)\n",
        "\n",
        "print (result['text'])\n",
        "\n",
        "for each in result['segments']:\n",
        "  print (each)\n",
        "\n",
        "wordlevel_info = []\n",
        "\n",
        "for each in result['segments']:\n",
        "  words = each['words']\n",
        "  for word in words:\n",
        "    # print (word['word'], \"  \",word['start'],\" - \",word['end'])\n",
        "    wordlevel_info.append({'word':word['word'].strip(),'start':word['start'],'end':word['end']})"
      ]
    },
    {
      "cell_type": "code",
      "execution_count": 46,
      "metadata": {
        "id": "T8SvOaAH7H43"
      },
      "outputs": [],
      "source": [
        "import json\n",
        "with open('data.json', 'w') as f:\n",
        "    json.dump(wordlevel_info, f,indent=4)"
      ]
    },
    {
      "cell_type": "code",
      "execution_count": null,
      "metadata": {
        "colab": {
          "base_uri": "https://localhost:8080/"
        },
        "id": "k9HP433y79Xu",
        "outputId": "6f377433-a223-473c-b506-8060bcebb281"
      },
      "outputs": [
        {
          "name": "stdout",
          "output_type": "stream",
          "text": [
            "Mounted at /content/drive\n"
          ]
        }
      ],
      "source": [
        "from google.colab import drive\n",
        "drive.mount('/content/drive')"
      ]
    },
    {
      "cell_type": "markdown",
      "metadata": {
        "id": "80ZENe2tDC3j"
      },
      "source": [
        "# Downloading Minecraft video"
      ]
    },
    {
      "cell_type": "code",
      "execution_count": null,
      "metadata": {
        "colab": {
          "base_uri": "https://localhost:8080/"
        },
        "collapsed": true,
        "id": "qr7of4GA8n-m",
        "outputId": "66d169a7-1d4d-4fdb-d10b-f245ea3c4633"
      },
      "outputs": [
        {
          "name": "stdout",
          "output_type": "stream",
          "text": [
            "Collecting yt-dlp\n",
            "  Downloading yt_dlp-2024.9.27-py3-none-any.whl.metadata (171 kB)\n",
            "\u001b[?25l     \u001b[90m━━━━━━━━━━━━━━━━━━━━━━━━━━━━━━━━━━━━━━━━\u001b[0m \u001b[32m0.0/171.2 kB\u001b[0m \u001b[31m?\u001b[0m eta \u001b[36m-:--:--\u001b[0m\r\u001b[2K     \u001b[91m━━━━━━━━━━━━━━━━━━━━━━━━━━━━━━━━━━━━━━\u001b[0m\u001b[90m╺\u001b[0m\u001b[90m━\u001b[0m \u001b[32m163.8/171.2 kB\u001b[0m \u001b[31m7.2 MB/s\u001b[0m eta \u001b[36m0:00:01\u001b[0m\r\u001b[2K     \u001b[90m━━━━━━━━━━━━━━━━━━━━━━━━━━━━━━━━━━━━━━━━\u001b[0m \u001b[32m171.2/171.2 kB\u001b[0m \u001b[31m4.4 MB/s\u001b[0m eta \u001b[36m0:00:00\u001b[0m\n",
            "\u001b[?25hCollecting brotli (from yt-dlp)\n",
            "  Downloading Brotli-1.1.0-cp310-cp310-manylinux_2_5_x86_64.manylinux1_x86_64.manylinux_2_12_x86_64.manylinux2010_x86_64.whl.metadata (5.5 kB)\n",
            "Requirement already satisfied: certifi in /usr/local/lib/python3.10/dist-packages (from yt-dlp) (2024.8.30)\n",
            "Collecting mutagen (from yt-dlp)\n",
            "  Downloading mutagen-1.47.0-py3-none-any.whl.metadata (1.7 kB)\n",
            "Collecting pycryptodomex (from yt-dlp)\n",
            "  Downloading pycryptodomex-3.21.0-cp36-abi3-manylinux_2_17_x86_64.manylinux2014_x86_64.whl.metadata (3.4 kB)\n",
            "Requirement already satisfied: requests<3,>=2.32.2 in /usr/local/lib/python3.10/dist-packages (from yt-dlp) (2.32.3)\n",
            "Requirement already satisfied: urllib3<3,>=1.26.17 in /usr/local/lib/python3.10/dist-packages (from yt-dlp) (2.2.3)\n",
            "Collecting websockets>=13.0 (from yt-dlp)\n",
            "  Downloading websockets-13.1-cp310-cp310-manylinux_2_5_x86_64.manylinux1_x86_64.manylinux_2_17_x86_64.manylinux2014_x86_64.whl.metadata (6.8 kB)\n",
            "Requirement already satisfied: charset-normalizer<4,>=2 in /usr/local/lib/python3.10/dist-packages (from requests<3,>=2.32.2->yt-dlp) (3.3.2)\n",
            "Requirement already satisfied: idna<4,>=2.5 in /usr/local/lib/python3.10/dist-packages (from requests<3,>=2.32.2->yt-dlp) (3.10)\n",
            "Downloading yt_dlp-2024.9.27-py3-none-any.whl (3.1 MB)\n",
            "\u001b[2K   \u001b[90m━━━━━━━━━━━━━━━━━━━━━━━━━━━━━━━━━━━━━━━━\u001b[0m \u001b[32m3.1/3.1 MB\u001b[0m \u001b[31m43.3 MB/s\u001b[0m eta \u001b[36m0:00:00\u001b[0m\n",
            "\u001b[?25hDownloading websockets-13.1-cp310-cp310-manylinux_2_5_x86_64.manylinux1_x86_64.manylinux_2_17_x86_64.manylinux2014_x86_64.whl (164 kB)\n",
            "\u001b[2K   \u001b[90m━━━━━━━━━━━━━━━━━━━━━━━━━━━━━━━━━━━━━━━━\u001b[0m \u001b[32m164.1/164.1 kB\u001b[0m \u001b[31m11.3 MB/s\u001b[0m eta \u001b[36m0:00:00\u001b[0m\n",
            "\u001b[?25hDownloading Brotli-1.1.0-cp310-cp310-manylinux_2_5_x86_64.manylinux1_x86_64.manylinux_2_12_x86_64.manylinux2010_x86_64.whl (3.0 MB)\n",
            "\u001b[2K   \u001b[90m━━━━━━━━━━━━━━━━━━━━━━━━━━━━━━━━━━━━━━━━\u001b[0m \u001b[32m3.0/3.0 MB\u001b[0m \u001b[31m56.5 MB/s\u001b[0m eta \u001b[36m0:00:00\u001b[0m\n",
            "\u001b[?25hDownloading mutagen-1.47.0-py3-none-any.whl (194 kB)\n",
            "\u001b[2K   \u001b[90m━━━━━━━━━━━━━━━━━━━━━━━━━━━━━━━━━━━━━━━━\u001b[0m \u001b[32m194.4/194.4 kB\u001b[0m \u001b[31m9.4 MB/s\u001b[0m eta \u001b[36m0:00:00\u001b[0m\n",
            "\u001b[?25hDownloading pycryptodomex-3.21.0-cp36-abi3-manylinux_2_17_x86_64.manylinux2014_x86_64.whl (2.3 MB)\n",
            "\u001b[2K   \u001b[90m━━━━━━━━━━━━━━━━━━━━━━━━━━━━━━━━━━━━━━━━\u001b[0m \u001b[32m2.3/2.3 MB\u001b[0m \u001b[31m51.2 MB/s\u001b[0m eta \u001b[36m0:00:00\u001b[0m\n",
            "\u001b[?25hInstalling collected packages: brotli, websockets, pycryptodomex, mutagen, yt-dlp\n",
            "Successfully installed brotli-1.1.0 mutagen-1.47.0 pycryptodomex-3.21.0 websockets-13.1 yt-dlp-2024.9.27\n"
          ]
        }
      ],
      "source": [
        "!pip install yt-dlp"
      ]
    },
    {
      "cell_type": "code",
      "execution_count": null,
      "metadata": {
        "colab": {
          "base_uri": "https://localhost:8080/"
        },
        "collapsed": true,
        "id": "r6kG_tNx8syT",
        "outputId": "9a848245-9bd0-42d1-d8e0-21353f8ba594"
      },
      "outputs": [
        {
          "name": "stdout",
          "output_type": "stream",
          "text": [
            "[youtube] Extracting URL: https://www.youtube.com/watch?v=xKRNDalWE-E\n",
            "[youtube] xKRNDalWE-E: Downloading webpage\n",
            "[youtube] xKRNDalWE-E: Downloading ios player API JSON\n",
            "[youtube] xKRNDalWE-E: Downloading web creator player API JSON\n",
            "[youtube] xKRNDalWE-E: Downloading m3u8 information\n",
            "[info] xKRNDalWE-E: Downloading 1 format(s): 303+140\n",
            "[download] Destination: /content/drive/MyDrive/minecraft.mp4.f303.webm\n",
            "[download] 100% of  331.98MiB in 00:00:09 at 36.10MiB/s  \n",
            "[download] Destination: /content/drive/MyDrive/minecraft.mp4.f140.m4a\n",
            "[download] 100% of   13.92MiB in 00:00:00 at 24.02MiB/s  \n",
            "[Merger] Merging formats into \"/content/drive/MyDrive/minecraft.mp4.mkv\"\n",
            "Deleting original file /content/drive/MyDrive/minecraft.mp4.f140.m4a (pass -k to keep)\n",
            "Deleting original file /content/drive/MyDrive/minecraft.mp4.f303.webm (pass -k to keep)\n"
          ]
        }
      ],
      "source": [
        "import yt_dlp\n",
        "\n",
        "save_path = '/content/drive/MyDrive/minecraft.mp4'\n",
        "\n",
        "ydl_opts = {\n",
        "    'outtmpl': save_path,\n",
        "    'format': 'bestvideo+bestaudio/best',\n",
        "}\n",
        "\n",
        "url = 'https://www.youtube.com/watch?v=xKRNDalWE-E'\n",
        "\n",
        "with yt_dlp.YoutubeDL(ydl_opts) as ydl:\n",
        "    ydl.download([url])"
      ]
    },
    {
      "cell_type": "markdown",
      "metadata": {
        "id": "uSbtoUvIDHSk"
      },
      "source": [
        "# Moviepy"
      ]
    },
    {
      "cell_type": "code",
      "execution_count": null,
      "metadata": {
        "colab": {
          "base_uri": "https://localhost:8080/"
        },
        "collapsed": true,
        "id": "D-mWo_6Z9fXd",
        "outputId": "dce72189-aa35-4c0b-c684-37e0fd78115d"
      },
      "outputs": [
        {
          "name": "stdout",
          "output_type": "stream",
          "text": [
            "Requirement already satisfied: moviepy in /usr/local/lib/python3.10/dist-packages (1.0.3)\n",
            "Requirement already satisfied: decorator<5.0,>=4.0.2 in /usr/local/lib/python3.10/dist-packages (from moviepy) (4.4.2)\n",
            "Requirement already satisfied: tqdm<5.0,>=4.11.2 in /usr/local/lib/python3.10/dist-packages (from moviepy) (4.66.5)\n",
            "Requirement already satisfied: requests<3.0,>=2.8.1 in /usr/local/lib/python3.10/dist-packages (from moviepy) (2.32.3)\n",
            "Requirement already satisfied: proglog<=1.0.0 in /usr/local/lib/python3.10/dist-packages (from moviepy) (0.1.10)\n",
            "Requirement already satisfied: numpy>=1.17.3 in /usr/local/lib/python3.10/dist-packages (from moviepy) (1.26.4)\n",
            "Requirement already satisfied: imageio<3.0,>=2.5 in /usr/local/lib/python3.10/dist-packages (from moviepy) (2.35.1)\n",
            "Requirement already satisfied: imageio-ffmpeg>=0.2.0 in /usr/local/lib/python3.10/dist-packages (from moviepy) (0.5.1)\n",
            "Requirement already satisfied: pillow>=8.3.2 in /usr/local/lib/python3.10/dist-packages (from imageio<3.0,>=2.5->moviepy) (10.4.0)\n",
            "Requirement already satisfied: setuptools in /usr/local/lib/python3.10/dist-packages (from imageio-ffmpeg>=0.2.0->moviepy) (71.0.4)\n",
            "Requirement already satisfied: charset-normalizer<4,>=2 in /usr/local/lib/python3.10/dist-packages (from requests<3.0,>=2.8.1->moviepy) (3.3.2)\n",
            "Requirement already satisfied: idna<4,>=2.5 in /usr/local/lib/python3.10/dist-packages (from requests<3.0,>=2.8.1->moviepy) (3.10)\n",
            "Requirement already satisfied: urllib3<3,>=1.21.1 in /usr/local/lib/python3.10/dist-packages (from requests<3.0,>=2.8.1->moviepy) (2.2.3)\n",
            "Requirement already satisfied: certifi>=2017.4.17 in /usr/local/lib/python3.10/dist-packages (from requests<3.0,>=2.8.1->moviepy) (2024.8.30)\n"
          ]
        }
      ],
      "source": [
        "!pip install moviepy"
      ]
    },
    {
      "cell_type": "code",
      "execution_count": 47,
      "metadata": {
        "colab": {
          "base_uri": "https://localhost:8080/"
        },
        "id": "JztGS7z89jQ-",
        "outputId": "3294a0c8-a39a-4d08-af40-2caf2e963164"
      },
      "outputs": [
        {
          "output_type": "stream",
          "name": "stdout",
          "text": [
            "MP3 Duration: 5.47 seconds\n"
          ]
        }
      ],
      "source": [
        "from moviepy.editor import AudioFileClip\n",
        "\n",
        "audio = AudioFileClip(\"output.mp3\")\n",
        "audio_duration = audio.duration\n",
        "print(f\"MP3 Duration: {audio_duration} seconds\")"
      ]
    },
    {
      "cell_type": "code",
      "execution_count": 48,
      "metadata": {
        "id": "f-vvi0H-NPyX"
      },
      "outputs": [],
      "source": [
        "import random\n",
        "import os\n",
        "\n",
        "video = '/content/drive/MyDrive/minecraft.mkv'"
      ]
    },
    {
      "cell_type": "code",
      "execution_count": 49,
      "metadata": {
        "colab": {
          "base_uri": "https://localhost:8080/"
        },
        "id": "xLYWtDufN8SO",
        "outputId": "21fe97e1-a196-48ca-a212-af0b6a01a99d"
      },
      "outputs": [
        {
          "output_type": "stream",
          "name": "stdout",
          "text": [
            "The duration of the video is: 901.91 seconds\n"
          ]
        }
      ],
      "source": [
        "from moviepy.editor import VideoFileClip\n",
        "\n",
        "video = VideoFileClip(video)\n",
        "\n",
        "duration = video.duration\n",
        "\n",
        "print(f\"The duration of the video is: {duration} seconds\")"
      ]
    },
    {
      "cell_type": "code",
      "execution_count": 50,
      "metadata": {
        "colab": {
          "base_uri": "https://localhost:8080/"
        },
        "collapsed": true,
        "id": "dhmd_7kbOTkp",
        "outputId": "8b5b22a5-72a4-480b-ef3a-e9fb1aead9aa"
      },
      "outputs": [
        {
          "output_type": "stream",
          "name": "stdout",
          "text": [
            "Moviepy - Building video trimmed_video.mp4.\n",
            "MoviePy - Writing audio in trimmed_videoTEMP_MPY_wvf_snd.mp3\n"
          ]
        },
        {
          "output_type": "stream",
          "name": "stderr",
          "text": []
        },
        {
          "output_type": "stream",
          "name": "stdout",
          "text": [
            "MoviePy - Done.\n",
            "Moviepy - Writing video trimmed_video.mp4\n",
            "\n"
          ]
        },
        {
          "output_type": "stream",
          "name": "stderr",
          "text": []
        },
        {
          "output_type": "stream",
          "name": "stdout",
          "text": [
            "Moviepy - Done !\n",
            "Moviepy - video ready trimmed_video.mp4\n"
          ]
        }
      ],
      "source": [
        "import random\n",
        "\n",
        "if duration < audio_duration:\n",
        "    raise ValueError(\"The video is shorter than the required trim length.\")\n",
        "\n",
        "random_start = random.uniform(0, duration - audio_duration)\n",
        "\n",
        "\n",
        "trimmed_video = video.subclip(random_start, random_start + audio_duration)\n",
        "\n",
        "trimmed_video_path = \"trimmed_video.mp4\"\n",
        "trimmed_video.write_videofile(trimmed_video_path, codec=\"libx264\")\n",
        "\n",
        "video.close()\n",
        "trimmed_video.close()"
      ]
    },
    {
      "cell_type": "code",
      "execution_count": 51,
      "metadata": {
        "colab": {
          "base_uri": "https://localhost:8080/"
        },
        "id": "nI6X-qGV95su",
        "outputId": "a043d060-e0a8-42da-a9c2-fb3a417511c5"
      },
      "outputs": [
        {
          "output_type": "stream",
          "name": "stdout",
          "text": [
            "[{'word': 'Why', 'start': 0.0, 'end': 0.4}, {'word': 'did', 'start': 0.4, 'end': 0.54}, {'word': 'the', 'start': 0.54, 'end': 0.72}, {'word': 'dog', 'start': 0.72, 'end': 0.92}, {'word': 'sit', 'start': 0.92, 'end': 1.12}, {'word': 'in', 'start': 1.12, 'end': 1.28}, {'word': 'the', 'start': 1.28, 'end': 1.48}, {'word': 'shade?', 'start': 1.48, 'end': 1.7}, {'word': 'Because', 'start': 2.68, 'end': 2.96}, {'word': 'he', 'start': 2.96, 'end': 3.1}, {'word': \"didn't\", 'start': 3.1, 'end': 3.36}, {'word': 'want', 'start': 3.36, 'end': 3.52}, {'word': 'to', 'start': 3.52, 'end': 3.72}, {'word': 'become', 'start': 3.72, 'end': 3.88}, {'word': 'a', 'start': 3.88, 'end': 4.08}, {'word': 'hot', 'start': 4.08, 'end': 4.28}, {'word': 'dog.', 'start': 4.28, 'end': 4.62}]\n"
          ]
        }
      ],
      "source": [
        "import json\n",
        "\n",
        "with open('data.json', 'r') as f:\n",
        "    subtitles_data = json.load(f)\n",
        "\n",
        "print(subtitles_data)"
      ]
    },
    {
      "cell_type": "markdown",
      "metadata": {
        "id": "DeeDmUy4DLWM"
      },
      "source": [
        "# Add subtitle to video"
      ]
    },
    {
      "cell_type": "code",
      "execution_count": null,
      "metadata": {
        "colab": {
          "base_uri": "https://localhost:8080/"
        },
        "collapsed": true,
        "id": "HBNylbc2-HXJ",
        "outputId": "b36a6441-b067-455d-d702-204ee0ddea58"
      },
      "outputs": [
        {
          "name": "stdout",
          "output_type": "stream",
          "text": [
            "Reading package lists... Done\n",
            "Building dependency tree... Done\n",
            "Reading state information... Done\n",
            "imagemagick is already the newest version (8:6.9.11.60+dfsg-1.3ubuntu0.22.04.5).\n",
            "0 upgraded, 0 newly installed, 0 to remove and 49 not upgraded.\n"
          ]
        }
      ],
      "source": [
        "!apt-get install -y imagemagick"
      ]
    },
    {
      "cell_type": "code",
      "execution_count": null,
      "metadata": {
        "id": "4u3WPkKHCPmj"
      },
      "outputs": [],
      "source": [
        "!echo \"<policys>\" > /etc/ImageMagick-6/policy.xml\n",
        "!echo \"<policy domain='coder' rights='read|write' pattern='*' />\" >> /etc/ImageMagick-6/policy.xml\n",
        "!echo \"</policys>\" >> /etc/ImageMagick-6/policy.xml"
      ]
    },
    {
      "cell_type": "code",
      "execution_count": 52,
      "metadata": {
        "colab": {
          "base_uri": "https://localhost:8080/"
        },
        "collapsed": true,
        "id": "dXkKlnYfAEyH",
        "outputId": "21efec8c-412b-4121-a73c-b1eb82a18f21"
      },
      "outputs": [
        {
          "output_type": "stream",
          "name": "stdout",
          "text": [
            "Moviepy - Building video minecraft_with_subtitles.mp4.\n",
            "MoviePy - Writing audio in minecraft_with_subtitlesTEMP_MPY_wvf_snd.mp3\n"
          ]
        },
        {
          "output_type": "stream",
          "name": "stderr",
          "text": []
        },
        {
          "output_type": "stream",
          "name": "stdout",
          "text": [
            "MoviePy - Done.\n",
            "Moviepy - Writing video minecraft_with_subtitles.mp4\n",
            "\n"
          ]
        },
        {
          "output_type": "stream",
          "name": "stderr",
          "text": [
            "t: 100%|█████████▉| 330/331 [01:20<00:00,  3.76it/s, now=None]WARNING:py.warnings:/usr/local/lib/python3.10/dist-packages/moviepy/video/io/ffmpeg_reader.py:123: UserWarning: Warning: in file trimmed_video.mp4, 6220800 bytes wanted but 0 bytes read,at frame 329/331, at time 5.48/5.51 sec. Using the last valid frame instead.\n",
            "  warnings.warn(\"Warning: in file %s, \"%(self.filename)+\n",
            "\n",
            "t: 100%|██████████| 331/331 [01:20<00:00,  4.46it/s, now=None]WARNING:py.warnings:/usr/local/lib/python3.10/dist-packages/moviepy/video/io/ffmpeg_reader.py:123: UserWarning: Warning: in file trimmed_video.mp4, 6220800 bytes wanted but 0 bytes read,at frame 330/331, at time 5.50/5.51 sec. Using the last valid frame instead.\n",
            "  warnings.warn(\"Warning: in file %s, \"%(self.filename)+\n",
            "\n"
          ]
        },
        {
          "output_type": "stream",
          "name": "stdout",
          "text": [
            "Moviepy - Done !\n",
            "Moviepy - video ready minecraft_with_subtitles.mp4\n"
          ]
        }
      ],
      "source": [
        "from moviepy.editor import VideoFileClip, TextClip, CompositeVideoClip\n",
        "\n",
        "video = VideoFileClip(\"trimmed_video.mp4\")\n",
        "\n",
        "subtitles_clips = []\n",
        "\n",
        "for subtitle in subtitles_data:\n",
        "    text = TextClip(subtitle['word'], font=\"Poppins-Regular.ttf\", fontsize=100, color='white')\n",
        "    text = text.set_start(subtitle['start']).set_duration(subtitle['end'] - subtitle['start'])\n",
        "    text = text.set_position(('center', 'center'))\n",
        "    subtitles_clips.append(text)\n",
        "\n",
        "final_video = CompositeVideoClip([video] + subtitles_clips)\n",
        "final_video.write_videofile(\"minecraft_with_subtitles.mp4\", fps=video.fps)\n"
      ]
    },
    {
      "cell_type": "markdown",
      "metadata": {
        "id": "IISSBGYQDO3B"
      },
      "source": [
        "# Finally merge video and audio"
      ]
    },
    {
      "cell_type": "code",
      "source": [
        "import yt_dlp\n",
        "\n",
        "save_path = '/content/drive/MyDrive/background.%(ext)s'\n",
        "\n",
        "ydl_opts = {\n",
        "    'outtmpl': save_path,\n",
        "    'format': 'bestaudio/best',\n",
        "    'postprocessors': [\n",
        "        {  # Extract audio using ffmpeg\n",
        "            'key': 'FFmpegExtractAudio',\n",
        "            'preferredcodec': 'mp3',\n",
        "            'preferredquality': '192',\n",
        "        }\n",
        "    ],\n",
        "}\n",
        "\n",
        "url = 'https://www.youtube.com/watch?v=vi84zA6iC7w'\n",
        "\n",
        "with yt_dlp.YoutubeDL(ydl_opts) as ydl:\n",
        "    ydl.download([url])"
      ],
      "metadata": {
        "colab": {
          "base_uri": "https://localhost:8080/"
        },
        "id": "poU_0uobWvLz",
        "outputId": "c3145a22-d5e9-4edb-c0a9-ebc40615ed02"
      },
      "execution_count": 53,
      "outputs": [
        {
          "output_type": "stream",
          "name": "stdout",
          "text": [
            "[youtube] Extracting URL: https://www.youtube.com/watch?v=vi84zA6iC7w\n",
            "[youtube] vi84zA6iC7w: Downloading webpage\n",
            "[youtube] vi84zA6iC7w: Downloading ios player API JSON\n",
            "[youtube] vi84zA6iC7w: Downloading web creator player API JSON\n",
            "[youtube] vi84zA6iC7w: Downloading m3u8 information\n",
            "[info] vi84zA6iC7w: Downloading 1 format(s): 251\n",
            "[download] Destination: /content/drive/MyDrive/background.webm\n",
            "[download] 100% of    1.62MiB in 00:00:00 at 3.94MiB/s   \n",
            "[ExtractAudio] Destination: /content/drive/MyDrive/background.mp3\n",
            "Deleting original file /content/drive/MyDrive/background.webm (pass -k to keep)\n"
          ]
        }
      ]
    },
    {
      "cell_type": "code",
      "execution_count": 54,
      "metadata": {
        "colab": {
          "base_uri": "https://localhost:8080/"
        },
        "collapsed": true,
        "id": "QUP96yySCfAr",
        "outputId": "ba238a66-d868-4b9f-ebcf-498cae47a325"
      },
      "outputs": [
        {
          "output_type": "stream",
          "name": "stdout",
          "text": [
            "Moviepy - Building video output.mp4.\n",
            "MoviePy - Writing audio in outputTEMP_MPY_wvf_snd.mp3\n"
          ]
        },
        {
          "output_type": "stream",
          "name": "stderr",
          "text": []
        },
        {
          "output_type": "stream",
          "name": "stdout",
          "text": [
            "MoviePy - Done.\n",
            "Moviepy - Writing video output.mp4\n",
            "\n"
          ]
        },
        {
          "output_type": "stream",
          "name": "stderr",
          "text": [
            "t: 100%|█████████▉| 332/333 [01:07<00:00,  3.69it/s, now=None]WARNING:py.warnings:/usr/local/lib/python3.10/dist-packages/moviepy/video/io/ffmpeg_reader.py:123: UserWarning: Warning: in file minecraft_with_subtitles.mp4, 6220800 bytes wanted but 0 bytes read,at frame 331/333, at time 5.52/5.54 sec. Using the last valid frame instead.\n",
            "  warnings.warn(\"Warning: in file %s, \"%(self.filename)+\n",
            "\n",
            "t: 100%|██████████| 333/333 [01:08<00:00,  3.39it/s, now=None]WARNING:py.warnings:/usr/local/lib/python3.10/dist-packages/moviepy/video/io/ffmpeg_reader.py:123: UserWarning: Warning: in file minecraft_with_subtitles.mp4, 6220800 bytes wanted but 0 bytes read,at frame 332/333, at time 5.53/5.54 sec. Using the last valid frame instead.\n",
            "  warnings.warn(\"Warning: in file %s, \"%(self.filename)+\n",
            "\n"
          ]
        },
        {
          "output_type": "stream",
          "name": "stdout",
          "text": [
            "Moviepy - Done !\n",
            "Moviepy - video ready output.mp4\n"
          ]
        }
      ],
      "source": [
        "from moviepy.editor import VideoFileClip, AudioFileClip\n",
        "\n",
        "video = VideoFileClip(\"minecraft_with_subtitles.mp4\")\n",
        "\n",
        "audio = AudioFileClip(\"output.mp3\")\n",
        "\n",
        "final_video = video.set_audio(audio)\n",
        "\n",
        "final_video.write_videofile(\"output.mp4\", fps=video.fps)"
      ]
    },
    {
      "cell_type": "code",
      "source": [
        "from moviepy.editor import VideoFileClip, AudioFileClip, CompositeAudioClip\n",
        "\n",
        "video_clip = VideoFileClip(\"output.mp4\")\n",
        "original_audio = video_clip.audio\n",
        "\n",
        "background_audio = AudioFileClip(\"/content/drive/MyDrive/background.mp3\").volumex(0.11)\n",
        "\n",
        "background_audio = background_audio.set_duration(video_clip.duration)\n",
        "\n",
        "combined_audio = CompositeAudioClip([original_audio, background_audio])\n",
        "\n",
        "final_clip = video_clip.set_audio(combined_audio)\n",
        "\n",
        "final_clip.write_videofile(\"output_with_music.mp4\", codec=\"libx264\", audio_codec=\"aac\")"
      ],
      "metadata": {
        "colab": {
          "base_uri": "https://localhost:8080/"
        },
        "id": "myA8-notW-95",
        "outputId": "f86cf72b-dbb2-4c28-fbe6-26ff75f2938e"
      },
      "execution_count": 58,
      "outputs": [
        {
          "output_type": "stream",
          "name": "stdout",
          "text": [
            "Moviepy - Building video output_with_music.mp4.\n",
            "MoviePy - Writing audio in output_with_musicTEMP_MPY_wvf_snd.mp4\n"
          ]
        },
        {
          "output_type": "stream",
          "name": "stderr",
          "text": [
            "                                                                  "
          ]
        },
        {
          "output_type": "stream",
          "name": "stdout",
          "text": [
            "MoviePy - Done.\n",
            "Moviepy - Writing video output_with_music.mp4\n",
            "\n"
          ]
        },
        {
          "output_type": "stream",
          "name": "stderr",
          "text": []
        },
        {
          "output_type": "stream",
          "name": "stdout",
          "text": [
            "Moviepy - Done !\n",
            "Moviepy - video ready output_with_music.mp4\n"
          ]
        }
      ]
    },
    {
      "cell_type": "code",
      "execution_count": 59,
      "metadata": {
        "colab": {
          "base_uri": "https://localhost:8080/",
          "height": 17
        },
        "id": "kDoVPyDlCmCX",
        "outputId": "732366bc-f118-4426-975b-a5a71ae0912e"
      },
      "outputs": [
        {
          "output_type": "display_data",
          "data": {
            "text/plain": [
              "<IPython.core.display.Javascript object>"
            ],
            "application/javascript": [
              "\n",
              "    async function download(id, filename, size) {\n",
              "      if (!google.colab.kernel.accessAllowed) {\n",
              "        return;\n",
              "      }\n",
              "      const div = document.createElement('div');\n",
              "      const label = document.createElement('label');\n",
              "      label.textContent = `Downloading \"${filename}\": `;\n",
              "      div.appendChild(label);\n",
              "      const progress = document.createElement('progress');\n",
              "      progress.max = size;\n",
              "      div.appendChild(progress);\n",
              "      document.body.appendChild(div);\n",
              "\n",
              "      const buffers = [];\n",
              "      let downloaded = 0;\n",
              "\n",
              "      const channel = await google.colab.kernel.comms.open(id);\n",
              "      // Send a message to notify the kernel that we're ready.\n",
              "      channel.send({})\n",
              "\n",
              "      for await (const message of channel.messages) {\n",
              "        // Send a message to notify the kernel that we're ready.\n",
              "        channel.send({})\n",
              "        if (message.buffers) {\n",
              "          for (const buffer of message.buffers) {\n",
              "            buffers.push(buffer);\n",
              "            downloaded += buffer.byteLength;\n",
              "            progress.value = downloaded;\n",
              "          }\n",
              "        }\n",
              "      }\n",
              "      const blob = new Blob(buffers, {type: 'application/binary'});\n",
              "      const a = document.createElement('a');\n",
              "      a.href = window.URL.createObjectURL(blob);\n",
              "      a.download = filename;\n",
              "      div.appendChild(a);\n",
              "      a.click();\n",
              "      div.remove();\n",
              "    }\n",
              "  "
            ]
          },
          "metadata": {}
        },
        {
          "output_type": "display_data",
          "data": {
            "text/plain": [
              "<IPython.core.display.Javascript object>"
            ],
            "application/javascript": [
              "download(\"download_cea9bcec-1e85-467f-9bc7-0100f27eeecb\", \"output_with_music.mp4\", 5507633)"
            ]
          },
          "metadata": {}
        }
      ],
      "source": [
        "from google.colab import files\n",
        "files.download(\"output_with_music.mp4\")"
      ]
    },
    {
      "cell_type": "markdown",
      "source": [
        "# Add Image"
      ],
      "metadata": {
        "id": "GHrIZTWrfTUd"
      }
    },
    {
      "cell_type": "code",
      "source": [
        "print(subtitles_data)"
      ],
      "metadata": {
        "colab": {
          "base_uri": "https://localhost:8080/"
        },
        "id": "LfDa5uWhfVjV",
        "outputId": "15956c45-53d1-4fee-f998-76fbd666abde"
      },
      "execution_count": 60,
      "outputs": [
        {
          "output_type": "stream",
          "name": "stdout",
          "text": [
            "[{'word': 'Why', 'start': 0.0, 'end': 0.4}, {'word': 'did', 'start': 0.4, 'end': 0.54}, {'word': 'the', 'start': 0.54, 'end': 0.72}, {'word': 'dog', 'start': 0.72, 'end': 0.92}, {'word': 'sit', 'start': 0.92, 'end': 1.12}, {'word': 'in', 'start': 1.12, 'end': 1.28}, {'word': 'the', 'start': 1.28, 'end': 1.48}, {'word': 'shade?', 'start': 1.48, 'end': 1.7}, {'word': 'Because', 'start': 2.68, 'end': 2.96}, {'word': 'he', 'start': 2.96, 'end': 3.1}, {'word': \"didn't\", 'start': 3.1, 'end': 3.36}, {'word': 'want', 'start': 3.36, 'end': 3.52}, {'word': 'to', 'start': 3.52, 'end': 3.72}, {'word': 'become', 'start': 3.72, 'end': 3.88}, {'word': 'a', 'start': 3.88, 'end': 4.08}, {'word': 'hot', 'start': 4.08, 'end': 4.28}, {'word': 'dog.', 'start': 4.28, 'end': 4.62}]\n"
          ]
        }
      ]
    },
    {
      "cell_type": "code",
      "source": [
        "print(text)"
      ],
      "metadata": {
        "colab": {
          "base_uri": "https://localhost:8080/"
        },
        "id": "VE7EO7ecfvrC",
        "outputId": "c27f6a56-20af-420a-e2a9-9a8a66029d7c"
      },
      "execution_count": 63,
      "outputs": [
        {
          "output_type": "stream",
          "name": "stdout",
          "text": [
            "Why did the dog sit in the shade? Because he didn’t want to become a hot dog!\n"
          ]
        }
      ]
    },
    {
      "cell_type": "code",
      "source": [
        "!pip install spacy"
      ],
      "metadata": {
        "colab": {
          "base_uri": "https://localhost:8080/"
        },
        "collapsed": true,
        "id": "kOJjuMpZgI-K",
        "outputId": "365a31ab-ce06-47fd-ee1f-1c68f4bc405b"
      },
      "execution_count": 64,
      "outputs": [
        {
          "output_type": "stream",
          "name": "stdout",
          "text": [
            "Requirement already satisfied: spacy in /usr/local/lib/python3.10/dist-packages (3.7.5)\n",
            "Requirement already satisfied: spacy-legacy<3.1.0,>=3.0.11 in /usr/local/lib/python3.10/dist-packages (from spacy) (3.0.12)\n",
            "Requirement already satisfied: spacy-loggers<2.0.0,>=1.0.0 in /usr/local/lib/python3.10/dist-packages (from spacy) (1.0.5)\n",
            "Requirement already satisfied: murmurhash<1.1.0,>=0.28.0 in /usr/local/lib/python3.10/dist-packages (from spacy) (1.0.10)\n",
            "Requirement already satisfied: cymem<2.1.0,>=2.0.2 in /usr/local/lib/python3.10/dist-packages (from spacy) (2.0.8)\n",
            "Requirement already satisfied: preshed<3.1.0,>=3.0.2 in /usr/local/lib/python3.10/dist-packages (from spacy) (3.0.9)\n",
            "Requirement already satisfied: thinc<8.3.0,>=8.2.2 in /usr/local/lib/python3.10/dist-packages (from spacy) (8.2.5)\n",
            "Requirement already satisfied: wasabi<1.2.0,>=0.9.1 in /usr/local/lib/python3.10/dist-packages (from spacy) (1.1.3)\n",
            "Requirement already satisfied: srsly<3.0.0,>=2.4.3 in /usr/local/lib/python3.10/dist-packages (from spacy) (2.4.8)\n",
            "Requirement already satisfied: catalogue<2.1.0,>=2.0.6 in /usr/local/lib/python3.10/dist-packages (from spacy) (2.0.10)\n",
            "Requirement already satisfied: weasel<0.5.0,>=0.1.0 in /usr/local/lib/python3.10/dist-packages (from spacy) (0.4.1)\n",
            "Requirement already satisfied: typer<1.0.0,>=0.3.0 in /usr/local/lib/python3.10/dist-packages (from spacy) (0.12.5)\n",
            "Requirement already satisfied: tqdm<5.0.0,>=4.38.0 in /usr/local/lib/python3.10/dist-packages (from spacy) (4.66.5)\n",
            "Requirement already satisfied: requests<3.0.0,>=2.13.0 in /usr/local/lib/python3.10/dist-packages (from spacy) (2.32.3)\n",
            "Requirement already satisfied: pydantic!=1.8,!=1.8.1,<3.0.0,>=1.7.4 in /usr/local/lib/python3.10/dist-packages (from spacy) (2.9.2)\n",
            "Requirement already satisfied: jinja2 in /usr/local/lib/python3.10/dist-packages (from spacy) (3.1.4)\n",
            "Requirement already satisfied: setuptools in /usr/local/lib/python3.10/dist-packages (from spacy) (71.0.4)\n",
            "Requirement already satisfied: packaging>=20.0 in /usr/local/lib/python3.10/dist-packages (from spacy) (24.1)\n",
            "Requirement already satisfied: langcodes<4.0.0,>=3.2.0 in /usr/local/lib/python3.10/dist-packages (from spacy) (3.4.1)\n",
            "Requirement already satisfied: numpy>=1.19.0 in /usr/local/lib/python3.10/dist-packages (from spacy) (1.26.4)\n",
            "Requirement already satisfied: language-data>=1.2 in /usr/local/lib/python3.10/dist-packages (from langcodes<4.0.0,>=3.2.0->spacy) (1.2.0)\n",
            "Requirement already satisfied: annotated-types>=0.6.0 in /usr/local/lib/python3.10/dist-packages (from pydantic!=1.8,!=1.8.1,<3.0.0,>=1.7.4->spacy) (0.7.0)\n",
            "Requirement already satisfied: pydantic-core==2.23.4 in /usr/local/lib/python3.10/dist-packages (from pydantic!=1.8,!=1.8.1,<3.0.0,>=1.7.4->spacy) (2.23.4)\n",
            "Requirement already satisfied: typing-extensions>=4.6.1 in /usr/local/lib/python3.10/dist-packages (from pydantic!=1.8,!=1.8.1,<3.0.0,>=1.7.4->spacy) (4.12.2)\n",
            "Requirement already satisfied: charset-normalizer<4,>=2 in /usr/local/lib/python3.10/dist-packages (from requests<3.0.0,>=2.13.0->spacy) (3.3.2)\n",
            "Requirement already satisfied: idna<4,>=2.5 in /usr/local/lib/python3.10/dist-packages (from requests<3.0.0,>=2.13.0->spacy) (3.10)\n",
            "Requirement already satisfied: urllib3<3,>=1.21.1 in /usr/local/lib/python3.10/dist-packages (from requests<3.0.0,>=2.13.0->spacy) (2.2.3)\n",
            "Requirement already satisfied: certifi>=2017.4.17 in /usr/local/lib/python3.10/dist-packages (from requests<3.0.0,>=2.13.0->spacy) (2024.8.30)\n",
            "Requirement already satisfied: blis<0.8.0,>=0.7.8 in /usr/local/lib/python3.10/dist-packages (from thinc<8.3.0,>=8.2.2->spacy) (0.7.11)\n",
            "Requirement already satisfied: confection<1.0.0,>=0.0.1 in /usr/local/lib/python3.10/dist-packages (from thinc<8.3.0,>=8.2.2->spacy) (0.1.5)\n",
            "Requirement already satisfied: click>=8.0.0 in /usr/local/lib/python3.10/dist-packages (from typer<1.0.0,>=0.3.0->spacy) (8.1.7)\n",
            "Requirement already satisfied: shellingham>=1.3.0 in /usr/local/lib/python3.10/dist-packages (from typer<1.0.0,>=0.3.0->spacy) (1.5.4)\n",
            "Requirement already satisfied: rich>=10.11.0 in /usr/local/lib/python3.10/dist-packages (from typer<1.0.0,>=0.3.0->spacy) (13.8.1)\n",
            "Requirement already satisfied: cloudpathlib<1.0.0,>=0.7.0 in /usr/local/lib/python3.10/dist-packages (from weasel<0.5.0,>=0.1.0->spacy) (0.19.0)\n",
            "Requirement already satisfied: smart-open<8.0.0,>=5.2.1 in /usr/local/lib/python3.10/dist-packages (from weasel<0.5.0,>=0.1.0->spacy) (7.0.4)\n",
            "Requirement already satisfied: MarkupSafe>=2.0 in /usr/local/lib/python3.10/dist-packages (from jinja2->spacy) (2.1.5)\n",
            "Requirement already satisfied: marisa-trie>=0.7.7 in /usr/local/lib/python3.10/dist-packages (from language-data>=1.2->langcodes<4.0.0,>=3.2.0->spacy) (1.2.0)\n",
            "Requirement already satisfied: markdown-it-py>=2.2.0 in /usr/local/lib/python3.10/dist-packages (from rich>=10.11.0->typer<1.0.0,>=0.3.0->spacy) (3.0.0)\n",
            "Requirement already satisfied: pygments<3.0.0,>=2.13.0 in /usr/local/lib/python3.10/dist-packages (from rich>=10.11.0->typer<1.0.0,>=0.3.0->spacy) (2.18.0)\n",
            "Requirement already satisfied: wrapt in /usr/local/lib/python3.10/dist-packages (from smart-open<8.0.0,>=5.2.1->weasel<0.5.0,>=0.1.0->spacy) (1.16.0)\n",
            "Requirement already satisfied: mdurl~=0.1 in /usr/local/lib/python3.10/dist-packages (from markdown-it-py>=2.2.0->rich>=10.11.0->typer<1.0.0,>=0.3.0->spacy) (0.1.2)\n"
          ]
        }
      ]
    },
    {
      "cell_type": "code",
      "source": [
        "import spacy\n",
        "\n",
        "nlp = spacy.load(\"en_core_web_sm\")\n",
        "\n",
        "def extract_keywords(text):\n",
        "    doc = nlp(text)\n",
        "    keywords = []\n",
        "    for token in doc:\n",
        "        if token.pos_ in ('NOUN', 'PROPN', 'VERB'):\n",
        "            keywords.append(token.lemma_)\n",
        "    return keywords\n",
        "\n",
        "keywords = extract_keywords(text)\n",
        "print(f\"Original sentence: {text}\")\n",
        "print(f\"Extracted keywords: {keywords}\")"
      ],
      "metadata": {
        "colab": {
          "base_uri": "https://localhost:8080/"
        },
        "id": "KuPvR_Lnf8RF",
        "outputId": "04c29645-6a63-49c8-fd96-637ee841728b"
      },
      "execution_count": 89,
      "outputs": [
        {
          "output_type": "stream",
          "name": "stdout",
          "text": [
            "Original sentence: Why did the dog sit in the shade? Because he didn’t want to become a hot dog!\n",
            "Extracted keywords: ['dog', 'sit', 'shade', 'want', 'become', 'dog']\n"
          ]
        }
      ]
    },
    {
      "cell_type": "code",
      "source": [
        "keywords.append(\"hot\")"
      ],
      "metadata": {
        "id": "YfXittH-qgco"
      },
      "execution_count": 90,
      "outputs": []
    },
    {
      "cell_type": "code",
      "source": [
        "!pip install bing-image-downloader"
      ],
      "metadata": {
        "colab": {
          "base_uri": "https://localhost:8080/"
        },
        "id": "zMLrNnD8gxYw",
        "outputId": "a79f063b-b7de-4e51-e242-adb328ca1ffe"
      },
      "execution_count": 66,
      "outputs": [
        {
          "output_type": "stream",
          "name": "stdout",
          "text": [
            "Collecting bing-image-downloader\n",
            "  Downloading bing_image_downloader-1.1.2-py3-none-any.whl.metadata (2.8 kB)\n",
            "Downloading bing_image_downloader-1.1.2-py3-none-any.whl (5.9 kB)\n",
            "Installing collected packages: bing-image-downloader\n",
            "Successfully installed bing-image-downloader-1.1.2\n"
          ]
        }
      ]
    },
    {
      "cell_type": "code",
      "source": [
        "from bing_image_downloader import downloader\n",
        "import os\n",
        "\n",
        "output_dir = 'images'\n",
        "\n",
        "os.makedirs(output_dir, exist_ok=True)\n",
        "\n",
        "for keyword in keywords:\n",
        "    downloader.download(keyword, limit=1,\n",
        "                        output_dir=output_dir,\n",
        "                        adult_filter_off=True,\n",
        "                        force_replace=False,\n",
        "                        timeout=60)\n",
        "\n",
        "    keyword_folder = os.path.join(output_dir, keyword)\n",
        "    downloaded_files = os.listdir(keyword_folder)\n",
        "\n",
        "    for file_name in downloaded_files:\n",
        "        old_file_path = os.path.join(keyword_folder, file_name)\n",
        "        new_file_name = f\"{keyword}.jpg\"\n",
        "        new_file_path = os.path.join(output_dir, new_file_name)\n",
        "\n",
        "        os.rename(old_file_path, new_file_path)\n",
        "\n",
        "    if not os.listdir(keyword_folder):\n",
        "        os.rmdir(keyword_folder)"
      ],
      "metadata": {
        "colab": {
          "base_uri": "https://localhost:8080/"
        },
        "collapsed": true,
        "id": "-AhNG8xog2Jq",
        "outputId": "d167cc5c-e46f-42e8-e333-37cc34ab567b"
      },
      "execution_count": 77,
      "outputs": [
        {
          "output_type": "stream",
          "name": "stdout",
          "text": [
            "[%] Downloading Images to /content/images/dog\n",
            "\n",
            "\n",
            "[!!]Indexing page: 1\n",
            "\n",
            "[%] Indexed 1 Images on Page 1.\n",
            "\n",
            "===============================================\n",
            "\n",
            "[%] Downloading Image #1 from http://upload.wikimedia.org/wikipedia/commons/4/47/American_Eskimo_Dog.jpg\n",
            "[%] File Downloaded !\n",
            "\n",
            "\n",
            "\n",
            "[%] Done. Downloaded 1 images.\n",
            "[%] Downloading Images to /content/images/sit\n",
            "\n",
            "\n",
            "[!!]Indexing page: 1\n",
            "\n",
            "[%] Indexed 1 Images on Page 1.\n",
            "\n",
            "===============================================\n",
            "\n",
            "[%] Downloading Image #1 from http://4.bp.blogspot.com/-U5kmvRwbTKw/T-4qx4mHamI/AAAAAAAAAT8/TxL74o18kkc/s1600/sit-down.jpg\n",
            "[%] File Downloaded !\n",
            "\n",
            "\n",
            "\n",
            "[%] Done. Downloaded 1 images.\n",
            "[%] Downloading Images to /content/images/shade\n",
            "\n",
            "\n",
            "[!!]Indexing page: 1\n",
            "\n",
            "[%] Indexed 1 Images on Page 1.\n",
            "\n",
            "===============================================\n",
            "\n",
            "[%] Downloading Image #1 from http://1loveislam.com/site/wp-content/uploads/2013/10/tree-sun-shade-1280x800.jpg\n",
            "[%] File Downloaded !\n",
            "\n",
            "\n",
            "\n",
            "[%] Done. Downloaded 1 images.\n",
            "[%] Downloading Images to /content/images/want\n",
            "\n",
            "\n",
            "[!!]Indexing page: 1\n",
            "\n",
            "[%] Indexed 1 Images on Page 1.\n",
            "\n",
            "===============================================\n",
            "\n",
            "[%] Downloading Image #1 from https://res.cloudinary.com/spiralyze/image/upload/f_auto,w_auto/BabySignLanguage/DictionaryPages/want-flash-card-jpg.jpeg\n",
            "[%] File Downloaded !\n",
            "\n",
            "\n",
            "\n",
            "[%] Done. Downloaded 1 images.\n",
            "[%] Downloading Images to /content/images/become\n",
            "\n",
            "\n",
            "[!!]Indexing page: 1\n",
            "\n",
            "[%] Indexed 1 Images on Page 1.\n",
            "\n",
            "===============================================\n",
            "\n",
            "[%] Downloading Image #1 from https://www.tekportal.net/wp-content/uploads/2019/02/become-8124.jpg\n",
            "[!] Issue getting: https://www.tekportal.net/wp-content/uploads/2019/02/become-8124.jpg\n",
            "[!] Error:: HTTP Error 523: \n",
            "\n",
            "\n",
            "[!!]Indexing page: 2\n",
            "\n",
            "[%] Indexed 35 Images on Page 2.\n",
            "\n",
            "===============================================\n",
            "\n",
            "[%] Downloading Image #1 from https://cdn-ak.f.st-hatena.com/images/fotolife/n/nativecamp_official/20230119/20230119092932.png\n",
            "[%] File Downloaded !\n",
            "\n",
            "\n",
            "\n",
            "[%] Done. Downloaded 1 images.\n",
            "[%] Downloading Images to /content/images/dog\n",
            "\n",
            "\n",
            "[!!]Indexing page: 1\n",
            "\n",
            "[%] Indexed 1 Images on Page 1.\n",
            "\n",
            "===============================================\n",
            "\n",
            "[%] Downloading Image #1 from http://upload.wikimedia.org/wikipedia/commons/4/47/American_Eskimo_Dog.jpg\n",
            "[%] File Downloaded !\n",
            "\n",
            "\n",
            "\n",
            "[%] Done. Downloaded 1 images.\n"
          ]
        }
      ]
    },
    {
      "cell_type": "code",
      "source": [
        "# to add the image that you might like to add!\n",
        "import os\n",
        "\n",
        "os.makedirs('images', exist_ok=True)\n",
        "\n",
        "import requests\n",
        "\n",
        "url = 'https://media.cnn.com/api/v1/images/stellar/prod/gettyimages-1703046887.jpg?c=original'\n",
        "response = requests.get(url)\n",
        "\n",
        "# Save the image as hot.jpg in the images directory\n",
        "with open('images/hot.jpg', 'wb') as file:\n",
        "    file.write(response.content)\n",
        "\n",
        "print(\"Image downloaded and saved as images/hot.jpg\")"
      ],
      "metadata": {
        "colab": {
          "base_uri": "https://localhost:8080/"
        },
        "id": "AbqPp1CQp2Kf",
        "outputId": "c727a1b2-2600-4e82-deba-abb0c13e6bf6"
      },
      "execution_count": 93,
      "outputs": [
        {
          "output_type": "stream",
          "name": "stdout",
          "text": [
            "Image downloaded and saved as images/hot.jpg\n"
          ]
        }
      ]
    },
    {
      "cell_type": "code",
      "source": [
        "print(text)\n",
        "print(keywords)"
      ],
      "metadata": {
        "colab": {
          "base_uri": "https://localhost:8080/"
        },
        "id": "xO47_QIQvfyH",
        "outputId": "65665ea0-e3ef-42ab-dadb-6db6c475d398"
      },
      "execution_count": 102,
      "outputs": [
        {
          "output_type": "stream",
          "name": "stdout",
          "text": [
            "Why did the dog sit in the shade? Because he didn’t want to become a hot dog!\n",
            "['dog', 'sit', 'shade', 'want', 'become', 'dog', 'hot']\n"
          ]
        }
      ]
    },
    {
      "cell_type": "code",
      "source": [
        "from moviepy.editor import VideoFileClip, ImageClip, CompositeVideoClip\n",
        "import os"
      ],
      "metadata": {
        "id": "gMdimFopol-c"
      },
      "execution_count": 116,
      "outputs": []
    },
    {
      "cell_type": "code",
      "source": [
        "video_path = 'output_with_music.mp4'\n",
        "video_clip = VideoFileClip(video_path)\n",
        "\n",
        "video_width, video_height = video_clip.size\n",
        "\n",
        "padding = 20\n",
        "image_width = video_width - 40\n",
        "image_height = int(image_width * (video_height / video_width))\n",
        "\n",
        "\n",
        "current_image = keywords[0]\n",
        "image_clips = []\n",
        "\n",
        "for entry in subtitles_data:\n",
        "    word = entry['word']\n",
        "    start_time = entry['start']\n",
        "    end_time = entry['end']\n",
        "\n",
        "    if word in keywords:\n",
        "        current_image = word\n",
        "    image_path = f'images/{current_image}.jpg'\n",
        "    print(f\"{entry} using {current_image}\")\n",
        "\n",
        "    img_clip = ImageClip(image_path)\n",
        "\n",
        "    original_width, original_height = img_clip.size\n",
        "    aspect_ratio = original_height / original_width\n",
        "    image_height = int(image_width * aspect_ratio)\n",
        "\n",
        "    img_clip = img_clip.set_duration(end_time - start_time)\\\n",
        "        .resize((image_width, image_height))\\\n",
        "        .set_position((padding, padding))\\\n",
        "        .set_start(start_time)\n",
        "\n",
        "    image_clips.append(img_clip)\n",
        "\n",
        "composite = CompositeVideoClip([video_clip] + image_clips)\n",
        "\n",
        "composite.write_videofile(\"final_output.mp4\", codec='libx264', fps=video_clip.fps)"
      ],
      "metadata": {
        "colab": {
          "base_uri": "https://localhost:8080/"
        },
        "collapsed": true,
        "id": "8Q1NWytf2jdz",
        "outputId": "b02078f9-013b-45c3-a414-b06da7780015"
      },
      "execution_count": 127,
      "outputs": [
        {
          "output_type": "stream",
          "name": "stdout",
          "text": [
            "{'word': 'Why', 'start': 0.0, 'end': 0.4} using dog\n",
            "{'word': 'did', 'start': 0.4, 'end': 0.54} using dog\n",
            "{'word': 'the', 'start': 0.54, 'end': 0.72} using dog\n",
            "{'word': 'dog', 'start': 0.72, 'end': 0.92} using dog\n",
            "{'word': 'sit', 'start': 0.92, 'end': 1.12} using sit\n",
            "{'word': 'in', 'start': 1.12, 'end': 1.28} using sit\n",
            "{'word': 'the', 'start': 1.28, 'end': 1.48} using sit\n",
            "{'word': 'shade?', 'start': 1.48, 'end': 1.7} using sit\n",
            "{'word': 'Because', 'start': 2.68, 'end': 2.96} using sit\n",
            "{'word': 'he', 'start': 2.96, 'end': 3.1} using sit\n",
            "{'word': \"didn't\", 'start': 3.1, 'end': 3.36} using sit\n",
            "{'word': 'want', 'start': 3.36, 'end': 3.52} using want\n",
            "{'word': 'to', 'start': 3.52, 'end': 3.72} using want\n",
            "{'word': 'become', 'start': 3.72, 'end': 3.88} using become\n",
            "{'word': 'a', 'start': 3.88, 'end': 4.08} using become\n",
            "{'word': 'hot', 'start': 4.08, 'end': 4.28} using hot\n",
            "{'word': 'dog.', 'start': 4.28, 'end': 4.62} using hot\n"
          ]
        },
        {
          "output_type": "stream",
          "name": "stderr",
          "text": [
            "\n",
            "\n",
            "t:   4%|▍         | 15/335 [1:17:07<00:31, 10.02it/s, now=None]\n",
            "\n",
            "t:   4%|▍         | 15/335 [1:17:07<00:31, 10.02it/s, now=None]"
          ]
        },
        {
          "output_type": "stream",
          "name": "stdout",
          "text": [
            "Moviepy - Building video final_output.mp4.\n",
            "MoviePy - Writing audio in final_outputTEMP_MPY_wvf_snd.mp3\n"
          ]
        },
        {
          "output_type": "stream",
          "name": "stderr",
          "text": [
            "\n",
            "\n",
            "chunk:   0%|          | 0/123 [00:00<?, ?it/s, now=None]\u001b[A\u001b[A\n",
            "\n",
            "chunk:  26%|██▌       | 32/123 [00:00<00:00, 167.88it/s, now=None]\u001b[A\u001b[A\n",
            "\n",
            "chunk:  42%|████▏     | 52/123 [00:00<00:00, 175.76it/s, now=None]\u001b[A\u001b[A\n",
            "\n",
            "chunk:  61%|██████    | 75/123 [00:00<00:00, 194.54it/s, now=None]\u001b[A\u001b[A\n",
            "\n",
            "chunk:  77%|███████▋  | 95/123 [00:00<00:00, 188.92it/s, now=None]\u001b[A\u001b[A\n",
            "\n",
            "chunk:  93%|█████████▎| 115/123 [00:00<00:00, 156.09it/s, now=None]\u001b[A\u001b[A\n",
            "\n",
            "                                                                   \u001b[A\u001b[A\n",
            "\n",
            "t:   4%|▍         | 15/335 [1:17:08<00:31, 10.02it/s, now=None]\n",
            "\n",
            "t:   4%|▍         | 15/335 [1:17:08<00:31, 10.02it/s, now=None]"
          ]
        },
        {
          "output_type": "stream",
          "name": "stdout",
          "text": [
            "MoviePy - Done.\n",
            "Moviepy - Writing video final_output.mp4\n",
            "\n"
          ]
        },
        {
          "output_type": "stream",
          "name": "stderr",
          "text": [
            "\n",
            "\n",
            "t:   0%|          | 0/335 [00:00<?, ?it/s, now=None]\u001b[A\u001b[A\n",
            "\n",
            "t:   1%|          | 2/335 [00:00<00:23, 14.10it/s, now=None]\u001b[A\u001b[A\n",
            "\n",
            "t:   1%|          | 4/335 [00:00<00:36,  9.13it/s, now=None]\u001b[A\u001b[A\n",
            "\n",
            "t:   2%|▏         | 6/335 [00:00<00:39,  8.42it/s, now=None]\u001b[A\u001b[A\n",
            "\n",
            "t:   2%|▏         | 8/335 [00:00<00:35,  9.34it/s, now=None]\u001b[A\u001b[A\n",
            "\n",
            "t:   3%|▎         | 9/335 [00:00<00:34,  9.39it/s, now=None]\u001b[A\u001b[A\n",
            "\n",
            "t:   3%|▎         | 11/335 [00:01<00:30, 10.70it/s, now=None]\u001b[A\u001b[A\n",
            "\n",
            "t:   4%|▍         | 13/335 [00:01<00:31, 10.25it/s, now=None]\u001b[A\u001b[A\n",
            "\n",
            "t:   4%|▍         | 15/335 [00:01<00:30, 10.64it/s, now=None]\u001b[A\u001b[A\n",
            "\n",
            "t:   5%|▌         | 17/335 [00:01<00:29, 10.71it/s, now=None]\u001b[A\u001b[A\n",
            "\n",
            "t:   6%|▌         | 19/335 [00:01<00:26, 12.06it/s, now=None]\u001b[A\u001b[A\n",
            "\n",
            "t:   6%|▋         | 21/335 [00:01<00:24, 13.07it/s, now=None]\u001b[A\u001b[A\n",
            "\n",
            "t:   7%|▋         | 23/335 [00:02<00:22, 13.70it/s, now=None]\u001b[A\u001b[A\n",
            "\n",
            "t:   7%|▋         | 25/335 [00:02<00:21, 14.21it/s, now=None]\u001b[A\u001b[A\n",
            "\n",
            "t:   8%|▊         | 27/335 [00:02<00:21, 14.62it/s, now=None]\u001b[A\u001b[A\n",
            "\n",
            "t:   9%|▊         | 29/335 [00:02<00:21, 14.51it/s, now=None]\u001b[A\u001b[A\n",
            "\n",
            "t:   9%|▉         | 31/335 [00:02<00:21, 14.42it/s, now=None]\u001b[A\u001b[A\n",
            "\n",
            "t:  10%|▉         | 33/335 [00:02<00:21, 13.87it/s, now=None]\u001b[A\u001b[A\n",
            "\n",
            "t:  10%|█         | 35/335 [00:02<00:20, 14.34it/s, now=None]\u001b[A\u001b[A\n",
            "\n",
            "t:  11%|█         | 37/335 [00:03<00:20, 14.38it/s, now=None]\u001b[A\u001b[A\n",
            "\n",
            "t:  12%|█▏        | 39/335 [00:03<00:19, 14.92it/s, now=None]\u001b[A\u001b[A\n",
            "\n",
            "t:  12%|█▏        | 41/335 [00:03<00:19, 15.18it/s, now=None]\u001b[A\u001b[A\n",
            "\n",
            "t:  13%|█▎        | 43/335 [00:03<00:19, 15.29it/s, now=None]\u001b[A\u001b[A\n",
            "\n",
            "t:  13%|█▎        | 45/335 [00:03<00:19, 15.00it/s, now=None]\u001b[A\u001b[A\n",
            "\n",
            "t:  14%|█▍        | 47/335 [00:03<00:20, 13.89it/s, now=None]\u001b[A\u001b[A\n",
            "\n",
            "t:  15%|█▍        | 49/335 [00:03<00:21, 13.29it/s, now=None]\u001b[A\u001b[A\n",
            "\n",
            "t:  15%|█▌        | 51/335 [00:03<00:20, 13.62it/s, now=None]\u001b[A\u001b[A\n",
            "\n",
            "t:  16%|█▌        | 53/335 [00:04<00:20, 13.62it/s, now=None]\u001b[A\u001b[A\n",
            "\n",
            "t:  16%|█▋        | 55/335 [00:04<00:20, 13.70it/s, now=None]\u001b[A\u001b[A\n",
            "\n",
            "t:  17%|█▋        | 57/335 [00:04<00:29,  9.32it/s, now=None]\u001b[A\u001b[A\n",
            "\n",
            "t:  18%|█▊        | 59/335 [00:05<00:36,  7.55it/s, now=None]\u001b[A\u001b[A\n",
            "\n",
            "t:  18%|█▊        | 60/335 [00:05<00:36,  7.52it/s, now=None]\u001b[A\u001b[A\n",
            "\n",
            "t:  18%|█▊        | 61/335 [00:05<00:35,  7.73it/s, now=None]\u001b[A\u001b[A\n",
            "\n",
            "t:  19%|█▊        | 62/335 [00:05<00:41,  6.56it/s, now=None]\u001b[A\u001b[A\n",
            "\n",
            "t:  19%|█▉        | 63/335 [00:05<00:44,  6.16it/s, now=None]\u001b[A\u001b[A\n",
            "\n",
            "t:  19%|█▉        | 64/335 [00:05<00:47,  5.74it/s, now=None]\u001b[A\u001b[A\n",
            "\n",
            "t:  19%|█▉        | 65/335 [00:06<00:44,  6.11it/s, now=None]\u001b[A\u001b[A\n",
            "\n",
            "t:  20%|█▉        | 66/335 [00:06<00:42,  6.34it/s, now=None]\u001b[A\u001b[A\n",
            "\n",
            "t:  20%|██        | 67/335 [00:06<00:45,  5.94it/s, now=None]\u001b[A\u001b[A\n",
            "\n",
            "t:  20%|██        | 68/335 [00:06<00:59,  4.50it/s, now=None]\u001b[A\u001b[A\n",
            "\n",
            "t:  21%|██        | 69/335 [00:06<00:56,  4.68it/s, now=None]\u001b[A\u001b[A\n",
            "\n",
            "t:  21%|██        | 70/335 [00:07<00:55,  4.75it/s, now=None]\u001b[A\u001b[A\n",
            "\n",
            "t:  21%|██        | 71/335 [00:07<01:03,  4.13it/s, now=None]\u001b[A\u001b[A\n",
            "\n",
            "t:  21%|██▏       | 72/335 [00:07<01:20,  3.26it/s, now=None]\u001b[A\u001b[A\n",
            "\n",
            "t:  22%|██▏       | 73/335 [00:08<01:11,  3.65it/s, now=None]\u001b[A\u001b[A\n",
            "\n",
            "t:  22%|██▏       | 74/335 [00:08<01:27,  3.00it/s, now=None]\u001b[A\u001b[A\n",
            "\n",
            "t:  22%|██▏       | 75/335 [00:08<01:21,  3.17it/s, now=None]\u001b[A\u001b[A\n",
            "\n",
            "t:  23%|██▎       | 76/335 [00:09<01:15,  3.44it/s, now=None]\u001b[A\u001b[A\n",
            "\n",
            "t:  23%|██▎       | 77/335 [00:09<01:13,  3.51it/s, now=None]\u001b[A\u001b[A\n",
            "\n",
            "t:  23%|██▎       | 78/335 [00:09<01:33,  2.76it/s, now=None]\u001b[A\u001b[A\n",
            "\n",
            "t:  24%|██▎       | 79/335 [00:10<01:29,  2.86it/s, now=None]\u001b[A\u001b[A\n",
            "\n",
            "t:  24%|██▍       | 80/335 [00:10<01:20,  3.15it/s, now=None]\u001b[A\u001b[A\n",
            "\n",
            "t:  24%|██▍       | 81/335 [00:10<01:23,  3.03it/s, now=None]\u001b[A\u001b[A\n",
            "\n",
            "t:  24%|██▍       | 82/335 [00:11<01:18,  3.21it/s, now=None]\u001b[A\u001b[A\n",
            "\n",
            "t:  25%|██▍       | 83/335 [00:11<01:21,  3.07it/s, now=None]\u001b[A\u001b[A\n",
            "\n",
            "t:  25%|██▌       | 84/335 [00:11<01:12,  3.47it/s, now=None]\u001b[A\u001b[A\n",
            "\n",
            "t:  25%|██▌       | 85/335 [00:11<01:04,  3.85it/s, now=None]\u001b[A\u001b[A\n",
            "\n",
            "t:  26%|██▌       | 86/335 [00:12<01:13,  3.39it/s, now=None]\u001b[A\u001b[A\n",
            "\n",
            "t:  26%|██▌       | 87/335 [00:12<01:09,  3.58it/s, now=None]\u001b[A\u001b[A\n",
            "\n",
            "t:  26%|██▋       | 88/335 [00:12<01:13,  3.37it/s, now=None]\u001b[A\u001b[A\n",
            "\n",
            "t:  27%|██▋       | 89/335 [00:13<01:11,  3.43it/s, now=None]\u001b[A\u001b[A\n",
            "\n",
            "t:  27%|██▋       | 90/335 [00:13<01:15,  3.24it/s, now=None]\u001b[A\u001b[A\n",
            "\n",
            "t:  27%|██▋       | 91/335 [00:13<01:10,  3.48it/s, now=None]\u001b[A\u001b[A\n",
            "\n",
            "t:  27%|██▋       | 92/335 [00:14<01:28,  2.76it/s, now=None]\u001b[A\u001b[A\n",
            "\n",
            "t:  28%|██▊       | 93/335 [00:14<01:14,  3.23it/s, now=None]\u001b[A\u001b[A\n",
            "\n",
            "t:  28%|██▊       | 94/335 [00:14<01:08,  3.53it/s, now=None]\u001b[A\u001b[A\n",
            "\n",
            "t:  28%|██▊       | 95/335 [00:15<01:15,  3.18it/s, now=None]\u001b[A\u001b[A\n",
            "\n",
            "t:  29%|██▊       | 96/335 [00:15<01:11,  3.35it/s, now=None]\u001b[A\u001b[A\n",
            "\n",
            "t:  29%|██▉       | 97/335 [00:15<00:59,  3.97it/s, now=None]\u001b[A\u001b[A\n",
            "\n",
            "t:  29%|██▉       | 98/335 [00:15<00:55,  4.30it/s, now=None]\u001b[A\u001b[A\n",
            "\n",
            "t:  30%|██▉       | 99/335 [00:15<00:51,  4.56it/s, now=None]\u001b[A\u001b[A\n",
            "\n",
            "t:  30%|██▉       | 100/335 [00:15<00:43,  5.41it/s, now=None]\u001b[A\u001b[A\n",
            "\n",
            "t:  30%|███       | 102/335 [00:16<00:39,  5.87it/s, now=None]\u001b[A\u001b[A\n",
            "\n",
            "t:  31%|███       | 103/335 [00:16<00:38,  6.09it/s, now=None]\u001b[A\u001b[A\n",
            "\n",
            "t:  31%|███       | 104/335 [00:16<00:34,  6.63it/s, now=None]\u001b[A\u001b[A\n",
            "\n",
            "t:  31%|███▏      | 105/335 [00:16<00:34,  6.64it/s, now=None]\u001b[A\u001b[A\n",
            "\n",
            "t:  32%|███▏      | 106/335 [00:16<00:41,  5.58it/s, now=None]\u001b[A\u001b[A\n",
            "\n",
            "t:  32%|███▏      | 107/335 [00:17<00:44,  5.10it/s, now=None]\u001b[A\u001b[A\n",
            "\n",
            "t:  32%|███▏      | 108/335 [00:17<00:39,  5.71it/s, now=None]\u001b[A\u001b[A\n",
            "\n",
            "t:  33%|███▎      | 109/335 [00:17<00:55,  4.07it/s, now=None]\u001b[A\u001b[A\n",
            "\n",
            "t:  33%|███▎      | 110/335 [00:17<00:51,  4.38it/s, now=None]\u001b[A\u001b[A\n",
            "\n",
            "t:  33%|███▎      | 111/335 [00:17<00:45,  4.93it/s, now=None]\u001b[A\u001b[A\n",
            "\n",
            "t:  33%|███▎      | 112/335 [00:18<00:44,  4.97it/s, now=None]\u001b[A\u001b[A\n",
            "\n",
            "t:  34%|███▎      | 113/335 [00:18<00:41,  5.37it/s, now=None]\u001b[A\u001b[A\n",
            "\n",
            "t:  34%|███▍      | 114/335 [00:18<00:36,  5.98it/s, now=None]\u001b[A\u001b[A\n",
            "\n",
            "t:  34%|███▍      | 115/335 [00:18<00:38,  5.67it/s, now=None]\u001b[A\u001b[A\n",
            "\n",
            "t:  35%|███▍      | 117/335 [00:18<00:33,  6.51it/s, now=None]\u001b[A\u001b[A\n",
            "\n",
            "t:  36%|███▌      | 119/335 [00:19<00:26,  8.12it/s, now=None]\u001b[A\u001b[A\n",
            "\n",
            "t:  36%|███▌      | 120/335 [00:19<00:35,  6.08it/s, now=None]\u001b[A\u001b[A\n",
            "\n",
            "t:  36%|███▌      | 121/335 [00:19<00:32,  6.65it/s, now=None]\u001b[A\u001b[A\n",
            "\n",
            "t:  36%|███▋      | 122/335 [00:19<00:35,  5.96it/s, now=None]\u001b[A\u001b[A\n",
            "\n",
            "t:  37%|███▋      | 123/335 [00:19<00:36,  5.87it/s, now=None]\u001b[A\u001b[A\n",
            "\n",
            "t:  37%|███▋      | 124/335 [00:20<00:37,  5.57it/s, now=None]\u001b[A\u001b[A\n",
            "\n",
            "t:  37%|███▋      | 125/335 [00:20<00:40,  5.21it/s, now=None]\u001b[A\u001b[A\n",
            "\n",
            "t:  38%|███▊      | 126/335 [00:20<00:35,  5.81it/s, now=None]\u001b[A\u001b[A\n",
            "\n",
            "t:  38%|███▊      | 127/335 [00:20<00:31,  6.52it/s, now=None]\u001b[A\u001b[A\n",
            "\n",
            "t:  38%|███▊      | 128/335 [00:20<00:32,  6.32it/s, now=None]\u001b[A\u001b[A\n",
            "\n",
            "t:  39%|███▊      | 129/335 [00:20<00:37,  5.43it/s, now=None]\u001b[A\u001b[A\n",
            "\n",
            "t:  39%|███▉      | 130/335 [00:21<00:40,  5.09it/s, now=None]\u001b[A\u001b[A\n",
            "\n",
            "t:  39%|███▉      | 131/335 [00:21<00:37,  5.41it/s, now=None]\u001b[A\u001b[A\n",
            "\n",
            "t:  39%|███▉      | 132/335 [00:21<00:33,  6.09it/s, now=None]\u001b[A\u001b[A\n",
            "\n",
            "t:  40%|███▉      | 133/335 [00:21<00:35,  5.62it/s, now=None]\u001b[A\u001b[A\n",
            "\n",
            "t:  40%|████      | 134/335 [00:21<00:31,  6.40it/s, now=None]\u001b[A\u001b[A\n",
            "\n",
            "t:  40%|████      | 135/335 [00:21<00:31,  6.27it/s, now=None]\u001b[A\u001b[A\n",
            "\n",
            "t:  41%|████      | 136/335 [00:22<00:37,  5.31it/s, now=None]\u001b[A\u001b[A\n",
            "\n",
            "t:  41%|████      | 137/335 [00:22<00:33,  5.97it/s, now=None]\u001b[A\u001b[A\n",
            "\n",
            "t:  41%|████      | 138/335 [00:22<00:29,  6.58it/s, now=None]\u001b[A\u001b[A\n",
            "\n",
            "t:  42%|████▏     | 140/335 [00:22<00:29,  6.71it/s, now=None]\u001b[A\u001b[A\n",
            "\n",
            "t:  42%|████▏     | 141/335 [00:22<00:27,  7.02it/s, now=None]\u001b[A\u001b[A\n",
            "\n",
            "t:  42%|████▏     | 142/335 [00:23<00:30,  6.29it/s, now=None]\u001b[A\u001b[A\n",
            "\n",
            "t:  43%|████▎     | 143/335 [00:23<00:28,  6.67it/s, now=None]\u001b[A\u001b[A\n",
            "\n",
            "t:  43%|████▎     | 144/335 [00:23<00:26,  7.31it/s, now=None]\u001b[A\u001b[A\n",
            "\n",
            "t:  43%|████▎     | 145/335 [00:23<00:28,  6.71it/s, now=None]\u001b[A\u001b[A\n",
            "\n",
            "t:  44%|████▎     | 146/335 [00:23<00:27,  6.87it/s, now=None]\u001b[A\u001b[A\n",
            "\n",
            "t:  44%|████▍     | 147/335 [00:23<00:26,  7.09it/s, now=None]\u001b[A\u001b[A\n",
            "\n",
            "t:  44%|████▍     | 148/335 [00:23<00:28,  6.45it/s, now=None]\u001b[A\u001b[A\n",
            "\n",
            "t:  44%|████▍     | 149/335 [00:24<00:32,  5.75it/s, now=None]\u001b[A\u001b[A\n",
            "\n",
            "t:  45%|████▍     | 150/335 [00:24<00:29,  6.31it/s, now=None]\u001b[A\u001b[A\n",
            "\n",
            "t:  45%|████▌     | 151/335 [00:24<00:26,  6.89it/s, now=None]\u001b[A\u001b[A\n",
            "\n",
            "t:  45%|████▌     | 152/335 [00:24<00:28,  6.36it/s, now=None]\u001b[A\u001b[A\n",
            "\n",
            "t:  46%|████▌     | 153/335 [00:24<00:25,  7.03it/s, now=None]\u001b[A\u001b[A\n",
            "\n",
            "t:  46%|████▌     | 154/335 [00:24<00:24,  7.45it/s, now=None]\u001b[A\u001b[A\n",
            "\n",
            "t:  46%|████▋     | 155/335 [00:24<00:27,  6.44it/s, now=None]\u001b[A\u001b[A\n",
            "\n",
            "t:  47%|████▋     | 156/335 [00:25<00:27,  6.50it/s, now=None]\u001b[A\u001b[A\n",
            "\n",
            "t:  47%|████▋     | 157/335 [00:25<00:30,  5.76it/s, now=None]\u001b[A\u001b[A\n",
            "\n",
            "t:  47%|████▋     | 158/335 [00:25<00:30,  5.89it/s, now=None]\u001b[A\u001b[A\n",
            "\n",
            "t:  47%|████▋     | 159/335 [00:25<00:29,  6.03it/s, now=None]\u001b[A\u001b[A\n",
            "\n",
            "t:  48%|████▊     | 160/335 [00:26<00:54,  3.19it/s, now=None]\u001b[A\u001b[A\n",
            "\n",
            "t:  48%|████▊     | 161/335 [00:26<00:49,  3.53it/s, now=None]\u001b[A\u001b[A\n",
            "\n",
            "t:  48%|████▊     | 162/335 [00:26<00:46,  3.71it/s, now=None]\u001b[A\u001b[A\n",
            "\n",
            "t:  49%|████▊     | 163/335 [00:27<01:00,  2.87it/s, now=None]\u001b[A\u001b[A\n",
            "\n",
            "t:  49%|████▉     | 164/335 [00:27<00:52,  3.25it/s, now=None]\u001b[A\u001b[A\n",
            "\n",
            "t:  49%|████▉     | 165/335 [00:27<00:44,  3.79it/s, now=None]\u001b[A\u001b[A\n",
            "\n",
            "t:  50%|████▉     | 166/335 [00:27<00:42,  4.00it/s, now=None]\u001b[A\u001b[A\n",
            "\n",
            "t:  50%|████▉     | 167/335 [00:28<00:54,  3.11it/s, now=None]\u001b[A\u001b[A\n",
            "\n",
            "t:  50%|█████     | 168/335 [00:28<00:49,  3.37it/s, now=None]\u001b[A\u001b[A\n",
            "\n",
            "t:  50%|█████     | 169/335 [00:28<00:44,  3.76it/s, now=None]\u001b[A\u001b[A\n",
            "\n",
            "t:  51%|█████     | 170/335 [00:29<01:06,  2.50it/s, now=None]\u001b[A\u001b[A\n",
            "\n",
            "t:  51%|█████     | 171/335 [00:29<00:57,  2.87it/s, now=None]\u001b[A\u001b[A\n",
            "\n",
            "t:  51%|█████▏    | 172/335 [00:30<00:52,  3.08it/s, now=None]\u001b[A\u001b[A\n",
            "\n",
            "t:  52%|█████▏    | 173/335 [00:30<00:55,  2.91it/s, now=None]\u001b[A\u001b[A\n",
            "\n",
            "t:  52%|█████▏    | 174/335 [00:30<01:05,  2.44it/s, now=None]\u001b[A\u001b[A\n",
            "\n",
            "t:  52%|█████▏    | 175/335 [00:31<00:58,  2.74it/s, now=None]\u001b[A\u001b[A\n",
            "\n",
            "t:  53%|█████▎    | 176/335 [00:31<00:56,  2.83it/s, now=None]\u001b[A\u001b[A\n",
            "\n",
            "t:  53%|█████▎    | 177/335 [00:31<00:57,  2.74it/s, now=None]\u001b[A\u001b[A\n",
            "\n",
            "t:  53%|█████▎    | 178/335 [00:32<00:54,  2.88it/s, now=None]\u001b[A\u001b[A\n",
            "\n",
            "t:  53%|█████▎    | 179/335 [00:32<01:04,  2.43it/s, now=None]\u001b[A\u001b[A\n",
            "\n",
            "t:  54%|█████▎    | 180/335 [00:33<00:53,  2.88it/s, now=None]\u001b[A\u001b[A\n",
            "\n",
            "t:  54%|█████▍    | 181/335 [00:33<00:53,  2.87it/s, now=None]\u001b[A\u001b[A\n",
            "\n",
            "t:  54%|█████▍    | 182/335 [00:33<00:46,  3.31it/s, now=None]\u001b[A\u001b[A\n",
            "\n",
            "t:  55%|█████▍    | 183/335 [00:34<00:58,  2.61it/s, now=None]\u001b[A\u001b[A\n",
            "\n",
            "t:  55%|█████▍    | 184/335 [00:34<00:49,  3.03it/s, now=None]\u001b[A\u001b[A\n",
            "\n",
            "t:  55%|█████▌    | 185/335 [00:34<00:45,  3.31it/s, now=None]\u001b[A\u001b[A\n",
            "\n",
            "t:  56%|█████▌    | 186/335 [00:34<00:39,  3.76it/s, now=None]\u001b[A\u001b[A\n",
            "\n",
            "t:  56%|█████▌    | 187/335 [00:34<00:33,  4.45it/s, now=None]\u001b[A\u001b[A\n",
            "\n",
            "t:  56%|█████▌    | 188/335 [00:35<00:30,  4.89it/s, now=None]\u001b[A\u001b[A\n",
            "\n",
            "t:  56%|█████▋    | 189/335 [00:35<00:32,  4.50it/s, now=None]\u001b[A\u001b[A\n",
            "\n",
            "t:  57%|█████▋    | 190/335 [00:35<00:34,  4.20it/s, now=None]\u001b[A\u001b[A\n",
            "\n",
            "t:  57%|█████▋    | 191/335 [00:35<00:30,  4.78it/s, now=None]\u001b[A\u001b[A\n",
            "\n",
            "t:  57%|█████▋    | 192/335 [00:35<00:27,  5.15it/s, now=None]\u001b[A\u001b[A\n",
            "\n",
            "t:  58%|█████▊    | 193/335 [00:36<00:29,  4.82it/s, now=None]\u001b[A\u001b[A\n",
            "\n",
            "t:  58%|█████▊    | 194/335 [00:36<00:25,  5.48it/s, now=None]\u001b[A\u001b[A\n",
            "\n",
            "t:  58%|█████▊    | 195/335 [00:36<00:29,  4.77it/s, now=None]\u001b[A\u001b[A\n",
            "\n",
            "t:  59%|█████▊    | 196/335 [00:36<00:27,  5.12it/s, now=None]\u001b[A\u001b[A\n",
            "\n",
            "t:  59%|█████▉    | 197/335 [00:37<00:32,  4.23it/s, now=None]\u001b[A\u001b[A\n",
            "\n",
            "t:  59%|█████▉    | 198/335 [00:37<00:27,  4.90it/s, now=None]\u001b[A\u001b[A\n",
            "\n",
            "t:  59%|█████▉    | 199/335 [00:37<00:27,  5.03it/s, now=None]\u001b[A\u001b[A\n",
            "\n",
            "t:  60%|█████▉    | 200/335 [00:37<00:34,  3.96it/s, now=None]\u001b[A\u001b[A\n",
            "\n",
            "t:  60%|██████    | 201/335 [00:37<00:31,  4.22it/s, now=None]\u001b[A\u001b[A\n",
            "\n",
            "t:  60%|██████    | 202/335 [00:38<00:29,  4.48it/s, now=None]\u001b[A\u001b[A\n",
            "\n",
            "t:  61%|██████    | 203/335 [00:38<00:30,  4.31it/s, now=None]\u001b[A\u001b[A\n",
            "\n",
            "t:  61%|██████    | 204/335 [00:38<00:26,  5.02it/s, now=None]\u001b[A\u001b[A\n",
            "\n",
            "t:  61%|██████    | 205/335 [00:38<00:33,  3.90it/s, now=None]\u001b[A\u001b[A\n",
            "\n",
            "t:  61%|██████▏   | 206/335 [00:38<00:27,  4.68it/s, now=None]\u001b[A\u001b[A\n",
            "\n",
            "t:  62%|██████▏   | 207/335 [00:39<00:25,  5.04it/s, now=None]\u001b[A\u001b[A\n",
            "\n",
            "t:  62%|██████▏   | 208/335 [00:39<00:27,  4.67it/s, now=None]\u001b[A\u001b[A\n",
            "\n",
            "t:  62%|██████▏   | 209/335 [00:39<00:27,  4.61it/s, now=None]\u001b[A\u001b[A\n",
            "\n",
            "t:  63%|██████▎   | 210/335 [00:39<00:29,  4.26it/s, now=None]\u001b[A\u001b[A\n",
            "\n",
            "t:  63%|██████▎   | 211/335 [00:40<00:28,  4.38it/s, now=None]\u001b[A\u001b[A\n",
            "\n",
            "t:  63%|██████▎   | 212/335 [00:40<00:23,  5.21it/s, now=None]\u001b[A\u001b[A\n",
            "\n",
            "t:  64%|██████▎   | 213/335 [00:40<00:23,  5.13it/s, now=None]\u001b[A\u001b[A\n",
            "\n",
            "t:  64%|██████▍   | 214/335 [00:40<00:31,  3.83it/s, now=None]\u001b[A\u001b[A\n",
            "\n",
            "t:  64%|██████▍   | 215/335 [00:40<00:26,  4.45it/s, now=None]\u001b[A\u001b[A\n",
            "\n",
            "t:  64%|██████▍   | 216/335 [00:41<00:24,  4.78it/s, now=None]\u001b[A\u001b[A\n",
            "\n",
            "t:  65%|██████▍   | 217/335 [00:41<00:22,  5.25it/s, now=None]\u001b[A\u001b[A\n",
            "\n",
            "t:  65%|██████▌   | 218/335 [00:41<00:26,  4.46it/s, now=None]\u001b[A\u001b[A\n",
            "\n",
            "t:  65%|██████▌   | 219/335 [00:41<00:22,  5.11it/s, now=None]\u001b[A\u001b[A\n",
            "\n",
            "t:  66%|██████▌   | 220/335 [00:41<00:21,  5.33it/s, now=None]\u001b[A\u001b[A\n",
            "\n",
            "t:  66%|██████▌   | 221/335 [00:42<00:20,  5.43it/s, now=None]\u001b[A\u001b[A\n",
            "\n",
            "t:  66%|██████▋   | 222/335 [00:42<00:18,  6.05it/s, now=None]\u001b[A\u001b[A\n",
            "\n",
            "t:  67%|██████▋   | 223/335 [00:42<00:17,  6.36it/s, now=None]\u001b[A\u001b[A\n",
            "\n",
            "t:  67%|██████▋   | 224/335 [00:42<00:17,  6.44it/s, now=None]\u001b[A\u001b[A\n",
            "\n",
            "t:  67%|██████▋   | 225/335 [00:42<00:18,  5.83it/s, now=None]\u001b[A\u001b[A\n",
            "\n",
            "t:  67%|██████▋   | 226/335 [00:42<00:18,  6.03it/s, now=None]\u001b[A\u001b[A\n",
            "\n",
            "t:  68%|██████▊   | 227/335 [00:43<00:19,  5.61it/s, now=None]\u001b[A\u001b[A\n",
            "\n",
            "t:  68%|██████▊   | 228/335 [00:43<00:18,  5.88it/s, now=None]\u001b[A\u001b[A\n",
            "\n",
            "t:  68%|██████▊   | 229/335 [00:43<00:16,  6.34it/s, now=None]\u001b[A\u001b[A\n",
            "\n",
            "t:  69%|██████▊   | 230/335 [00:43<00:18,  5.58it/s, now=None]\u001b[A\u001b[A\n",
            "\n",
            "t:  69%|██████▉   | 231/335 [00:43<00:18,  5.49it/s, now=None]\u001b[A\u001b[A\n",
            "\n",
            "t:  69%|██████▉   | 232/335 [00:43<00:18,  5.46it/s, now=None]\u001b[A\u001b[A\n",
            "\n",
            "t:  70%|██████▉   | 233/335 [00:44<00:18,  5.64it/s, now=None]\u001b[A\u001b[A\n",
            "\n",
            "t:  70%|██████▉   | 234/335 [00:44<00:16,  6.10it/s, now=None]\u001b[A\u001b[A\n",
            "\n",
            "t:  70%|███████   | 235/335 [00:44<00:17,  5.73it/s, now=None]\u001b[A\u001b[A\n",
            "\n",
            "t:  70%|███████   | 236/335 [00:44<00:17,  5.63it/s, now=None]\u001b[A\u001b[A\n",
            "\n",
            "t:  71%|███████   | 237/335 [00:44<00:21,  4.49it/s, now=None]\u001b[A\u001b[A\n",
            "\n",
            "t:  71%|███████   | 238/335 [00:45<00:24,  3.97it/s, now=None]\u001b[A\u001b[A\n",
            "\n",
            "t:  71%|███████▏  | 239/335 [00:45<00:26,  3.69it/s, now=None]\u001b[A\u001b[A\n",
            "\n",
            "t:  72%|███████▏  | 240/335 [00:45<00:26,  3.57it/s, now=None]\u001b[A\u001b[A\n",
            "\n",
            "t:  72%|███████▏  | 241/335 [00:46<00:28,  3.32it/s, now=None]\u001b[A\u001b[A\n",
            "\n",
            "t:  72%|███████▏  | 242/335 [00:46<00:27,  3.33it/s, now=None]\u001b[A\u001b[A\n",
            "\n",
            "t:  73%|███████▎  | 243/335 [00:46<00:27,  3.34it/s, now=None]\u001b[A\u001b[A\n",
            "\n",
            "t:  73%|███████▎  | 244/335 [00:47<00:28,  3.15it/s, now=None]\u001b[A\u001b[A\n",
            "\n",
            "t:  73%|███████▎  | 245/335 [00:47<00:30,  2.93it/s, now=None]\u001b[A\u001b[A\n",
            "\n",
            "t:  73%|███████▎  | 246/335 [00:47<00:26,  3.31it/s, now=None]\u001b[A\u001b[A\n",
            "\n",
            "t:  74%|███████▎  | 247/335 [00:48<00:26,  3.34it/s, now=None]\u001b[A\u001b[A\n",
            "\n",
            "t:  74%|███████▍  | 248/335 [00:48<00:22,  3.95it/s, now=None]\u001b[A\u001b[A\n",
            "\n",
            "t:  74%|███████▍  | 249/335 [00:48<00:22,  3.85it/s, now=None]\u001b[A\u001b[A\n",
            "\n",
            "t:  75%|███████▍  | 250/335 [00:48<00:24,  3.48it/s, now=None]\u001b[A\u001b[A\n",
            "\n",
            "t:  75%|███████▍  | 251/335 [00:49<00:23,  3.61it/s, now=None]\u001b[A\u001b[A\n",
            "\n",
            "t:  75%|███████▌  | 252/335 [00:49<00:22,  3.75it/s, now=None]\u001b[A\u001b[A\n",
            "\n",
            "t:  76%|███████▌  | 253/335 [00:49<00:21,  3.74it/s, now=None]\u001b[A\u001b[A\n",
            "\n",
            "t:  76%|███████▌  | 254/335 [00:50<00:24,  3.32it/s, now=None]\u001b[A\u001b[A\n",
            "\n",
            "t:  76%|███████▌  | 255/335 [00:50<00:22,  3.63it/s, now=None]\u001b[A\u001b[A\n",
            "\n",
            "t:  76%|███████▋  | 256/335 [00:50<00:21,  3.71it/s, now=None]\u001b[A\u001b[A\n",
            "\n",
            "t:  77%|███████▋  | 257/335 [00:50<00:21,  3.67it/s, now=None]\u001b[A\u001b[A\n",
            "\n",
            "t:  77%|███████▋  | 258/335 [00:50<00:19,  3.96it/s, now=None]\u001b[A\u001b[A\n",
            "\n",
            "t:  77%|███████▋  | 259/335 [00:51<00:18,  4.08it/s, now=None]\u001b[A\u001b[A\n",
            "\n",
            "t:  78%|███████▊  | 260/335 [00:51<00:17,  4.29it/s, now=None]\u001b[A\u001b[A\n",
            "\n",
            "t:  78%|███████▊  | 261/335 [00:52<00:26,  2.83it/s, now=None]\u001b[A\u001b[A\n",
            "\n",
            "t:  78%|███████▊  | 262/335 [00:52<00:22,  3.30it/s, now=None]\u001b[A\u001b[A\n",
            "\n",
            "t:  79%|███████▊  | 263/335 [00:52<00:18,  3.83it/s, now=None]\u001b[A\u001b[A\n",
            "\n",
            "t:  79%|███████▉  | 264/335 [00:52<00:20,  3.41it/s, now=None]\u001b[A\u001b[A\n",
            "\n",
            "t:  79%|███████▉  | 265/335 [00:53<00:20,  3.49it/s, now=None]\u001b[A\u001b[A\n",
            "\n",
            "t:  79%|███████▉  | 266/335 [00:53<00:18,  3.79it/s, now=None]\u001b[A\u001b[A\n",
            "\n",
            "t:  80%|███████▉  | 267/335 [00:53<00:23,  2.92it/s, now=None]\u001b[A\u001b[A\n",
            "\n",
            "t:  80%|████████  | 268/335 [00:53<00:20,  3.34it/s, now=None]\u001b[A\u001b[A\n",
            "\n",
            "t:  80%|████████  | 269/335 [00:54<00:16,  4.05it/s, now=None]\u001b[A\u001b[A\n",
            "\n",
            "t:  81%|████████  | 270/335 [00:54<00:14,  4.43it/s, now=None]\u001b[A\u001b[A\n",
            "\n",
            "t:  81%|████████  | 271/335 [00:54<00:12,  5.00it/s, now=None]\u001b[A\u001b[A\n",
            "\n",
            "t:  81%|████████  | 272/335 [00:54<00:11,  5.33it/s, now=None]\u001b[A\u001b[A\n",
            "\n",
            "t:  81%|████████▏ | 273/335 [00:54<00:12,  5.03it/s, now=None]\u001b[A\u001b[A\n",
            "\n",
            "t:  82%|████████▏ | 274/335 [00:54<00:12,  4.94it/s, now=None]\u001b[A\u001b[A\n",
            "\n",
            "t:  82%|████████▏ | 275/335 [00:55<00:12,  4.79it/s, now=None]\u001b[A\u001b[A\n",
            "\n",
            "t:  82%|████████▏ | 276/335 [00:55<00:11,  5.34it/s, now=None]\u001b[A\u001b[A\n",
            "\n",
            "t:  83%|████████▎ | 277/335 [00:55<00:09,  5.85it/s, now=None]\u001b[A\u001b[A\n",
            "\n",
            "t:  83%|████████▎ | 278/335 [00:55<00:12,  4.67it/s, now=None]\u001b[A\u001b[A\n",
            "\n",
            "t:  83%|████████▎ | 279/335 [00:55<00:11,  4.77it/s, now=None]\u001b[A\u001b[A\n",
            "\n",
            "t:  84%|████████▎ | 280/335 [00:56<00:11,  5.00it/s, now=None]\u001b[A\u001b[A\n",
            "\n",
            "t:  84%|████████▍ | 281/335 [00:56<00:12,  4.46it/s, now=None]\u001b[A\u001b[A\n",
            "\n",
            "t:  84%|████████▍ | 282/335 [00:56<00:11,  4.71it/s, now=None]\u001b[A\u001b[A\n",
            "\n",
            "t:  84%|████████▍ | 283/335 [00:56<00:11,  4.45it/s, now=None]\u001b[A\u001b[A\n",
            "\n",
            "t:  85%|████████▍ | 284/335 [00:57<00:11,  4.62it/s, now=None]\u001b[A\u001b[A\n",
            "\n",
            "t:  85%|████████▌ | 285/335 [00:57<00:09,  5.04it/s, now=None]\u001b[A\u001b[A\n",
            "\n",
            "t:  85%|████████▌ | 286/335 [00:57<00:10,  4.78it/s, now=None]\u001b[A\u001b[A\n",
            "\n",
            "t:  86%|████████▌ | 287/335 [00:57<00:09,  5.28it/s, now=None]\u001b[A\u001b[A\n",
            "\n",
            "t:  86%|████████▌ | 288/335 [00:57<00:08,  5.57it/s, now=None]\u001b[A\u001b[A\n",
            "\n",
            "t:  86%|████████▋ | 289/335 [00:57<00:08,  5.38it/s, now=None]\u001b[A\u001b[A\n",
            "\n",
            "t:  87%|████████▋ | 290/335 [00:58<00:08,  5.05it/s, now=None]\u001b[A\u001b[A\n",
            "\n",
            "t:  87%|████████▋ | 291/335 [00:58<00:07,  5.54it/s, now=None]\u001b[A\u001b[A\n",
            "\n",
            "t:  87%|████████▋ | 293/335 [00:58<00:07,  5.78it/s, now=None]\u001b[A\u001b[A\n",
            "\n",
            "t:  88%|████████▊ | 294/335 [00:58<00:07,  5.69it/s, now=None]\u001b[A\u001b[A\n",
            "\n",
            "t:  88%|████████▊ | 295/335 [00:59<00:07,  5.55it/s, now=None]\u001b[A\u001b[A\n",
            "\n",
            "t:  88%|████████▊ | 296/335 [00:59<00:07,  5.49it/s, now=None]\u001b[A\u001b[A\n",
            "\n",
            "t:  89%|████████▊ | 297/335 [00:59<00:06,  5.72it/s, now=None]\u001b[A\u001b[A\n",
            "\n",
            "t:  89%|████████▉ | 298/335 [00:59<00:06,  6.10it/s, now=None]\u001b[A\u001b[A\n",
            "\n",
            "t:  89%|████████▉ | 299/335 [00:59<00:06,  5.46it/s, now=None]\u001b[A\u001b[A\n",
            "\n",
            "t:  90%|████████▉ | 300/335 [00:59<00:06,  5.49it/s, now=None]\u001b[A\u001b[A\n",
            "\n",
            "t:  90%|████████▉ | 301/335 [01:00<00:05,  5.68it/s, now=None]\u001b[A\u001b[A\n",
            "\n",
            "t:  90%|█████████ | 302/335 [01:00<00:06,  5.46it/s, now=None]\u001b[A\u001b[A\n",
            "\n",
            "t:  90%|█████████ | 303/335 [01:00<00:05,  5.94it/s, now=None]\u001b[A\u001b[A\n",
            "\n",
            "t:  91%|█████████ | 304/335 [01:00<00:06,  5.15it/s, now=None]\u001b[A\u001b[A\n",
            "\n",
            "t:  91%|█████████ | 305/335 [01:00<00:05,  5.17it/s, now=None]\u001b[A\u001b[A\n",
            "\n",
            "t:  91%|█████████▏| 306/335 [01:01<00:05,  5.42it/s, now=None]\u001b[A\u001b[A\n",
            "\n",
            "t:  92%|█████████▏| 307/335 [01:01<00:05,  5.52it/s, now=None]\u001b[A\u001b[A\n",
            "\n",
            "t:  92%|█████████▏| 308/335 [01:01<00:04,  5.89it/s, now=None]\u001b[A\u001b[A\n",
            "\n",
            "t:  92%|█████████▏| 309/335 [01:01<00:04,  5.68it/s, now=None]\u001b[A\u001b[A\n",
            "\n",
            "t:  93%|█████████▎| 310/335 [01:01<00:04,  5.46it/s, now=None]\u001b[A\u001b[A\n",
            "\n",
            "t:  93%|█████████▎| 311/335 [01:01<00:04,  5.53it/s, now=None]\u001b[A\u001b[A\n",
            "\n",
            "t:  93%|█████████▎| 312/335 [01:02<00:04,  5.33it/s, now=None]\u001b[A\u001b[A\n",
            "\n",
            "t:  93%|█████████▎| 313/335 [01:02<00:03,  5.54it/s, now=None]\u001b[A\u001b[A\n",
            "\n",
            "t:  94%|█████████▎| 314/335 [01:02<00:04,  5.18it/s, now=None]\u001b[A\u001b[A\n",
            "\n",
            "t:  94%|█████████▍| 315/335 [01:02<00:03,  5.09it/s, now=None]\u001b[A\u001b[A\n",
            "\n",
            "t:  94%|█████████▍| 316/335 [01:02<00:03,  5.66it/s, now=None]\u001b[A\u001b[A\n",
            "\n",
            "t:  95%|█████████▍| 317/335 [01:03<00:03,  4.75it/s, now=None]\u001b[A\u001b[A\n",
            "\n",
            "t:  95%|█████████▍| 318/335 [01:03<00:03,  5.25it/s, now=None]\u001b[A\u001b[A\n",
            "\n",
            "t:  95%|█████████▌| 319/335 [01:03<00:02,  5.73it/s, now=None]\u001b[A\u001b[A\n",
            "\n",
            "t:  96%|█████████▌| 320/335 [01:03<00:02,  5.04it/s, now=None]\u001b[A\u001b[A\n",
            "\n",
            "t:  96%|█████████▌| 321/335 [01:03<00:03,  4.47it/s, now=None]\u001b[A\u001b[A\n",
            "\n",
            "t:  96%|█████████▌| 322/335 [01:04<00:02,  4.65it/s, now=None]\u001b[A\u001b[A\n",
            "\n",
            "t:  96%|█████████▋| 323/335 [01:04<00:02,  4.48it/s, now=None]\u001b[A\u001b[A\n",
            "\n",
            "t:  97%|█████████▋| 324/335 [01:04<00:03,  3.66it/s, now=None]\u001b[A\u001b[A\n",
            "\n",
            "t:  97%|█████████▋| 325/335 [01:05<00:02,  3.63it/s, now=None]\u001b[A\u001b[A\n",
            "\n",
            "t:  97%|█████████▋| 326/335 [01:05<00:02,  3.53it/s, now=None]\u001b[A\u001b[A\n",
            "\n",
            "t:  98%|█████████▊| 327/335 [01:05<00:02,  3.01it/s, now=None]\u001b[A\u001b[A\n",
            "\n",
            "t:  98%|█████████▊| 328/335 [01:06<00:02,  3.44it/s, now=None]\u001b[A\u001b[A\n",
            "\n",
            "t:  98%|█████████▊| 329/335 [01:06<00:01,  4.10it/s, now=None]\u001b[A\u001b[A\n",
            "\n",
            "t:  99%|█████████▊| 330/335 [01:06<00:01,  2.89it/s, now=None]\u001b[A\u001b[A\n",
            "\n",
            "t:  99%|█████████▉| 331/335 [01:06<00:01,  3.22it/s, now=None]\u001b[A\u001b[A\n",
            "\n",
            "t:  99%|█████████▉| 332/335 [01:07<00:00,  3.08it/s, now=None]\u001b[A\u001b[A\n",
            "\n",
            "t:  99%|█████████▉| 333/335 [01:07<00:00,  3.49it/s, now=None]\u001b[A\u001b[A\n",
            "\n",
            "t: 100%|█████████▉| 334/335 [01:07<00:00,  3.00it/s, now=None]\u001b[A\u001b[A\n",
            "\n",
            "t: 100%|██████████| 335/335 [01:08<00:00,  3.45it/s, now=None]\u001b[A\u001b[A\n",
            "\n",
            "                                                              \u001b[A\u001b[A\n",
            "\n",
            "t:   4%|▍         | 15/335 [1:18:25<00:31, 10.02it/s, now=None]\n",
            "\n",
            "t:   4%|▍         | 15/335 [1:18:25<00:31, 10.02it/s, now=None]"
          ]
        },
        {
          "output_type": "stream",
          "name": "stdout",
          "text": [
            "Moviepy - Done !\n",
            "Moviepy - video ready final_output.mp4\n"
          ]
        }
      ]
    },
    {
      "cell_type": "code",
      "source": [
        "from google.colab import files\n",
        "files.download(\"final_output.mp4\")"
      ],
      "metadata": {
        "colab": {
          "base_uri": "https://localhost:8080/",
          "height": 17
        },
        "id": "P-Dw7UXuh6FG",
        "outputId": "0556e8e1-2e13-45b0-c422-d9727fd6f936"
      },
      "execution_count": 128,
      "outputs": [
        {
          "output_type": "display_data",
          "data": {
            "text/plain": [
              "<IPython.core.display.Javascript object>"
            ],
            "application/javascript": [
              "\n",
              "    async function download(id, filename, size) {\n",
              "      if (!google.colab.kernel.accessAllowed) {\n",
              "        return;\n",
              "      }\n",
              "      const div = document.createElement('div');\n",
              "      const label = document.createElement('label');\n",
              "      label.textContent = `Downloading \"${filename}\": `;\n",
              "      div.appendChild(label);\n",
              "      const progress = document.createElement('progress');\n",
              "      progress.max = size;\n",
              "      div.appendChild(progress);\n",
              "      document.body.appendChild(div);\n",
              "\n",
              "      const buffers = [];\n",
              "      let downloaded = 0;\n",
              "\n",
              "      const channel = await google.colab.kernel.comms.open(id);\n",
              "      // Send a message to notify the kernel that we're ready.\n",
              "      channel.send({})\n",
              "\n",
              "      for await (const message of channel.messages) {\n",
              "        // Send a message to notify the kernel that we're ready.\n",
              "        channel.send({})\n",
              "        if (message.buffers) {\n",
              "          for (const buffer of message.buffers) {\n",
              "            buffers.push(buffer);\n",
              "            downloaded += buffer.byteLength;\n",
              "            progress.value = downloaded;\n",
              "          }\n",
              "        }\n",
              "      }\n",
              "      const blob = new Blob(buffers, {type: 'application/binary'});\n",
              "      const a = document.createElement('a');\n",
              "      a.href = window.URL.createObjectURL(blob);\n",
              "      a.download = filename;\n",
              "      div.appendChild(a);\n",
              "      a.click();\n",
              "      div.remove();\n",
              "    }\n",
              "  "
            ]
          },
          "metadata": {}
        },
        {
          "output_type": "display_data",
          "data": {
            "text/plain": [
              "<IPython.core.display.Javascript object>"
            ],
            "application/javascript": [
              "download(\"download_335dbdd4-7957-4190-86e1-cd0be129938e\", \"final_output.mp4\", 5303063)"
            ]
          },
          "metadata": {}
        }
      ]
    }
  ],
  "metadata": {
    "colab": {
      "provenance": []
    },
    "kernelspec": {
      "display_name": "Python 3",
      "name": "python3"
    },
    "language_info": {
      "name": "python"
    }
  },
  "nbformat": 4,
  "nbformat_minor": 0
}